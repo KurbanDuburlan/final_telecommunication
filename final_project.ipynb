{
 "cells": [
  {
   "cell_type": "markdown",
   "metadata": {},
   "source": [
    "# Проект телекоммуникации \n",
    "                                            \n",
    "                                            \n",
    "\n",
    "## Введение\n",
    "\n",
    "## Цель проекта:\n",
    "Целью проекта является разработка модели прогнозирования оттока клиентов для оператора связи \"Ниединогоразрыва.ком\". Модель будет основываться на анализе данных о клиентах, их услугах и договорах, а также на применении методов машинного обучения для определения клиентов, которые могут покинуть оператора в будущем. Это позволит оператору предложить специальные условия и стимулирующие акции для удержания таких клиентов.\n",
    "\n",
    "## Задачи проекта:\n",
    "1. **Подготовка данных:**\n",
    "   - Объединение данных из файлов contract_new.csv, personal_new.csv, internet_new.csv и phone_new.csv.\n",
    "\n",
    "\n",
    "2. **Исследовательский анализ данных (EDA):**\n",
    "   - Анализ распределений признаков и статистик.\n",
    "   - Визуализация данных для выявления паттернов.\n",
    "   \n",
    "\n",
    "3. **Отбор признаков:**\n",
    "   - Исследование корреляций между признаками.\n",
    "   - Выявление наиболее значимых признаков, влияющих на отток клиентов.\n",
    "   \n",
    "\n",
    "4. **Построение модели:**\n",
    "   - Выбор подходящего алгоритма машинного обучения.\n",
    "   - Разделение данных на обучающую и тестовую выборки.\n",
    "   - Обучение модели на обучающих данных.\n",
    "   \n",
    "\n",
    "5. **Оценка модели:**\n",
    "   - Использование метрик (ROC-AUC, accuracy) для оценки производительности модели.\n",
    "   - Оптимизация гиперпараметров модели для достижения наилучшей производительности.\n",
    "   - Анализ результатов прогнозирования: А) анализ важности признаков; Б) анализ матрицы ошибок\n",
    "   \n",
    "   \n",
    "6. **Написание отчета**\n",
    "\n",
    "\n",
    "## Оглавление:\n",
    "1. Введение\n",
    "   - Описание задачи\n",
    "   - Значимость прогнозирования оттока для оператора связи\n",
    "   \n",
    "\n",
    "2. Подготовка данных\n",
    "   - Обзор исходных данных\n",
    "   - Объединение данных из разных файлов\n",
    "   \n",
    "   \n",
    "3. Исследовательский анализ данных (EDA)\n",
    "   - Анализ распределений признаков\n",
    "   - Визуализация данных\n",
    "   \n",
    "\n",
    "4. Отбор признаков\n",
    "   - Исследование корреляций между признаками.\n",
    "   - Выявление ключевых признаков, влияющих на отток\n",
    "   \n",
    "\n",
    "5. Построение и обучение модели\n",
    "   - Выбор алгоритма машинного обучения\n",
    "   - Разделение данных на выборки\n",
    "   - Обучение модели\n",
    "   \n",
    "\n",
    "6. Оценка модели\n",
    "   - Используемые метрики оценки\n",
    "   - Оптимизация параметров модели\n",
    "   - Анализ результатов прогнозирования: А) анализ важности признаков; Б) анализ матрицы ошибок \n",
    "   \n",
    "\n",
    "7. Отчет"
   ]
  },
  {
   "cell_type": "code",
   "execution_count": 1,
   "metadata": {},
   "outputs": [
    {
     "name": "stdout",
     "output_type": "stream",
     "text": [
      "Requirement already satisfied: phik in /opt/conda/lib/python3.9/site-packages (0.12.4)\n",
      "Requirement already satisfied: pandas>=0.25.1 in /opt/conda/lib/python3.9/site-packages (from phik) (1.2.4)\n",
      "Requirement already satisfied: scipy>=1.5.2 in /opt/conda/lib/python3.9/site-packages (from phik) (1.9.1)\n",
      "Requirement already satisfied: matplotlib>=2.2.3 in /opt/conda/lib/python3.9/site-packages (from phik) (3.3.4)\n",
      "Requirement already satisfied: joblib>=0.14.1 in /opt/conda/lib/python3.9/site-packages (from phik) (1.3.2)\n",
      "Requirement already satisfied: numpy>=1.18.0 in /opt/conda/lib/python3.9/site-packages (from phik) (1.21.1)\n",
      "Requirement already satisfied: kiwisolver>=1.0.1 in /opt/conda/lib/python3.9/site-packages (from matplotlib>=2.2.3->phik) (1.4.4)\n",
      "Requirement already satisfied: pyparsing!=2.0.4,!=2.1.2,!=2.1.6,>=2.0.3 in /opt/conda/lib/python3.9/site-packages (from matplotlib>=2.2.3->phik) (2.4.7)\n",
      "Requirement already satisfied: cycler>=0.10 in /opt/conda/lib/python3.9/site-packages (from matplotlib>=2.2.3->phik) (0.11.0)\n",
      "Requirement already satisfied: pillow>=6.2.0 in /opt/conda/lib/python3.9/site-packages (from matplotlib>=2.2.3->phik) (8.4.0)\n",
      "Requirement already satisfied: python-dateutil>=2.1 in /opt/conda/lib/python3.9/site-packages (from matplotlib>=2.2.3->phik) (2.8.1)\n",
      "Requirement already satisfied: pytz>=2017.3 in /opt/conda/lib/python3.9/site-packages (from pandas>=0.25.1->phik) (2021.1)\n",
      "Requirement already satisfied: six>=1.5 in /opt/conda/lib/python3.9/site-packages (from python-dateutil>=2.1->matplotlib>=2.2.3->phik) (1.16.0)\n",
      "Requirement already satisfied: shap in /opt/conda/lib/python3.9/site-packages (0.44.1)\n",
      "Requirement already satisfied: tqdm>=4.27.0 in /opt/conda/lib/python3.9/site-packages (from shap) (4.61.2)\n",
      "Requirement already satisfied: packaging>20.9 in /opt/conda/lib/python3.9/site-packages (from shap) (21.3)\n",
      "Requirement already satisfied: cloudpickle in /opt/conda/lib/python3.9/site-packages (from shap) (3.0.0)\n",
      "Requirement already satisfied: numpy in /opt/conda/lib/python3.9/site-packages (from shap) (1.21.1)\n",
      "Requirement already satisfied: scipy in /opt/conda/lib/python3.9/site-packages (from shap) (1.9.1)\n",
      "Requirement already satisfied: slicer==0.0.7 in /opt/conda/lib/python3.9/site-packages (from shap) (0.0.7)\n",
      "Requirement already satisfied: numba in /opt/conda/lib/python3.9/site-packages (from shap) (0.56.0)\n",
      "Requirement already satisfied: scikit-learn in /opt/conda/lib/python3.9/site-packages (from shap) (1.4.1.post1)\n",
      "Requirement already satisfied: pandas in /opt/conda/lib/python3.9/site-packages (from shap) (1.2.4)\n",
      "Requirement already satisfied: pyparsing!=3.0.5,>=2.0.2 in /opt/conda/lib/python3.9/site-packages (from packaging>20.9->shap) (2.4.7)\n",
      "Requirement already satisfied: llvmlite<0.40,>=0.39.0dev0 in /opt/conda/lib/python3.9/site-packages (from numba->shap) (0.39.0)\n",
      "Requirement already satisfied: setuptools in /opt/conda/lib/python3.9/site-packages (from numba->shap) (49.6.0.post20210108)\n",
      "Requirement already satisfied: python-dateutil>=2.7.3 in /opt/conda/lib/python3.9/site-packages (from pandas->shap) (2.8.1)\n",
      "Requirement already satisfied: pytz>=2017.3 in /opt/conda/lib/python3.9/site-packages (from pandas->shap) (2021.1)\n",
      "Requirement already satisfied: six>=1.5 in /opt/conda/lib/python3.9/site-packages (from python-dateutil>=2.7.3->pandas->shap) (1.16.0)\n",
      "Requirement already satisfied: threadpoolctl>=2.0.0 in /opt/conda/lib/python3.9/site-packages (from scikit-learn->shap) (3.1.0)\n",
      "Requirement already satisfied: joblib>=1.2.0 in /opt/conda/lib/python3.9/site-packages (from scikit-learn->shap) (1.3.2)\n",
      "Requirement already satisfied: imbalanced-learn in /opt/conda/lib/python3.9/site-packages (0.12.0)\n",
      "Requirement already satisfied: scikit-learn>=1.0.2 in /opt/conda/lib/python3.9/site-packages (from imbalanced-learn) (1.4.1.post1)\n",
      "Requirement already satisfied: scipy>=1.5.0 in /opt/conda/lib/python3.9/site-packages (from imbalanced-learn) (1.9.1)\n",
      "Requirement already satisfied: threadpoolctl>=2.0.0 in /opt/conda/lib/python3.9/site-packages (from imbalanced-learn) (3.1.0)\n",
      "Requirement already satisfied: numpy>=1.17.3 in /opt/conda/lib/python3.9/site-packages (from imbalanced-learn) (1.21.1)\n",
      "Requirement already satisfied: joblib>=1.1.1 in /opt/conda/lib/python3.9/site-packages (from imbalanced-learn) (1.3.2)\n"
     ]
    }
   ],
   "source": [
    "!pip install phik\n",
    "!pip install shap\n",
    "!pip install -U imbalanced-learn\n",
    "\n",
    "import numpy as np\n",
    "import pandas as pd\n",
    "import matplotlib.pyplot as plt\n",
    "import seaborn as sns\n",
    "from datetime import datetime\n",
    "from sklearn.preprocessing import OneHotEncoder\n",
    "from sklearn.model_selection import train_test_split, cross_val_score, GridSearchCV, StratifiedKFold\n",
    "from sklearn.preprocessing import StandardScaler, OrdinalEncoder\n",
    "from sklearn.compose import ColumnTransformer\n",
    "from sklearn.pipeline import Pipeline\n",
    "from sklearn.ensemble import RandomForestClassifier, GradientBoostingClassifier\n",
    "from sklearn.linear_model import LogisticRegression\n",
    "import xgboost as xgb\n",
    "import lightgbm as lgb\n",
    "from sklearn.metrics import roc_auc_score, accuracy_score, classification_report, confusion_matrix\n",
    "import shap\n",
    "import phik"
   ]
  },
  {
   "cell_type": "code",
   "execution_count": 2,
   "metadata": {},
   "outputs": [],
   "source": [
    "# Загрузка данных из файлов\n",
    "contract_data = pd.read_csv(\"/datasets/contract_new.csv\")\n",
    "personal_data = pd.read_csv(\"/datasets/personal_new.csv\")\n",
    "internet_data = pd.read_csv(\"/datasets/internet_new.csv\")\n",
    "phone_data = pd.read_csv(\"/datasets/phone_new.csv\")"
   ]
  },
  {
   "cell_type": "code",
   "execution_count": 3,
   "metadata": {},
   "outputs": [],
   "source": [
    "# Загрузка данных из файлов\n",
    "#contract_data = pd.read_csv('C:/Users/Kurban/Downloads/contract_new.csv')\n",
    "#personal_data = pd.read_csv('C:/Users/Kurban/Downloads/personal_new.csv')\n",
    "#internet_data = pd.read_csv('C:/Users/Kurban/Downloads/internet_new.csv')\n",
    "#phone_data = pd.read_csv(\"C:/Users/Kurban/Downloads/phone_new.csv\")"
   ]
  },
  {
   "cell_type": "markdown",
   "metadata": {},
   "source": [
    "Функция, которая объединяет использование методов describe, head, tail, shape и info, isnull и sum для каждого датасета"
   ]
  },
  {
   "cell_type": "markdown",
   "metadata": {},
   "source": [
    "###  Подготовка и исследовательский анализ данных "
   ]
  },
  {
   "cell_type": "code",
   "execution_count": 4,
   "metadata": {},
   "outputs": [],
   "source": [
    "def explore_dataset(dataset_name, dataset):\n",
    "    # Вывод информации о датасете\n",
    "    print(f\"Исследуем датасет {dataset_name}:\")\n",
    "\n",
    "    # Вывод размерности датасета\n",
    "    print(\"Размер:\")\n",
    "    print(dataset.shape)\n",
    "\n",
    "    # Вывод общей информации о датасете, включая количество пропущенных значений\n",
    "    print(\"\\nИнформация:\")\n",
    "    print(dataset.info())\n",
    "\n",
    "    # Выявление пропущенных значений\n",
    "    missing_values = dataset.isnull().sum()\n",
    "    print(\"\\nПропущенные значения:\")\n",
    "    print(missing_values)\n",
    "\n",
    "    # Вывод первых нескольких строк датасета\n",
    "    print(\"\\nПервые строки:\")\n",
    "    print(dataset.head())\n",
    "\n",
    "    # Вывод последних нескольких строк датасета\n",
    "    print(\"\\nПоследние строки:\")\n",
    "    print(dataset.tail())\n",
    "\n",
    "    # Вывод статистики по числовым признакам\n",
    "    print(\"\\nОписательная статистика:\")\n",
    "    print(dataset.describe())\n",
    "\n",
    "    print(\"\\n---------------------------\\n\")"
   ]
  },
  {
   "cell_type": "code",
   "execution_count": 5,
   "metadata": {
    "scrolled": true
   },
   "outputs": [
    {
     "name": "stdout",
     "output_type": "stream",
     "text": [
      "Исследуем датасет Договор:\n",
      "Размер:\n",
      "(7043, 8)\n",
      "\n",
      "Информация:\n",
      "<class 'pandas.core.frame.DataFrame'>\n",
      "RangeIndex: 7043 entries, 0 to 7042\n",
      "Data columns (total 8 columns):\n",
      " #   Column            Non-Null Count  Dtype  \n",
      "---  ------            --------------  -----  \n",
      " 0   customerID        7043 non-null   object \n",
      " 1   BeginDate         7043 non-null   object \n",
      " 2   EndDate           7043 non-null   object \n",
      " 3   Type              7043 non-null   object \n",
      " 4   PaperlessBilling  7043 non-null   object \n",
      " 5   PaymentMethod     7043 non-null   object \n",
      " 6   MonthlyCharges    7043 non-null   float64\n",
      " 7   TotalCharges      7043 non-null   object \n",
      "dtypes: float64(1), object(7)\n",
      "memory usage: 440.3+ KB\n",
      "None\n",
      "\n",
      "Пропущенные значения:\n",
      "customerID          0\n",
      "BeginDate           0\n",
      "EndDate             0\n",
      "Type                0\n",
      "PaperlessBilling    0\n",
      "PaymentMethod       0\n",
      "MonthlyCharges      0\n",
      "TotalCharges        0\n",
      "dtype: int64\n",
      "\n",
      "Первые строки:\n",
      "   customerID   BeginDate EndDate            Type PaperlessBilling  \\\n",
      "0  7590-VHVEG  2020-01-01      No  Month-to-month              Yes   \n",
      "1  5575-GNVDE  2017-04-01      No        One year               No   \n",
      "2  3668-QPYBK  2019-10-01      No  Month-to-month              Yes   \n",
      "3  7795-CFOCW  2016-05-01      No        One year               No   \n",
      "4  9237-HQITU  2019-09-01      No  Month-to-month              Yes   \n",
      "\n",
      "               PaymentMethod  MonthlyCharges TotalCharges  \n",
      "0           Electronic check           29.85        31.04  \n",
      "1               Mailed check           56.95      2071.84  \n",
      "2               Mailed check           53.85       226.17  \n",
      "3  Bank transfer (automatic)           42.30       1960.6  \n",
      "4           Electronic check           70.70        353.5  \n",
      "\n",
      "Последние строки:\n",
      "      customerID   BeginDate EndDate            Type PaperlessBilling  \\\n",
      "7038  6840-RESVB  2018-02-01      No        One year              Yes   \n",
      "7039  2234-XADUH  2014-02-01      No        One year              Yes   \n",
      "7040  4801-JZAZL  2019-03-01      No  Month-to-month              Yes   \n",
      "7041  8361-LTMKD  2019-07-01      No  Month-to-month              Yes   \n",
      "7042  3186-AJIEK  2014-08-01      No        Two year              Yes   \n",
      "\n",
      "                  PaymentMethod  MonthlyCharges TotalCharges  \n",
      "7038               Mailed check           84.80       2035.2  \n",
      "7039    Credit card (automatic)          103.20       7430.4  \n",
      "7040           Electronic check           29.60        325.6  \n",
      "7041               Mailed check           74.40        520.8  \n",
      "7042  Bank transfer (automatic)          105.65      7251.82  \n",
      "\n",
      "Описательная статистика:\n",
      "       MonthlyCharges\n",
      "count     7043.000000\n",
      "mean        64.761692\n",
      "std         30.090047\n",
      "min         18.250000\n",
      "25%         35.500000\n",
      "50%         70.350000\n",
      "75%         89.850000\n",
      "max        118.750000\n",
      "\n",
      "---------------------------\n",
      "\n"
     ]
    }
   ],
   "source": [
    "# Исследование каждого датасета\n",
    "explore_dataset(\"Договор\", contract_data)"
   ]
  },
  {
   "cell_type": "code",
   "execution_count": 6,
   "metadata": {},
   "outputs": [
    {
     "data": {
      "image/png": "[encoded data removed]",
      "text/plain": [
       "<Figure size 720x432 with 1 Axes>"
      ]
     },
     "metadata": {
      "needs_background": "light"
     },
     "output_type": "display_data"
    }
   ],
   "source": [
    "# Гистограмма распределения ежемесячных платежей\n",
    "plt.figure(figsize=(10, 6))\n",
    "sns.histplot(data=contract_data, x=\"MonthlyCharges\", bins=30, kde=True)\n",
    "plt.title(\"Распределение ежемесячных платежей в Договоре\")\n",
    "plt.xlabel(\"Ежемесячные платежи\")\n",
    "plt.ylabel(\"Частота\")\n",
    "plt.show()"
   ]
  },
  {
   "cell_type": "markdown",
   "metadata": {},
   "source": [
    "Из данного графика можно сделать вывод, что наибольшее количество клиентов имеют ежемесячные платежи в диапазоне до 100 долларов. Однако, интересно заметить, что имеется большой пик в районе 20 тысяч долларов ежемесячных платежей, что может указывать на какой-то особый план или услугу среди небольшой группы клиентов, которые платят именно эту сумму."
   ]
  },
  {
   "cell_type": "code",
   "execution_count": 7,
   "metadata": {
    "scrolled": true
   },
   "outputs": [
    {
     "name": "stdout",
     "output_type": "stream",
     "text": [
      "Исследуем датасет Персональные данные:\n",
      "Размер:\n",
      "(7043, 5)\n",
      "\n",
      "Информация:\n",
      "<class 'pandas.core.frame.DataFrame'>\n",
      "RangeIndex: 7043 entries, 0 to 7042\n",
      "Data columns (total 5 columns):\n",
      " #   Column         Non-Null Count  Dtype \n",
      "---  ------         --------------  ----- \n",
      " 0   customerID     7043 non-null   object\n",
      " 1   gender         7043 non-null   object\n",
      " 2   SeniorCitizen  7043 non-null   int64 \n",
      " 3   Partner        7043 non-null   object\n",
      " 4   Dependents     7043 non-null   object\n",
      "dtypes: int64(1), object(4)\n",
      "memory usage: 275.2+ KB\n",
      "None\n",
      "\n",
      "Пропущенные значения:\n",
      "customerID       0\n",
      "gender           0\n",
      "SeniorCitizen    0\n",
      "Partner          0\n",
      "Dependents       0\n",
      "dtype: int64\n",
      "\n",
      "Первые строки:\n",
      "   customerID  gender  SeniorCitizen Partner Dependents\n",
      "0  7590-VHVEG  Female              0     Yes         No\n",
      "1  5575-GNVDE    Male              0      No         No\n",
      "2  3668-QPYBK    Male              0      No         No\n",
      "3  7795-CFOCW    Male              0      No         No\n",
      "4  9237-HQITU  Female              0      No         No\n",
      "\n",
      "Последние строки:\n",
      "      customerID  gender  SeniorCitizen Partner Dependents\n",
      "7038  6840-RESVB    Male              0     Yes        Yes\n",
      "7039  2234-XADUH  Female              0     Yes        Yes\n",
      "7040  4801-JZAZL  Female              0     Yes        Yes\n",
      "7041  8361-LTMKD    Male              1     Yes         No\n",
      "7042  3186-AJIEK    Male              0      No         No\n",
      "\n",
      "Описательная статистика:\n",
      "       SeniorCitizen\n",
      "count    7043.000000\n",
      "mean        0.162147\n",
      "std         0.368612\n",
      "min         0.000000\n",
      "25%         0.000000\n",
      "50%         0.000000\n",
      "75%         0.000000\n",
      "max         1.000000\n",
      "\n",
      "---------------------------\n",
      "\n"
     ]
    }
   ],
   "source": [
    "explore_dataset(\"Персональные данные\", personal_data)"
   ]
  },
  {
   "cell_type": "code",
   "execution_count": 8,
   "metadata": {},
   "outputs": [
    {
     "data": {
      "image/png": "[encoded data removed]",
      "text/plain": [
       "<Figure size 432x288 with 1 Axes>"
      ]
     },
     "metadata": {
      "needs_background": "light"
     },
     "output_type": "display_data"
    }
   ],
   "source": [
    "plt.figure(figsize=(6, 4))\n",
    "sns.countplot(data=personal_data, x='SeniorCitizen')\n",
    "plt.title(\"Распределение по статусу пожилого клиента\")\n",
    "plt.xlabel(\"Пожилой клиент\")\n",
    "plt.ylabel(\"Количество клиентов\")\n",
    "plt.show()"
   ]
  },
  {
   "cell_type": "code",
   "execution_count": 9,
   "metadata": {},
   "outputs": [
    {
     "data": {
      "image/png": "[encoded data removed]",
      "text/plain": [
       "<Figure size 432x288 with 1 Axes>"
      ]
     },
     "metadata": {
      "needs_background": "light"
     },
     "output_type": "display_data"
    }
   ],
   "source": [
    "plt.figure(figsize=(6, 4))\n",
    "sns.histplot(data=personal_data, x='SeniorCitizen', bins=2, kde=False)\n",
    "plt.title(\"Распределение по статусу пожилого клиента\")\n",
    "plt.xlabel(\"Пожилой клиент\")\n",
    "plt.ylabel(\"Количество клиентов\")\n",
    "plt.xticks([0, 1], ['Не пожилой', 'Пожилой'])\n",
    "plt.show()"
   ]
  },
  {
   "cell_type": "code",
   "execution_count": 10,
   "metadata": {
    "scrolled": true
   },
   "outputs": [
    {
     "name": "stdout",
     "output_type": "stream",
     "text": [
      "Исследуем датасет Интернет-услуги:\n",
      "Размер:\n",
      "(5517, 8)\n",
      "\n",
      "Информация:\n",
      "<class 'pandas.core.frame.DataFrame'>\n",
      "RangeIndex: 5517 entries, 0 to 5516\n",
      "Data columns (total 8 columns):\n",
      " #   Column            Non-Null Count  Dtype \n",
      "---  ------            --------------  ----- \n",
      " 0   customerID        5517 non-null   object\n",
      " 1   InternetService   5517 non-null   object\n",
      " 2   OnlineSecurity    5517 non-null   object\n",
      " 3   OnlineBackup      5517 non-null   object\n",
      " 4   DeviceProtection  5517 non-null   object\n",
      " 5   TechSupport       5517 non-null   object\n",
      " 6   StreamingTV       5517 non-null   object\n",
      " 7   StreamingMovies   5517 non-null   object\n",
      "dtypes: object(8)\n",
      "memory usage: 344.9+ KB\n",
      "None\n",
      "\n",
      "Пропущенные значения:\n",
      "customerID          0\n",
      "InternetService     0\n",
      "OnlineSecurity      0\n",
      "OnlineBackup        0\n",
      "DeviceProtection    0\n",
      "TechSupport         0\n",
      "StreamingTV         0\n",
      "StreamingMovies     0\n",
      "dtype: int64\n",
      "\n",
      "Первые строки:\n",
      "   customerID InternetService OnlineSecurity OnlineBackup DeviceProtection  \\\n",
      "0  7590-VHVEG             DSL             No          Yes               No   \n",
      "1  5575-GNVDE             DSL            Yes           No              Yes   \n",
      "2  3668-QPYBK             DSL            Yes          Yes               No   \n",
      "3  7795-CFOCW             DSL            Yes           No              Yes   \n",
      "4  9237-HQITU     Fiber optic             No           No               No   \n",
      "\n",
      "  TechSupport StreamingTV StreamingMovies  \n",
      "0          No          No              No  \n",
      "1          No          No              No  \n",
      "2          No          No              No  \n",
      "3         Yes          No              No  \n",
      "4          No          No              No  \n",
      "\n",
      "Последние строки:\n",
      "      customerID InternetService OnlineSecurity OnlineBackup DeviceProtection  \\\n",
      "5512  6840-RESVB             DSL            Yes           No              Yes   \n",
      "5513  2234-XADUH     Fiber optic             No          Yes              Yes   \n",
      "5514  4801-JZAZL             DSL            Yes           No               No   \n",
      "5515  8361-LTMKD     Fiber optic             No           No               No   \n",
      "5516  3186-AJIEK     Fiber optic            Yes           No              Yes   \n",
      "\n",
      "     TechSupport StreamingTV StreamingMovies  \n",
      "5512         Yes         Yes             Yes  \n",
      "5513          No         Yes             Yes  \n",
      "5514          No          No              No  \n",
      "5515          No          No              No  \n",
      "5516         Yes         Yes             Yes  \n",
      "\n",
      "Описательная статистика:\n",
      "        customerID InternetService OnlineSecurity OnlineBackup  \\\n",
      "count         5517            5517           5517         5517   \n",
      "unique        5517               2              2            2   \n",
      "top     1587-FKLZB     Fiber optic             No           No   \n",
      "freq             1            3096           3498         3088   \n",
      "\n",
      "       DeviceProtection TechSupport StreamingTV StreamingMovies  \n",
      "count              5517        5517        5517            5517  \n",
      "unique                2           2           2               2  \n",
      "top                  No          No          No              No  \n",
      "freq               3095        3473        2810            2785  \n",
      "\n",
      "---------------------------\n",
      "\n"
     ]
    }
   ],
   "source": [
    "explore_dataset(\"Интернет-услуги\", internet_data)"
   ]
  },
  {
   "cell_type": "code",
   "execution_count": 11,
   "metadata": {},
   "outputs": [
    {
     "data": {
      "image/png": "[encoded data removed]",
      "text/plain": [
       "<Figure size 576x432 with 1 Axes>"
      ]
     },
     "metadata": {
      "needs_background": "light"
     },
     "output_type": "display_data"
    }
   ],
   "source": [
    "plt.figure(figsize=(8, 6))\n",
    "sns.countplot(data=internet_data, x=\"InternetService\")\n",
    "plt.title(\"Распределение типов интернет-услуг\")\n",
    "plt.xticks(rotation=45)\n",
    "plt.show()"
   ]
  },
  {
   "cell_type": "markdown",
   "metadata": {},
   "source": [
    "На основании визуализации исследования датасета \"Интернет-услуги\" можно сделать вывод, что тип интернет-услуги \"Fiber optic\" более распространен среди клиентов по сравнению с типом \"DSL\"."
   ]
  },
  {
   "cell_type": "code",
   "execution_count": 12,
   "metadata": {
    "scrolled": true
   },
   "outputs": [
    {
     "name": "stdout",
     "output_type": "stream",
     "text": [
      "Исследуем датасет Услуги телефонии:\n",
      "Размер:\n",
      "(6361, 2)\n",
      "\n",
      "Информация:\n",
      "<class 'pandas.core.frame.DataFrame'>\n",
      "RangeIndex: 6361 entries, 0 to 6360\n",
      "Data columns (total 2 columns):\n",
      " #   Column         Non-Null Count  Dtype \n",
      "---  ------         --------------  ----- \n",
      " 0   customerID     6361 non-null   object\n",
      " 1   MultipleLines  6361 non-null   object\n",
      "dtypes: object(2)\n",
      "memory usage: 99.5+ KB\n",
      "None\n",
      "\n",
      "Пропущенные значения:\n",
      "customerID       0\n",
      "MultipleLines    0\n",
      "dtype: int64\n",
      "\n",
      "Первые строки:\n",
      "   customerID MultipleLines\n",
      "0  5575-GNVDE            No\n",
      "1  3668-QPYBK            No\n",
      "2  9237-HQITU            No\n",
      "3  9305-CDSKC           Yes\n",
      "4  1452-KIOVK           Yes\n",
      "\n",
      "Последние строки:\n",
      "      customerID MultipleLines\n",
      "6356  2569-WGERO            No\n",
      "6357  6840-RESVB           Yes\n",
      "6358  2234-XADUH           Yes\n",
      "6359  8361-LTMKD           Yes\n",
      "6360  3186-AJIEK            No\n",
      "\n",
      "Описательная статистика:\n",
      "        customerID MultipleLines\n",
      "count         6361          6361\n",
      "unique        6361             2\n",
      "top     1587-FKLZB            No\n",
      "freq             1          3390\n",
      "\n",
      "---------------------------\n",
      "\n"
     ]
    }
   ],
   "source": [
    "explore_dataset(\"Услуги телефонии\", phone_data)"
   ]
  },
  {
   "cell_type": "markdown",
   "metadata": {},
   "source": [
    "Исследование датасета \"Договор\" позволило выявить следующие наблюдения:\n",
    "\n",
    "- В датасете содержится информация о 7043 договорах.\n",
    "- Основные характеристики договоров включают:\n",
    "  - Номер клиента (\"customerID\").\n",
    "  - Дату начала договора (\"BeginDate\").\n",
    "  - Дату окончания договора (\"EndDate\").\n",
    "  - Тип договора (\"Type\").\n",
    "  - Способ оплаты (\"PaymentMethod\").\n",
    "  - Ежемесячную плату (\"MonthlyCharges\").\n",
    "  - Общую сумму платежей (\"TotalCharges\").\n",
    "  - Показатель бумажного либо бесбумажного биллинга (\"PaperlessBilling\").\n",
    "\n",
    "- В результате анализа датасета:\n",
    "  - Не выявлено пропущенных значений в столбцах.\n",
    "  - Среди типов договоров преобладают \"Month-to-month\" (ежемесячный) и \"Two year\" (двухгодичный), с \"One year\" (годовой) договором наименее распространенным.\n",
    "  - Самый распространенный способ оплаты – \"Electronic check\" (электронный чек).\n",
    "  - Ежемесячные платежи варьируются от 18.25 до 118.75, среднее значение около 64.76.\n",
    "  - Сумма общих платежей также разнообразна и зависит от типа договора и ежемесячной платы.\n",
    "\n",
    "На основе этого анализа можно сделать вывод о разнообразии договоров, способах оплаты и распределении ежемесячных платежей. Эти данные могут быть использованы для определения стратегий управления клиентами, прогнозирования доходов и оптимизации услуг.\n",
    "\n",
    "Исследование датасета \"Персональные данные\" позволило выявить следующее:\n",
    "\n",
    "В данном датасете представлено 7043 записи о клиентах.\n",
    "Столбец \"SeniorCitizen\" указывает на статус пожилого клиента, где 1 означает, что клиент является пожилым, а 0 – что не пожилым.\n",
    "В результате анализа столбца \"SeniorCitizen\" выяснилось, что количество не пожилых клиентов составляет около 6000, тогда как пожилых клиентов – менее 1000. Это позволяет сделать вывод о том, что основная часть клиентов не является пожилыми.\n",
    "Этот вывод может быть полезным при формировании стратегий обслуживания и маркетинговых кампаний, учитывая, что пожилые и не пожилые клиенты могут иметь разные потребности и предпочтения.\n",
    "\n",
    "\n",
    "Анализ датасета \"Интернет-услуги\" позволяет сделать следующие выводы:\n",
    "\n",
    "- В датасете представлена информация о 5517 записях о клиентах и их использовании интернет-услуг.\n",
    "- Основные атрибуты включают:\n",
    "  - Номер клиента (\"customerID\").\n",
    "  - Тип интернет-сервиса (\"InternetService\").\n",
    "  - Наличие защиты онлайн (\"OnlineSecurity\").\n",
    "  - Наличие резервного копирования онлайн (\"OnlineBackup\").\n",
    "  - Наличие защиты устройства (\"DeviceProtection\").\n",
    "  - Наличие технической поддержки (\"TechSupport\").\n",
    "  - Наличие потокового телевидения (\"StreamingTV\").\n",
    "  - Наличие потокового кино (\"StreamingMovies\").\n",
    "\n",
    "- Выводы из анализа:\n",
    "  - В столбце \"InternetService\" наиболее распространенным типом интернет-сервиса является \"Fiber optic\", который составляет большую часть предоставленных услуг.\n",
    "  - Среди клиентов предоставляется разнообразие услуг безопасности, резервного копирования, защиты устройства, технической поддержки, потокового телевидения и кино.\n",
    "  - \"Fiber optic\" предоставляет максимальное количество услуг, что может объяснить его более высокую популярность среди клиентов.\n",
    "  - Сервисы безопасности и резервного копирования чаще отсутствуют у пользователей \"Fiber optic\".\n",
    "\n",
    "На основе этих наблюдений можно сделать вывод, что \"Fiber optic\" – наиболее востребованный тип интернет-сервиса среди клиентов. Однако некоторые дополнительные услуги, такие как защита онлайн и резервное копирование, часто отсутствуют для клиентов этого типа интернет-сервиса. Это может быть полезной информацией для дальнейшего анализа и улучшения предоставляемых услуг.\n",
    "\n",
    "Из анализа датасета \"Услуги телефонии\" (Phone Services) можно сделать следующие выводы:\n",
    "\n",
    "Датасет содержит информацию о клиентах и наличии у них дополнительных линий связи (\"MultipleLines\").\n",
    "\n",
    "Всего в датасете 6361 записей.\n",
    "Пропущенных значений нет.\n",
    "Большинство клиентов (более половины) не использует дополнительные линии связи (MultipleLines = \"No\").\n",
    "Около половины клиентов использует дополнительные линии связи (MultipleLines = \"Yes\"). "
   ]
  },
  {
   "cell_type": "markdown",
   "metadata": {},
   "source": [
    "### Отбор признаков"
   ]
  },
  {
   "cell_type": "code",
   "execution_count": 13,
   "metadata": {
    "scrolled": true
   },
   "outputs": [
    {
     "name": "stdout",
     "output_type": "stream",
     "text": [
      "Исследуем датасет Объединенные данные:\n",
      "Размер:\n",
      "(7043, 20)\n",
      "\n",
      "Информация:\n",
      "<class 'pandas.core.frame.DataFrame'>\n",
      "Int64Index: 7043 entries, 0 to 7042\n",
      "Data columns (total 20 columns):\n",
      " #   Column            Non-Null Count  Dtype  \n",
      "---  ------            --------------  -----  \n",
      " 0   customerID        7043 non-null   object \n",
      " 1   BeginDate         7043 non-null   object \n",
      " 2   EndDate           7043 non-null   object \n",
      " 3   Type              7043 non-null   object \n",
      " 4   PaperlessBilling  7043 non-null   object \n",
      " 5   PaymentMethod     7043 non-null   object \n",
      " 6   MonthlyCharges    7043 non-null   float64\n",
      " 7   TotalCharges      7043 non-null   object \n",
      " 8   gender            7043 non-null   object \n",
      " 9   SeniorCitizen     7043 non-null   int64  \n",
      " 10  Partner           7043 non-null   object \n",
      " 11  Dependents        7043 non-null   object \n",
      " 12  InternetService   5517 non-null   object \n",
      " 13  OnlineSecurity    5517 non-null   object \n",
      " 14  OnlineBackup      5517 non-null   object \n",
      " 15  DeviceProtection  5517 non-null   object \n",
      " 16  TechSupport       5517 non-null   object \n",
      " 17  StreamingTV       5517 non-null   object \n",
      " 18  StreamingMovies   5517 non-null   object \n",
      " 19  MultipleLines     6361 non-null   object \n",
      "dtypes: float64(1), int64(1), object(18)\n",
      "memory usage: 1.1+ MB\n",
      "None\n",
      "\n",
      "Пропущенные значения:\n",
      "customerID             0\n",
      "BeginDate              0\n",
      "EndDate                0\n",
      "Type                   0\n",
      "PaperlessBilling       0\n",
      "PaymentMethod          0\n",
      "MonthlyCharges         0\n",
      "TotalCharges           0\n",
      "gender                 0\n",
      "SeniorCitizen          0\n",
      "Partner                0\n",
      "Dependents             0\n",
      "InternetService     1526\n",
      "OnlineSecurity      1526\n",
      "OnlineBackup        1526\n",
      "DeviceProtection    1526\n",
      "TechSupport         1526\n",
      "StreamingTV         1526\n",
      "StreamingMovies     1526\n",
      "MultipleLines        682\n",
      "dtype: int64\n",
      "\n",
      "Первые строки:\n",
      "   customerID   BeginDate EndDate            Type PaperlessBilling  \\\n",
      "0  7590-VHVEG  2020-01-01      No  Month-to-month              Yes   \n",
      "1  5575-GNVDE  2017-04-01      No        One year               No   \n",
      "2  3668-QPYBK  2019-10-01      No  Month-to-month              Yes   \n",
      "3  7795-CFOCW  2016-05-01      No        One year               No   \n",
      "4  9237-HQITU  2019-09-01      No  Month-to-month              Yes   \n",
      "\n",
      "               PaymentMethod  MonthlyCharges TotalCharges  gender  \\\n",
      "0           Electronic check           29.85        31.04  Female   \n",
      "1               Mailed check           56.95      2071.84    Male   \n",
      "2               Mailed check           53.85       226.17    Male   \n",
      "3  Bank transfer (automatic)           42.30       1960.6    Male   \n",
      "4           Electronic check           70.70        353.5  Female   \n",
      "\n",
      "   SeniorCitizen Partner Dependents InternetService OnlineSecurity  \\\n",
      "0              0     Yes         No             DSL             No   \n",
      "1              0      No         No             DSL            Yes   \n",
      "2              0      No         No             DSL            Yes   \n",
      "3              0      No         No             DSL            Yes   \n",
      "4              0      No         No     Fiber optic             No   \n",
      "\n",
      "  OnlineBackup DeviceProtection TechSupport StreamingTV StreamingMovies  \\\n",
      "0          Yes               No          No          No              No   \n",
      "1           No              Yes          No          No              No   \n",
      "2          Yes               No          No          No              No   \n",
      "3           No              Yes         Yes          No              No   \n",
      "4           No               No          No          No              No   \n",
      "\n",
      "  MultipleLines  \n",
      "0           NaN  \n",
      "1            No  \n",
      "2            No  \n",
      "3           NaN  \n",
      "4            No  \n",
      "\n",
      "Последние строки:\n",
      "      customerID   BeginDate EndDate            Type PaperlessBilling  \\\n",
      "7038  6840-RESVB  2018-02-01      No        One year              Yes   \n",
      "7039  2234-XADUH  2014-02-01      No        One year              Yes   \n",
      "7040  4801-JZAZL  2019-03-01      No  Month-to-month              Yes   \n",
      "7041  8361-LTMKD  2019-07-01      No  Month-to-month              Yes   \n",
      "7042  3186-AJIEK  2014-08-01      No        Two year              Yes   \n",
      "\n",
      "                  PaymentMethod  MonthlyCharges TotalCharges  gender  \\\n",
      "7038               Mailed check           84.80       2035.2    Male   \n",
      "7039    Credit card (automatic)          103.20       7430.4  Female   \n",
      "7040           Electronic check           29.60        325.6  Female   \n",
      "7041               Mailed check           74.40        520.8    Male   \n",
      "7042  Bank transfer (automatic)          105.65      7251.82    Male   \n",
      "\n",
      "      SeniorCitizen Partner Dependents InternetService OnlineSecurity  \\\n",
      "7038              0     Yes        Yes             DSL            Yes   \n",
      "7039              0     Yes        Yes     Fiber optic             No   \n",
      "7040              0     Yes        Yes             DSL            Yes   \n",
      "7041              1     Yes         No     Fiber optic             No   \n",
      "7042              0      No         No     Fiber optic            Yes   \n",
      "\n",
      "     OnlineBackup DeviceProtection TechSupport StreamingTV StreamingMovies  \\\n",
      "7038           No              Yes         Yes         Yes             Yes   \n",
      "7039          Yes              Yes          No         Yes             Yes   \n",
      "7040           No               No          No          No              No   \n",
      "7041           No               No          No          No              No   \n",
      "7042           No              Yes         Yes         Yes             Yes   \n",
      "\n",
      "     MultipleLines  \n",
      "7038           Yes  \n",
      "7039           Yes  \n",
      "7040           NaN  \n",
      "7041           Yes  \n",
      "7042            No  \n",
      "\n",
      "Описательная статистика:\n",
      "       MonthlyCharges  SeniorCitizen\n",
      "count     7043.000000    7043.000000\n",
      "mean        64.761692       0.162147\n",
      "std         30.090047       0.368612\n",
      "min         18.250000       0.000000\n",
      "25%         35.500000       0.000000\n",
      "50%         70.350000       0.000000\n",
      "75%         89.850000       0.000000\n",
      "max        118.750000       1.000000\n",
      "\n",
      "---------------------------\n",
      "\n",
      "None\n"
     ]
    }
   ],
   "source": [
    "# Объединение данных по общему идентификатору customerID\n",
    "merged_data = contract_data.merge(personal_data, on=\"customerID\", how=\"inner\")\n",
    "merged_data = merged_data.merge(internet_data, on=\"customerID\", how=\"left\")\n",
    "merged_data = merged_data.merge(phone_data, on=\"customerID\", how=\"left\")\n",
    "\n",
    "# Результат объединения данных\n",
    "print(explore_dataset(\"Объединенные данные\", merged_data))"
   ]
  },
  {
   "cell_type": "code",
   "execution_count": 14,
   "metadata": {},
   "outputs": [],
   "source": [
    "# формируем целевую переменную\n",
    "merged_data['Churn'] = merged_data['EndDate'].apply(lambda x: 0 if x == 'No' else 1)"
   ]
  },
  {
   "cell_type": "code",
   "execution_count": 15,
   "metadata": {
    "scrolled": true
   },
   "outputs": [
    {
     "data": {
      "text/plain": [
       "customerID           0.000000\n",
       "Dependents           0.000000\n",
       "SeniorCitizen        0.000000\n",
       "gender               0.000000\n",
       "TotalCharges         0.000000\n",
       "MonthlyCharges       0.000000\n",
       "Partner              0.000000\n",
       "PaperlessBilling     0.000000\n",
       "Type                 0.000000\n",
       "EndDate              0.000000\n",
       "BeginDate            0.000000\n",
       "PaymentMethod        0.000000\n",
       "Churn                0.000000\n",
       "MultipleLines        9.683374\n",
       "InternetService     21.666903\n",
       "OnlineSecurity      21.666903\n",
       "OnlineBackup        21.666903\n",
       "DeviceProtection    21.666903\n",
       "TechSupport         21.666903\n",
       "StreamingTV         21.666903\n",
       "StreamingMovies     21.666903\n",
       "dtype: float64"
      ]
     },
     "execution_count": 15,
     "metadata": {},
     "output_type": "execute_result"
    }
   ],
   "source": [
    "merged_data.isnull().sum().sort_values()/merged_data.shape[0]*100"
   ]
  },
  {
   "cell_type": "code",
   "execution_count": 16,
   "metadata": {},
   "outputs": [],
   "source": [
    "# Список столбцов с пропущенными значениями\n",
    "columns_with_missing_values = [\n",
    "    'MultipleLines', 'StreamingMovies', 'InternetService',\n",
    "    'OnlineSecurity', 'OnlineBackup', 'DeviceProtection',\n",
    "    'TechSupport', 'StreamingTV'\n",
    "]"
   ]
  },
  {
   "cell_type": "code",
   "execution_count": 17,
   "metadata": {},
   "outputs": [
    {
     "name": "stdout",
     "output_type": "stream",
     "text": [
      "             Type  MissingCounts_MultipleLines  MissingCounts_StreamingMovies  \\\n",
      "0  Month-to-month                          376                            524   \n",
      "1        One year                          145                            364   \n",
      "2        Two year                          161                            638   \n",
      "\n",
      "   MissingCounts_InternetService  MissingCounts_OnlineSecurity  \\\n",
      "0                            524                           524   \n",
      "1                            364                           364   \n",
      "2                            638                           638   \n",
      "\n",
      "   MissingCounts_OnlineBackup  MissingCounts_DeviceProtection  \\\n",
      "0                         524                             524   \n",
      "1                         364                             364   \n",
      "2                         638                             638   \n",
      "\n",
      "   MissingCounts_TechSupport  MissingCounts_StreamingTV  \n",
      "0                        524                        524  \n",
      "1                        364                        364  \n",
      "2                        638                        638  \n"
     ]
    }
   ],
   "source": [
    "# Создаем DataFrame, содержащий только столбцы с пропущенными значениями и столбец 'Type', и создаем его копию\n",
    "missing_data = merged_data[columns_with_missing_values + ['Type']].copy()\n",
    "\n",
    "# Удаляем столбец 'Type' перед группировкой\n",
    "missing_data.drop(columns=['Type'], inplace=True)\n",
    "\n",
    "# Группируем данные по типам договоров и подсчитываем количество пропущенных значений для каждого столбца\n",
    "missing_counts_by_contract_type = missing_data.groupby(merged_data['Type']).apply(lambda x: x.isnull().sum()).reset_index()\n",
    "\n",
    "# Изменяем имена столбцов для лучшего понимания\n",
    "missing_counts_by_contract_type.columns = ['Type', 'MissingCounts_MultipleLines', 'MissingCounts_StreamingMovies', 'MissingCounts_InternetService', 'MissingCounts_OnlineSecurity', 'MissingCounts_OnlineBackup', 'MissingCounts_DeviceProtection', 'MissingCounts_TechSupport', 'MissingCounts_StreamingTV']\n",
    "\n",
    "# Отображаем результат\n",
    "print(missing_counts_by_contract_type)"
   ]
  },
  {
   "cell_type": "markdown",
   "metadata": {},
   "source": [
    "MultipleLines:\n",
    "\n",
    "Тип договора \"Month-to-month\" имеет 376 пропущенных значений.\n",
    "Тип договора \"One year\" имеет 145 пропущенных значений.\n",
    "Тип договора \"Two year\" имеет 161 пропущенных значений.\n",
    "Вывод: Пропуски в признаке \"MultipleLines\" наблюдаются в каждом типе договора, причем наибольшее количество пропусков отмечено для типа договора \"Month-to-month\".\n",
    "\n",
    "StreamingMovies:\n",
    "\n",
    "Тип договора \"Month-to-month\" имеет 524 пропущенных значения.\n",
    "Тип договора \"One year\" имеет 364 пропущенных значения.\n",
    "Тип договора \"Two year\" имеет 638 пропущенных значения.\n",
    "Вывод: Пропуски в признаке \"StreamingMovies\" также наблюдаются в каждом типе договора, и наибольшее количество пропусков отмечено для типа договора \"Two year\".\n",
    "\n",
    "InternetService:\n",
    "\n",
    "Тип договора \"Month-to-month\" имеет 524 пропущенных значения.\n",
    "Тип договора \"One year\" имеет 364 пропущенных значения.\n",
    "Тип договора \"Two year\" имеет 638 пропущенных значения.\n",
    "Вывод: Пропуски в признаке \"InternetService\" также присутствуют в каждом типе договора, с наибольшим количеством пропусков в типе договора \"Two year\".\n",
    "\n",
    "OnlineSecurity, OnlineBackup, DeviceProtection, TechSupport, StreamingTV:\n",
    "\n",
    "Для каждого из этих признаков ситуация аналогична: пропущенные значения есть в каждом типе договора, и наибольшее количество пропусков наблюдается для типа договора \"Two year\"."
   ]
  },
  {
   "cell_type": "code",
   "execution_count": 18,
   "metadata": {},
   "outputs": [],
   "source": [
    "# Заменим все пропущенные значения во всем датафрейме на \"Nopackage\"\n",
    "\n",
    "for feature in columns_with_missing_values:\n",
    "    merged_data[feature] = merged_data[feature].fillna('Nopackage')"
   ]
  },
  {
   "cell_type": "code",
   "execution_count": 19,
   "metadata": {
    "scrolled": true
   },
   "outputs": [
    {
     "name": "stdout",
     "output_type": "stream",
     "text": [
      "Исследуем датасет Объединенные данные:\n",
      "Размер:\n",
      "(7043, 21)\n",
      "\n",
      "Информация:\n",
      "<class 'pandas.core.frame.DataFrame'>\n",
      "Int64Index: 7043 entries, 0 to 7042\n",
      "Data columns (total 21 columns):\n",
      " #   Column            Non-Null Count  Dtype  \n",
      "---  ------            --------------  -----  \n",
      " 0   customerID        7043 non-null   object \n",
      " 1   BeginDate         7043 non-null   object \n",
      " 2   EndDate           7043 non-null   object \n",
      " 3   Type              7043 non-null   object \n",
      " 4   PaperlessBilling  7043 non-null   object \n",
      " 5   PaymentMethod     7043 non-null   object \n",
      " 6   MonthlyCharges    7043 non-null   float64\n",
      " 7   TotalCharges      7043 non-null   object \n",
      " 8   gender            7043 non-null   object \n",
      " 9   SeniorCitizen     7043 non-null   int64  \n",
      " 10  Partner           7043 non-null   object \n",
      " 11  Dependents        7043 non-null   object \n",
      " 12  InternetService   7043 non-null   object \n",
      " 13  OnlineSecurity    7043 non-null   object \n",
      " 14  OnlineBackup      7043 non-null   object \n",
      " 15  DeviceProtection  7043 non-null   object \n",
      " 16  TechSupport       7043 non-null   object \n",
      " 17  StreamingTV       7043 non-null   object \n",
      " 18  StreamingMovies   7043 non-null   object \n",
      " 19  MultipleLines     7043 non-null   object \n",
      " 20  Churn             7043 non-null   int64  \n",
      "dtypes: float64(1), int64(2), object(18)\n",
      "memory usage: 1.2+ MB\n",
      "None\n",
      "\n",
      "Пропущенные значения:\n",
      "customerID          0\n",
      "BeginDate           0\n",
      "EndDate             0\n",
      "Type                0\n",
      "PaperlessBilling    0\n",
      "PaymentMethod       0\n",
      "MonthlyCharges      0\n",
      "TotalCharges        0\n",
      "gender              0\n",
      "SeniorCitizen       0\n",
      "Partner             0\n",
      "Dependents          0\n",
      "InternetService     0\n",
      "OnlineSecurity      0\n",
      "OnlineBackup        0\n",
      "DeviceProtection    0\n",
      "TechSupport         0\n",
      "StreamingTV         0\n",
      "StreamingMovies     0\n",
      "MultipleLines       0\n",
      "Churn               0\n",
      "dtype: int64\n",
      "\n",
      "Первые строки:\n",
      "   customerID   BeginDate EndDate            Type PaperlessBilling  \\\n",
      "0  7590-VHVEG  2020-01-01      No  Month-to-month              Yes   \n",
      "1  5575-GNVDE  2017-04-01      No        One year               No   \n",
      "2  3668-QPYBK  2019-10-01      No  Month-to-month              Yes   \n",
      "3  7795-CFOCW  2016-05-01      No        One year               No   \n",
      "4  9237-HQITU  2019-09-01      No  Month-to-month              Yes   \n",
      "\n",
      "               PaymentMethod  MonthlyCharges TotalCharges  gender  \\\n",
      "0           Electronic check           29.85        31.04  Female   \n",
      "1               Mailed check           56.95      2071.84    Male   \n",
      "2               Mailed check           53.85       226.17    Male   \n",
      "3  Bank transfer (automatic)           42.30       1960.6    Male   \n",
      "4           Electronic check           70.70        353.5  Female   \n",
      "\n",
      "   SeniorCitizen  ... Dependents InternetService OnlineSecurity OnlineBackup  \\\n",
      "0              0  ...         No             DSL             No          Yes   \n",
      "1              0  ...         No             DSL            Yes           No   \n",
      "2              0  ...         No             DSL            Yes          Yes   \n",
      "3              0  ...         No             DSL            Yes           No   \n",
      "4              0  ...         No     Fiber optic             No           No   \n",
      "\n",
      "  DeviceProtection TechSupport StreamingTV StreamingMovies MultipleLines Churn  \n",
      "0               No          No          No              No     Nopackage     0  \n",
      "1              Yes          No          No              No            No     0  \n",
      "2               No          No          No              No            No     0  \n",
      "3              Yes         Yes          No              No     Nopackage     0  \n",
      "4               No          No          No              No            No     0  \n",
      "\n",
      "[5 rows x 21 columns]\n",
      "\n",
      "Последние строки:\n",
      "      customerID   BeginDate EndDate            Type PaperlessBilling  \\\n",
      "7038  6840-RESVB  2018-02-01      No        One year              Yes   \n",
      "7039  2234-XADUH  2014-02-01      No        One year              Yes   \n",
      "7040  4801-JZAZL  2019-03-01      No  Month-to-month              Yes   \n",
      "7041  8361-LTMKD  2019-07-01      No  Month-to-month              Yes   \n",
      "7042  3186-AJIEK  2014-08-01      No        Two year              Yes   \n",
      "\n",
      "                  PaymentMethod  MonthlyCharges TotalCharges  gender  \\\n",
      "7038               Mailed check           84.80       2035.2    Male   \n",
      "7039    Credit card (automatic)          103.20       7430.4  Female   \n",
      "7040           Electronic check           29.60        325.6  Female   \n",
      "7041               Mailed check           74.40        520.8    Male   \n",
      "7042  Bank transfer (automatic)          105.65      7251.82    Male   \n",
      "\n",
      "      SeniorCitizen  ... Dependents InternetService OnlineSecurity  \\\n",
      "7038              0  ...        Yes             DSL            Yes   \n",
      "7039              0  ...        Yes     Fiber optic             No   \n",
      "7040              0  ...        Yes             DSL            Yes   \n",
      "7041              1  ...         No     Fiber optic             No   \n",
      "7042              0  ...         No     Fiber optic            Yes   \n",
      "\n",
      "     OnlineBackup DeviceProtection TechSupport StreamingTV StreamingMovies  \\\n",
      "7038           No              Yes         Yes         Yes             Yes   \n",
      "7039          Yes              Yes          No         Yes             Yes   \n",
      "7040           No               No          No          No              No   \n",
      "7041           No               No          No          No              No   \n",
      "7042           No              Yes         Yes         Yes             Yes   \n",
      "\n",
      "     MultipleLines Churn  \n",
      "7038           Yes     0  \n",
      "7039           Yes     0  \n",
      "7040     Nopackage     0  \n",
      "7041           Yes     0  \n",
      "7042            No     0  \n",
      "\n",
      "[5 rows x 21 columns]\n",
      "\n",
      "Описательная статистика:\n",
      "       MonthlyCharges  SeniorCitizen        Churn\n",
      "count     7043.000000    7043.000000  7043.000000\n",
      "mean        64.761692       0.162147     0.156325\n",
      "std         30.090047       0.368612     0.363189\n",
      "min         18.250000       0.000000     0.000000\n",
      "25%         35.500000       0.000000     0.000000\n",
      "50%         70.350000       0.000000     0.000000\n",
      "75%         89.850000       0.000000     0.000000\n",
      "max        118.750000       1.000000     1.000000\n",
      "\n",
      "---------------------------\n",
      "\n"
     ]
    }
   ],
   "source": [
    "explore_dataset(\"Объединенные данные\", merged_data)"
   ]
  },
  {
   "cell_type": "code",
   "execution_count": 20,
   "metadata": {},
   "outputs": [],
   "source": [
    "merged_data['BeginDate'] = pd.to_datetime(merged_data['BeginDate'], format='%Y-%m-%d')"
   ]
  },
  {
   "cell_type": "code",
   "execution_count": 21,
   "metadata": {},
   "outputs": [],
   "source": [
    "# Заменяем \"No\" на '2020-02-01'\n",
    "merged_data['EndDate'] = merged_data['EndDate'].replace('No', '2020-02-01')\n",
    "\n",
    "# Преобразуем столбец 'EndDate' в формат datetime\n",
    "merged_data['EndDate'] = pd.to_datetime(merged_data['EndDate'], format='%Y-%m-%d')"
   ]
  },
  {
   "cell_type": "code",
   "execution_count": 22,
   "metadata": {},
   "outputs": [],
   "source": [
    "# Создание нового признака - длительности контракта\n",
    "merged_data['ContractDuration'] = (merged_data['EndDate'] - merged_data['BeginDate']).dt.days"
   ]
  },
  {
   "cell_type": "code",
   "execution_count": 23,
   "metadata": {},
   "outputs": [
    {
     "data": {
      "text/plain": [
       "0         31\n",
       "1       1036\n",
       "2        123\n",
       "3       1371\n",
       "4        153\n",
       "        ... \n",
       "7038     730\n",
       "7039    2191\n",
       "7040     337\n",
       "7041     215\n",
       "7042    2010\n",
       "Name: ContractDuration, Length: 7043, dtype: int64"
      ]
     },
     "execution_count": 23,
     "metadata": {},
     "output_type": "execute_result"
    }
   ],
   "source": [
    "merged_data['ContractDuration']"
   ]
  },
  {
   "cell_type": "code",
   "execution_count": 24,
   "metadata": {},
   "outputs": [],
   "source": [
    "merged_data.drop(['BeginDate', 'EndDate'], axis=1, inplace=True)"
   ]
  },
  {
   "cell_type": "code",
   "execution_count": 25,
   "metadata": {},
   "outputs": [],
   "source": [
    "# Преобразуем столбец 'TotalCharges'  в числовой формат\n",
    "merged_data['TotalCharges'] = pd.to_numeric(merged_data['TotalCharges'], errors='coerce')"
   ]
  },
  {
   "cell_type": "code",
   "execution_count": 26,
   "metadata": {},
   "outputs": [
    {
     "data": {
      "text/plain": [
       "11"
      ]
     },
     "execution_count": 26,
     "metadata": {},
     "output_type": "execute_result"
    }
   ],
   "source": [
    "merged_data['TotalCharges'].isnull().sum()"
   ]
  },
  {
   "cell_type": "code",
   "execution_count": 27,
   "metadata": {},
   "outputs": [
    {
     "name": "stdout",
     "output_type": "stream",
     "text": [
      "      customerID      Type PaperlessBilling              PaymentMethod  \\\n",
      "488   4472-LVYGI  Two year              Yes  Bank transfer (automatic)   \n",
      "753   3115-CZMZD  Two year               No               Mailed check   \n",
      "936   5709-LVOEQ  Two year               No               Mailed check   \n",
      "1082  4367-NUYAO  Two year               No               Mailed check   \n",
      "1340  1371-DWPAZ  Two year               No    Credit card (automatic)   \n",
      "3331  7644-OMVMY  Two year               No               Mailed check   \n",
      "3826  3213-VVOLG  Two year               No               Mailed check   \n",
      "4380  2520-SGTTA  Two year               No               Mailed check   \n",
      "5218  2923-ARZLG  One year              Yes               Mailed check   \n",
      "6670  4075-WKNIU  Two year               No               Mailed check   \n",
      "6754  2775-SEFEE  Two year              Yes  Bank transfer (automatic)   \n",
      "\n",
      "      MonthlyCharges  TotalCharges  gender  SeniorCitizen Partner Dependents  \\\n",
      "488            52.55           NaN  Female              0     Yes        Yes   \n",
      "753            20.25           NaN    Male              0      No        Yes   \n",
      "936            80.85           NaN  Female              0     Yes        Yes   \n",
      "1082           25.75           NaN    Male              0     Yes        Yes   \n",
      "1340           56.05           NaN  Female              0     Yes        Yes   \n",
      "3331           19.85           NaN    Male              0     Yes        Yes   \n",
      "3826           25.35           NaN    Male              0     Yes        Yes   \n",
      "4380           20.00           NaN  Female              0     Yes        Yes   \n",
      "5218           19.70           NaN    Male              0     Yes        Yes   \n",
      "6670           73.35           NaN  Female              0     Yes        Yes   \n",
      "6754           61.90           NaN    Male              0      No        Yes   \n",
      "\n",
      "     InternetService OnlineSecurity OnlineBackup DeviceProtection TechSupport  \\\n",
      "488              DSL            Yes           No              Yes         Yes   \n",
      "753        Nopackage      Nopackage    Nopackage        Nopackage   Nopackage   \n",
      "936              DSL            Yes          Yes              Yes          No   \n",
      "1082       Nopackage      Nopackage    Nopackage        Nopackage   Nopackage   \n",
      "1340             DSL            Yes          Yes              Yes         Yes   \n",
      "3331       Nopackage      Nopackage    Nopackage        Nopackage   Nopackage   \n",
      "3826       Nopackage      Nopackage    Nopackage        Nopackage   Nopackage   \n",
      "4380       Nopackage      Nopackage    Nopackage        Nopackage   Nopackage   \n",
      "5218       Nopackage      Nopackage    Nopackage        Nopackage   Nopackage   \n",
      "6670             DSL             No          Yes              Yes         Yes   \n",
      "6754             DSL            Yes          Yes               No         Yes   \n",
      "\n",
      "     StreamingTV StreamingMovies MultipleLines  Churn  ContractDuration  \n",
      "488          Yes              No     Nopackage      0                 0  \n",
      "753    Nopackage       Nopackage            No      0                 0  \n",
      "936          Yes             Yes            No      0                 0  \n",
      "1082   Nopackage       Nopackage           Yes      0                 0  \n",
      "1340         Yes              No     Nopackage      0                 0  \n",
      "3331   Nopackage       Nopackage            No      0                 0  \n",
      "3826   Nopackage       Nopackage           Yes      0                 0  \n",
      "4380   Nopackage       Nopackage            No      0                 0  \n",
      "5218   Nopackage       Nopackage            No      0                 0  \n",
      "6670         Yes              No           Yes      0                 0  \n",
      "6754          No              No           Yes      0                 0  \n"
     ]
    }
   ],
   "source": [
    "missing_total_charges = merged_data[merged_data['TotalCharges'].isnull()]\n",
    "print(missing_total_charges)"
   ]
  },
  {
   "cell_type": "code",
   "execution_count": 28,
   "metadata": {},
   "outputs": [],
   "source": [
    "# Заполняем пропущенные значения в 'TotalCharges' нулем\n",
    "merged_data['TotalCharges'].fillna(0, inplace=True)"
   ]
  },
  {
   "cell_type": "code",
   "execution_count": 29,
   "metadata": {},
   "outputs": [],
   "source": [
    "# Привожу к object\n",
    "merged_data['SeniorCitizen'] = merged_data['SeniorCitizen'].astype('object')"
   ]
  },
  {
   "cell_type": "code",
   "execution_count": 30,
   "metadata": {},
   "outputs": [],
   "source": [
    "# Удаляем столбец customerID\n",
    "merged_data.drop('customerID', axis=1, inplace=True)"
   ]
  },
  {
   "cell_type": "code",
   "execution_count": 31,
   "metadata": {},
   "outputs": [
    {
     "name": "stdout",
     "output_type": "stream",
     "text": [
      "Исследуем датасет Объединенные данные:\n",
      "Размер:\n",
      "(7043, 19)\n",
      "\n",
      "Информация:\n",
      "<class 'pandas.core.frame.DataFrame'>\n",
      "Int64Index: 7043 entries, 0 to 7042\n",
      "Data columns (total 19 columns):\n",
      " #   Column            Non-Null Count  Dtype  \n",
      "---  ------            --------------  -----  \n",
      " 0   Type              7043 non-null   object \n",
      " 1   PaperlessBilling  7043 non-null   object \n",
      " 2   PaymentMethod     7043 non-null   object \n",
      " 3   MonthlyCharges    7043 non-null   float64\n",
      " 4   TotalCharges      7043 non-null   float64\n",
      " 5   gender            7043 non-null   object \n",
      " 6   SeniorCitizen     7043 non-null   object \n",
      " 7   Partner           7043 non-null   object \n",
      " 8   Dependents        7043 non-null   object \n",
      " 9   InternetService   7043 non-null   object \n",
      " 10  OnlineSecurity    7043 non-null   object \n",
      " 11  OnlineBackup      7043 non-null   object \n",
      " 12  DeviceProtection  7043 non-null   object \n",
      " 13  TechSupport       7043 non-null   object \n",
      " 14  StreamingTV       7043 non-null   object \n",
      " 15  StreamingMovies   7043 non-null   object \n",
      " 16  MultipleLines     7043 non-null   object \n",
      " 17  Churn             7043 non-null   int64  \n",
      " 18  ContractDuration  7043 non-null   int64  \n",
      "dtypes: float64(2), int64(2), object(15)\n",
      "memory usage: 1.1+ MB\n",
      "None\n",
      "\n",
      "Пропущенные значения:\n",
      "Type                0\n",
      "PaperlessBilling    0\n",
      "PaymentMethod       0\n",
      "MonthlyCharges      0\n",
      "TotalCharges        0\n",
      "gender              0\n",
      "SeniorCitizen       0\n",
      "Partner             0\n",
      "Dependents          0\n",
      "InternetService     0\n",
      "OnlineSecurity      0\n",
      "OnlineBackup        0\n",
      "DeviceProtection    0\n",
      "TechSupport         0\n",
      "StreamingTV         0\n",
      "StreamingMovies     0\n",
      "MultipleLines       0\n",
      "Churn               0\n",
      "ContractDuration    0\n",
      "dtype: int64\n",
      "\n",
      "Первые строки:\n",
      "             Type PaperlessBilling              PaymentMethod  MonthlyCharges  \\\n",
      "0  Month-to-month              Yes           Electronic check           29.85   \n",
      "1        One year               No               Mailed check           56.95   \n",
      "2  Month-to-month              Yes               Mailed check           53.85   \n",
      "3        One year               No  Bank transfer (automatic)           42.30   \n",
      "4  Month-to-month              Yes           Electronic check           70.70   \n",
      "\n",
      "   TotalCharges  gender SeniorCitizen Partner Dependents InternetService  \\\n",
      "0         31.04  Female             0     Yes         No             DSL   \n",
      "1       2071.84    Male             0      No         No             DSL   \n",
      "2        226.17    Male             0      No         No             DSL   \n",
      "3       1960.60    Male             0      No         No             DSL   \n",
      "4        353.50  Female             0      No         No     Fiber optic   \n",
      "\n",
      "  OnlineSecurity OnlineBackup DeviceProtection TechSupport StreamingTV  \\\n",
      "0             No          Yes               No          No          No   \n",
      "1            Yes           No              Yes          No          No   \n",
      "2            Yes          Yes               No          No          No   \n",
      "3            Yes           No              Yes         Yes          No   \n",
      "4             No           No               No          No          No   \n",
      "\n",
      "  StreamingMovies MultipleLines  Churn  ContractDuration  \n",
      "0              No     Nopackage      0                31  \n",
      "1              No            No      0              1036  \n",
      "2              No            No      0               123  \n",
      "3              No     Nopackage      0              1371  \n",
      "4              No            No      0               153  \n",
      "\n",
      "Последние строки:\n",
      "                Type PaperlessBilling              PaymentMethod  \\\n",
      "7038        One year              Yes               Mailed check   \n",
      "7039        One year              Yes    Credit card (automatic)   \n",
      "7040  Month-to-month              Yes           Electronic check   \n",
      "7041  Month-to-month              Yes               Mailed check   \n",
      "7042        Two year              Yes  Bank transfer (automatic)   \n",
      "\n",
      "      MonthlyCharges  TotalCharges  gender SeniorCitizen Partner Dependents  \\\n",
      "7038           84.80       2035.20    Male             0     Yes        Yes   \n",
      "7039          103.20       7430.40  Female             0     Yes        Yes   \n",
      "7040           29.60        325.60  Female             0     Yes        Yes   \n",
      "7041           74.40        520.80    Male             1     Yes         No   \n",
      "7042          105.65       7251.82    Male             0      No         No   \n",
      "\n",
      "     InternetService OnlineSecurity OnlineBackup DeviceProtection TechSupport  \\\n",
      "7038             DSL            Yes           No              Yes         Yes   \n",
      "7039     Fiber optic             No          Yes              Yes          No   \n",
      "7040             DSL            Yes           No               No          No   \n",
      "7041     Fiber optic             No           No               No          No   \n",
      "7042     Fiber optic            Yes           No              Yes         Yes   \n",
      "\n",
      "     StreamingTV StreamingMovies MultipleLines  Churn  ContractDuration  \n",
      "7038         Yes             Yes           Yes      0               730  \n",
      "7039         Yes             Yes           Yes      0              2191  \n",
      "7040          No              No     Nopackage      0               337  \n",
      "7041          No              No           Yes      0               215  \n",
      "7042         Yes             Yes            No      0              2010  \n",
      "\n",
      "Описательная статистика:\n",
      "       MonthlyCharges  TotalCharges        Churn  ContractDuration\n",
      "count     7043.000000   7043.000000  7043.000000       7043.000000\n",
      "mean        64.761692   2115.312885     0.156325        898.555729\n",
      "std         30.090047   2112.742814     0.363189        683.130510\n",
      "min         18.250000      0.000000     0.000000          0.000000\n",
      "25%         35.500000    436.750000     0.000000        276.000000\n",
      "50%         70.350000   1343.350000     0.000000        761.000000\n",
      "75%         89.850000   3236.690000     0.000000       1461.000000\n",
      "max        118.750000   9221.380000     1.000000       2314.000000\n",
      "\n",
      "---------------------------\n",
      "\n"
     ]
    }
   ],
   "source": [
    "explore_dataset(\"Объединенные данные\", merged_data)"
   ]
  },
  {
   "cell_type": "code",
   "execution_count": 32,
   "metadata": {},
   "outputs": [],
   "source": [
    "# Выбираем все столбцы, которые мы хотим включить в анализ\n",
    "selected_features = [\n",
    "    'Type', 'PaperlessBilling', 'PaymentMethod',\n",
    "    'MonthlyCharges', 'TotalCharges', 'gender', 'SeniorCitizen', 'Partner', 'Dependents',\n",
    "    'InternetService', 'OnlineSecurity', 'OnlineBackup', 'DeviceProtection', 'TechSupport',\n",
    "    'StreamingTV', 'StreamingMovies', 'MultipleLines'\n",
    "]\n",
    "\n",
    "# Создаем подмножество данных с выбранными признаками\n",
    "subset_data = merged_data[selected_features]\n",
    "\n",
    "# Выполняем анализ корреляции с использованием phik\n",
    "correlation_matrix = phik.phik_matrix(subset_data, interval_cols=['MonthlyCharges', 'TotalCharges', 'ContractDuration'])"
   ]
  },
  {
   "cell_type": "code",
   "execution_count": 33,
   "metadata": {},
   "outputs": [
    {
     "data": {
      "image/png": "[encoded data removed]",
      "text/plain": [
       "<Figure size 864x720 with 2 Axes>"
      ]
     },
     "metadata": {
      "needs_background": "light"
     },
     "output_type": "display_data"
    }
   ],
   "source": [
    "# Строим тепловую карту корреляции\n",
    "plt.figure(figsize=(12, 10))\n",
    "sns.heatmap(correlation_matrix, cmap='coolwarm', center=0, annot=True, fmt=\".2f\", linewidths=0.5)\n",
    "plt.title(\"Матрица корреляции признаков с использованием phik\")\n",
    "plt.show()"
   ]
  },
  {
   "cell_type": "markdown",
   "metadata": {},
   "source": [
    "Важно отметить следующие наблюдения:\n",
    "\n",
    "1. Столбцы \"MonthlyCharges\" и \"TotalCharges\" имеют сильную положительную корреляцию (коэффициент корреляции близок к 1). Это может указывать на то, что клиенты с более высоким ежемесячным платежом также имеют более высокие общие платежи.\n",
    "\n",
    "2. Столбец \"Partner\" имеет относительно высокую положительную корреляцию с \"Dependents\" (0.65). Это может означать, что клиенты, имеющие партнера, также часто имеют иждивенцев.\n",
    "\n",
    "3. Некоторые другие признаки, такие как \"OnlineSecurity\", \"OnlineBackup\", \"DeviceProtection\", \"TechSupport\", 'InternetService', 'DeviceProtection' имеют высокую положительную корреляцию между собой (больше 0.9). Это может свидетельствовать о том, что клиенты, выбирая одну из этих услуг, часто выбирают и другие. Или эти услуги пакетные - идут в одном пакете. \n",
    "\n",
    "4. Столбцы \"StreamingTV\" и \"StreamingMovies\" также имеют высокую положительную корреляцию (0.97), что может указывать на то, что клиенты, использующие потоковое телевидение, также используют потоковые фильмы.\n",
    "\n",
    "5. Самая высокая положительная корреляция в матрице наблюдается между \"MonthlyCharges\" и \"InternetService\" с коэффициентом корреляции 0.92. Это указывает на сильную связь между ежемесячными платежами клиентов и типом интернет-услуги, которую они используют. Высокий коэффициент корреляции 0.92 говорит о том, что клиенты, использующие определенный тип интернет-сервиса, часто имеют более высокие ежемесячные платежи. Это может быть важным аспектом при принятии решений о стратегии продаж и маркетинга компании."
   ]
  },
  {
   "cell_type": "code",
   "execution_count": 34,
   "metadata": {},
   "outputs": [],
   "source": [
    "merged_data.drop(['MonthlyCharges'], axis=1, inplace=True)"
   ]
  },
  {
   "cell_type": "code",
   "execution_count": 35,
   "metadata": {},
   "outputs": [],
   "source": [
    "# Создаем список из имен признаков, которые хотим выбрать\n",
    "selected_features = ['SeniorCitizen', 'PaymentMethod', 'Churn', 'ContractDuration']"
   ]
  },
  {
   "cell_type": "code",
   "execution_count": 36,
   "metadata": {},
   "outputs": [
    {
     "data": {
      "image/png": "[encoded data removed]",
      "text/plain": [
       "<Figure size 864x720 with 2 Axes>"
      ]
     },
     "metadata": {
      "needs_background": "light"
     },
     "output_type": "display_data"
    }
   ],
   "source": [
    "# Создаем подмножество данных с выбранными признаками\n",
    "subset_d = merged_data[selected_features]\n",
    "\n",
    "# Выполняем анализ корреляции с использованием phik\n",
    "correlation_matrix = phik.phik_matrix(subset_d, interval_cols=['ContractDuration'])  \n",
    "plt.figure(figsize=(12, 10))\n",
    "sns.heatmap(correlation_matrix, cmap='coolwarm', center=0, annot=True, fmt=\".2f\", linewidths=0.5)\n",
    "plt.title(\"Матрица корреляции признаков с использованием phik\")\n",
    "plt.show()"
   ]
  },
  {
   "cell_type": "code",
   "execution_count": 37,
   "metadata": {},
   "outputs": [],
   "source": [
    "# Выбираем только указанные признаки из исходных данных merged_data\n",
    "data_selected = merged_data[selected_features].copy()"
   ]
  },
  {
   "cell_type": "markdown",
   "metadata": {},
   "source": [
    "### Построение модели"
   ]
  },
  {
   "cell_type": "code",
   "execution_count": 38,
   "metadata": {},
   "outputs": [],
   "source": [
    "RANDOM_STATE = 280823"
   ]
  },
  {
   "cell_type": "code",
   "execution_count": 39,
   "metadata": {},
   "outputs": [],
   "source": [
    "x = data_selected.drop(columns=['Churn'])\n",
    "y = data_selected['Churn']\n",
    "\n",
    "x_train, x_test, y_train, y_test = train_test_split(x, y, test_size=0.25, random_state=RANDOM_STATE, stratify=y)"
   ]
  },
  {
   "cell_type": "code",
   "execution_count": 40,
   "metadata": {},
   "outputs": [
    {
     "data": {
      "image/png": "[encoded data removed]",
      "text/plain": [
       "<Figure size 576x432 with 1 Axes>"
      ]
     },
     "metadata": {
      "needs_background": "light"
     },
     "output_type": "display_data"
    },
    {
     "name": "stdout",
     "output_type": "stream",
     "text": [
      "Доли классов:\n",
      "0    84.361984\n",
      "1    15.638016\n",
      "Name: Churn, dtype: float64\n"
     ]
    }
   ],
   "source": [
    "# Вычисляем количество примеров каждого класса в обучающем наборе\n",
    "class_counts = y_train.value_counts()\n",
    "\n",
    "# Визуализируем баланс классов\n",
    "plt.figure(figsize=(8, 6))\n",
    "sns.barplot(x=class_counts.index, y=class_counts.values, palette='Set2')\n",
    "plt.title(\"Баланс классов в обучающем наборе данных\")\n",
    "plt.xlabel(\"Класс\")\n",
    "plt.ylabel(\"Количество примеров\")\n",
    "plt.xticks(rotation=0)  # Убираем поворот меток\n",
    "plt.show()\n",
    "\n",
    "# Вычисляем долю каждого класса\n",
    "class_percentages = (class_counts / len(y_train)) * 100\n",
    "\n",
    "print(\"Доли классов:\")\n",
    "print(class_percentages)"
   ]
  },
  {
   "cell_type": "markdown",
   "metadata": {},
   "source": [
    "Мы провели анализ баланса классов в обучающем наборе данных. Здесь мы видим, что класс 0 (клиенты, которые не ушли) составляет около 84.36% от общего числа примеров, в то время как класс 1 (клиенты, которые ушли) составляет около 15.64%.\n",
    "\n",
    "Этот анализ подтверждает наличие дисбаланса классов, где один класс (не ушедшие клиенты) существенно превосходит по количеству другой класс (ушедшие клиенты). Это важное наблюдение, которое мы должны учитывать при построении и оценке моделей, так как дисбаланс классов может повлиять на результаты классификации."
   ]
  },
  {
   "cell_type": "code",
   "execution_count": 41,
   "metadata": {},
   "outputs": [],
   "source": [
    "# Списки числовых и категориальных признаков\n",
    "numeric_features = ['ContractDuration']\n",
    "categorical_features = ['SeniorCitizen', 'PaymentMethod']\n",
    "\n",
    "# Создаем препроцессор для числовых признаков (стандартизация)\n",
    "numeric_transformer = Pipeline(steps=[\n",
    "    ('scaler', StandardScaler())\n",
    "])\n",
    "\n",
    "# Создаем препроцессор для категориальных признаков (OneHotEncoder) для LogisticRegression\n",
    "categorical_transformer_lr = Pipeline(steps=[\n",
    "    ('onehot', OneHotEncoder(handle_unknown='ignore'))\n",
    "])\n",
    "\n",
    "# Создаем препроцессор для категориальных признаков (OrdinalEncoder) для GB и RF\n",
    "categorical_transformer_gb_rf = Pipeline(steps=[\n",
    "    ('ordinal', OrdinalEncoder(handle_unknown='use_encoded_value', unknown_value=-1))\n",
    "])\n",
    "\n",
    "# Собираем препроцессоры с помощью ColumnTransformer\n",
    "preprocessor_lr = ColumnTransformer(\n",
    "    transformers=[\n",
    "        ('num', numeric_transformer, numeric_features),\n",
    "        ('cat', categorical_transformer_lr, categorical_features)  \n",
    "    ])\n",
    "\n",
    "preprocessor_gb_rf = ColumnTransformer(\n",
    "    transformers=[\n",
    "        ('num', numeric_transformer, numeric_features),\n",
    "        ('cat', categorical_transformer_gb_rf, categorical_features)  \n",
    "    ])"
   ]
  },
  {
   "cell_type": "markdown",
   "metadata": {},
   "source": [
    "### Оценка модели"
   ]
  },
  {
   "cell_type": "code",
   "execution_count": 42,
   "metadata": {},
   "outputs": [],
   "source": [
    "# Создаем модель Logistic Regression\n",
    "model_lr = LogisticRegression(solver='liblinear', random_state=RANDOM_STATE, class_weight='balanced')"
   ]
  },
  {
   "cell_type": "code",
   "execution_count": 43,
   "metadata": {},
   "outputs": [],
   "source": [
    "# Определяем Pipeline для модели Logistic Regression\n",
    "pipeline_lr = Pipeline([\n",
    "    ('preprocessor', preprocessor_lr),\n",
    "    ('model', model_lr)\n",
    "])\n",
    "\n",
    "# Определяем сетку параметров для GridSearchCV\n",
    "param_grid_lr = {\n",
    "    'model__C': [0.01, 0.1, 1, 10, 100], \n",
    "    'model__max_iter': [100, 200, 300],  \n",
    "}"
   ]
  },
  {
   "cell_type": "code",
   "execution_count": 44,
   "metadata": {},
   "outputs": [
    {
     "name": "stdout",
     "output_type": "stream",
     "text": [
      "Наилучшая метрика AUC-ROC на кросс-валидации для модели Logistic Regression: 0.6118938557559082\n",
      "Наилучшая метрика accuracy на кросс-валидации для модели Logistic Regression: 0.5365465797998911\n"
     ]
    }
   ],
   "source": [
    "# Создаем объект GridSearchCV для модели Logistic Regression с Pipeline\n",
    "grid_search_lr = GridSearchCV(pipeline_lr, param_grid_lr, scoring=['roc_auc', 'accuracy'], cv=5, refit='roc_auc')\n",
    "\n",
    "# Обучение модели Logistic Regression с использованием GridSearchCV и Pipeline\n",
    "grid_search_lr.fit(x_train, y_train)\n",
    "\n",
    "# Получение значения наилучшей метрики AUC-ROC и accuracy на кросс-валидации для модели Logistic Regression\n",
    "best_auc_roc_lr = grid_search_lr.best_score_\n",
    "best_accuracy_lr = grid_search_lr.cv_results_['mean_test_accuracy'][grid_search_lr.best_index_]\n",
    "print(\"Наилучшая метрика AUC-ROC на кросс-валидации для модели Logistic Regression:\", best_auc_roc_lr)\n",
    "print(\"Наилучшая метрика accuracy на кросс-валидации для модели Logistic Regression:\", best_accuracy_lr)"
   ]
  },
  {
   "cell_type": "code",
   "execution_count": 45,
   "metadata": {},
   "outputs": [],
   "source": [
    "# Создаем модель Gradient Boosting\n",
    "model_gb = GradientBoostingClassifier(random_state=RANDOM_STATE)\n",
    "\n",
    "# Определяем Pipeline для модели Gradient Boosting\n",
    "pipeline_gb = Pipeline([\n",
    "    ('preprocessor', preprocessor_gb_rf),\n",
    "    ('model', model_gb)\n",
    "])\n",
    "\n",
    "# Определяем сетку параметров для GridSearchCV для GB\n",
    "param_grid_gb = {\n",
    "    'model__n_estimators': [50, 100, 200],\n",
    "    'model__learning_rate': [0.01, 0.1, 0.2],\n",
    "    'model__max_depth': [3, 4, 5]\n",
    "}"
   ]
  },
  {
   "cell_type": "code",
   "execution_count": 46,
   "metadata": {},
   "outputs": [
    {
     "name": "stdout",
     "output_type": "stream",
     "text": [
      "Наилучшая метрика AUC-ROC на кросс-валидации для модели Gradient Boosting: 0.9123375809656522\n",
      "Наилучшая метрика accuracy на кросс-валидации для модели Gradient Boosting: 0.94509672171096\n"
     ]
    }
   ],
   "source": [
    "# Создаем объект GridSearchCV для модели Gradient Boosting с Pipeline\n",
    "grid_search_gb = GridSearchCV(pipeline_gb, param_grid_gb, scoring=['roc_auc', 'accuracy'], refit='roc_auc', cv=5)\n",
    "\n",
    "# Обучение модели Gradient Boosting с использованием GridSearchCV и Pipeline\n",
    "grid_search_gb.fit(x_train, y_train)\n",
    "\n",
    "# Получение значения наилучшей метрики AUC-ROC на кросс-валидации для модели Gradient Boosting\n",
    "best_auc_roc_gb = grid_search_gb.best_score_\n",
    "print(\"Наилучшая метрика AUC-ROC на кросс-валидации для модели Gradient Boosting:\", best_auc_roc_gb)\n",
    "\n",
    "# Получение значения наилучшей метрики accuracy на кросс-валидации для модели Gradient Boosting\n",
    "best_accuracy_gb = grid_search_gb.cv_results_['mean_test_accuracy'][grid_search_gb.best_index_]\n",
    "print(\"Наилучшая метрика accuracy на кросс-валидации для модели Gradient Boosting:\", best_accuracy_gb)"
   ]
  },
  {
   "cell_type": "code",
   "execution_count": 47,
   "metadata": {},
   "outputs": [],
   "source": [
    "# Создаем модель случайного леса\n",
    "model_rf = RandomForestClassifier(random_state=RANDOM_STATE, class_weight='balanced')\n",
    "\n",
    "# Определяем Pipeline для модели случайного леса\n",
    "pipeline_rf = Pipeline([\n",
    "    ('preprocessor', preprocessor_gb_rf),\n",
    "    ('model', model_rf)\n",
    "])\n",
    "\n",
    "# Определяем сетку параметров для GridSearchCV для RF\n",
    "param_grid_rf = {\n",
    "    'model__n_estimators': [50, 100, 200],\n",
    "    'model__max_depth': [3, 4, 5, None],\n",
    "    'model__min_samples_split': [2, 5, 10],\n",
    "    'model__min_samples_leaf': [1, 2, 4]\n",
    "}"
   ]
  },
  {
   "cell_type": "code",
   "execution_count": 48,
   "metadata": {},
   "outputs": [
    {
     "name": "stdout",
     "output_type": "stream",
     "text": [
      "Наилучшая метрика AUC-ROC на кросс-валидации для модели случайного леса: 0.8119309838939491\n",
      "Наилучшая метрика accuracy на кросс-валидации для модели случайного леса: 0.8536527765832401\n"
     ]
    }
   ],
   "source": [
    "# Создаем объекта GridSearchCV для модели случайного леса с Pipeline\n",
    "grid_search_rf = GridSearchCV(pipeline_rf, param_grid_rf, scoring=['roc_auc', 'accuracy'], refit='roc_auc', cv=5)\n",
    "\n",
    "# Обучаем модель случайного леса с использованием GridSearchCV и Pipeline\n",
    "grid_search_rf.fit(x_train, y_train)\n",
    "\n",
    "# Получаем значений наилучших метрик AUC-ROC и accuracy на кросс-валидации для модели случайного леса\n",
    "best_auc_roc_rf = grid_search_rf.best_score_\n",
    "best_accuracy_rf = grid_search_rf.cv_results_['mean_test_accuracy'][grid_search_rf.best_index_]\n",
    "print(\"Наилучшая метрика AUC-ROC на кросс-валидации для модели случайного леса:\", best_auc_roc_rf)\n",
    "print(\"Наилучшая метрика accuracy на кросс-валидации для модели случайного леса:\", best_accuracy_rf)"
   ]
  },
  {
   "cell_type": "markdown",
   "metadata": {},
   "source": [
    "По результатам кросс-валидации:\n",
    "\n",
    "- Модель Logistic Regression имеет наилучшую метрику AUC-ROC равную 0.611 и метрику accuracy равную 0.536.\n",
    "\n",
    "- Модель Gradient Boosting имеет наилучшую метрику AUC-ROC равную 0.912 и метрику accuracy равную 0.945. Эта модель показывает лучшие результаты среди рассмотренных.\n",
    "\n",
    "- Модель случайного леса имеет наилучшую метрику AUC-ROC равную 0.811 и метрику accuracy равную 0.853.\n",
    "\n",
    "Модель Gradient Boosting выглядит наиболее перспективной среди рассмотренных моделей на основе кросс-валидации. Теперь оценим ее производительность на тестовой выборке, чтобы убедиться, что она хорошо обобщает данные."
   ]
  },
  {
   "cell_type": "code",
   "execution_count": 49,
   "metadata": {},
   "outputs": [
    {
     "name": "stdout",
     "output_type": "stream",
     "text": [
      "Оценка ROC-AUC градиентного бустинга на тестовой выборке: 0.8994714303193442\n",
      "Оценка accuracy градиентного бустинга на тестовой выборке: 0.9381033503691084\n"
     ]
    }
   ],
   "source": [
    "# делаем прогнозы на тестовом наборе для модели градиентного бустинга\n",
    "y_pred_proba_gb = grid_search_gb.predict_proba(x_test)[:, 1]\n",
    "\n",
    "# Устанавливаем порог вероятности для классификации\n",
    "threshold = 0.5\n",
    "\n",
    "# Преобразуем вероятностные прогнозы в бинарные метки\n",
    "y_pred_binary = (y_pred_proba_gb > threshold).astype(int)\n",
    "\n",
    "# оцениваем производительность модели на тестовом наборе для модели градиентного бустинга\n",
    "accuracy_gb = accuracy_score(y_test, y_pred_binary)\n",
    "roc_auc_gb = roc_auc_score(y_test, y_pred_proba_gb)\n",
    "\n",
    "print(\"Оценка ROC-AUC градиентного бустинга на тестовой выборке:\", roc_auc_gb)\n",
    "print(\"Оценка accuracy градиентного бустинга на тестовой выборке:\", accuracy_gb)"
   ]
  },
  {
   "cell_type": "markdown",
   "metadata": {},
   "source": [
    "ROC AUC близка к 0.9, что указывает на хорошее качество модели при разделении классов, и accuracy составляет около 0.938, что означает, что примерно 93.8% предсказаний верны."
   ]
  },
  {
   "cell_type": "code",
   "execution_count": 50,
   "metadata": {},
   "outputs": [],
   "source": [
    "# Анализ важности признаков\n",
    "#feature_importance = grid_search_gb.best_estimator_.named_steps['model'].feature_importances_\n",
    "\n",
    "# Сортировка признаков по важности в убывающем порядке\n",
    "#sorted_idx = feature_importance.argsort()[::-1]\n",
    "\n",
    "# Вывод важности признаков\n",
    "#for i, idx in enumerate(sorted_idx):\n",
    "    #print(f\"Feature {i+1}: {x_train.columns[idx]} - {feature_importance[idx]}\")"
   ]
  },
  {
   "cell_type": "code",
   "execution_count": 51,
   "metadata": {},
   "outputs": [
    {
     "data": {
      "text/html": [
       "<div>\n",
       "<style scoped>\n",
       "    .dataframe tbody tr th:only-of-type {\n",
       "        vertical-align: middle;\n",
       "    }\n",
       "\n",
       "    .dataframe tbody tr th {\n",
       "        vertical-align: top;\n",
       "    }\n",
       "\n",
       "    .dataframe thead th {\n",
       "        text-align: right;\n",
       "    }\n",
       "</style>\n",
       "<table border=\"1\" class=\"dataframe\">\n",
       "  <thead>\n",
       "    <tr style=\"text-align: right;\">\n",
       "      <th></th>\n",
       "      <th>Значимость</th>\n",
       "      <th>Признак</th>\n",
       "    </tr>\n",
       "  </thead>\n",
       "  <tbody>\n",
       "    <tr>\n",
       "      <th>0</th>\n",
       "      <td>0.955731</td>\n",
       "      <td>ContractDuration</td>\n",
       "    </tr>\n",
       "    <tr>\n",
       "      <th>2</th>\n",
       "      <td>0.036677</td>\n",
       "      <td>PaymentMethod</td>\n",
       "    </tr>\n",
       "    <tr>\n",
       "      <th>1</th>\n",
       "      <td>0.007592</td>\n",
       "      <td>SeniorCitizen</td>\n",
       "    </tr>\n",
       "  </tbody>\n",
       "</table>\n",
       "</div>"
      ],
      "text/plain": [
       "   Значимость           Признак\n",
       "0    0.955731  ContractDuration\n",
       "2    0.036677     PaymentMethod\n",
       "1    0.007592     SeniorCitizen"
      ]
     },
     "execution_count": 51,
     "metadata": {},
     "output_type": "execute_result"
    }
   ],
   "source": [
    "# Получение важности признаков для модели Gradient Boosting\n",
    "feature_importances = grid_search_gb.best_estimator_['model'].feature_importances_\n",
    "\n",
    "# Получение имен признаков после препроцессинга\n",
    "feature_names = numeric_features + categorical_features\n",
    "\n",
    "# Создание датафрейма для анализа важности признаков\n",
    "importance = pd.DataFrame({'Значимость': feature_importances, 'Признак': feature_names}).sort_values(by='Значимость', ascending=False)\n",
    "importance"
   ]
  },
  {
   "cell_type": "markdown",
   "metadata": {},
   "source": [
    "Важность признаков указывает на то, как сильно каждый признак влияет на прогноз. В данном случае:\n",
    "\n",
    "ContractDuration - длительность контракта - является наиболее важным признаком с важностью около 0.956. Это означает, что длительность контракта сильно влияет на решение клиента об уходе.\n",
    "\n",
    "PaymentMethod - метод оплаты - имеет меньшую важность с весом около 0.037. Он также вносит некоторый вклад в прогноз, но менее значим, чем длительность контракта.\n",
    "\n",
    "SeniorCitizen - статус пенсионера - имеет самую низкую важность с весом около 0.008. Этот признак оказывает наименьшее влияние на прогноз относительно других признаков."
   ]
  },
  {
   "cell_type": "code",
   "execution_count": 52,
   "metadata": {},
   "outputs": [
    {
     "data": {
      "image/png": "[encoded data removed]",
      "text/plain": [
       "<Figure size 576x432 with 1 Axes>"
      ]
     },
     "metadata": {
      "needs_background": "light"
     },
     "output_type": "display_data"
    }
   ],
   "source": [
    "# Построение матрицы ошибок\n",
    "y_pred = grid_search_gb.best_estimator_.predict(x_test)\n",
    "conf_matrix = confusion_matrix(y_test, y_pred)\n",
    "\n",
    "# Визуализация матрицы ошибок\n",
    "plt.figure(figsize=(8, 6))\n",
    "sns.heatmap(conf_matrix, annot=True, fmt='d', cmap='Blues', cbar=False)\n",
    "plt.xlabel('Predicted Labels')\n",
    "plt.ylabel('True Labels')\n",
    "plt.title('Confusion Matrix')\n",
    "plt.show()"
   ]
  },
  {
   "cell_type": "markdown",
   "metadata": {},
   "source": [
    "Матрица ошибок демонстрирует, что модель имеет некоторое количество ложно-положительных (False Positives) и ложно-отрицательных (False Negatives) предсказаний. Это означает, что существует потенциал для улучшения модели и дополнительной настройки порогового значения для классификации.\n",
    "\n",
    "Для бизнеса, целью которого является удержание клиентов, важно сконцентрироваться на правильной классификации потенциальных уходящих клиентов (True Positives) и снижении ложных срабатываний (False Positives). Это позволит оптимизировать маркетинговые усилия и предложить персонализированные стимулирующие акции, направленные на удержание таких клиентов.\n",
    "\n",
    "С учетом значений матрицы ошибок:\n",
    "\n",
    "True Positives (TP) равно 1486. Это количество клиентов, которых модель верно классифицировала как потенциальных ушедших. Они действительно ушли и могут потребовать дополнительных усилий для их удержания.\n",
    "\n",
    "False Positives (FP) равно 0. Это количество клиентов, которых модель неправильно классифицировала как потенциальных ушедших, хотя на самом деле они остались. \n",
    "\n",
    "False Negatives (FN) равно 109. Это количество клиентов, которых модель неправильно классифицировала как оставшихся, но на самом деле они ушли. Это потенциальная потеря для бизнеса, так как ушедшие клиенты могли бы быть удержаны.\n",
    "\n",
    "True Negatives (TN) равно 166. Это количество клиентов, которых модель верно классифицировала как оставшихся. Они остаются и продолжают использовать услуги."
   ]
  },
  {
   "cell_type": "code",
   "execution_count": 53,
   "metadata": {},
   "outputs": [
    {
     "name": "stdout",
     "output_type": "stream",
     "text": [
      "Отчет о классификации:\n",
      "              precision    recall  f1-score   support\n",
      "\n",
      "           0       0.93      1.00      0.96      1486\n",
      "           1       1.00      0.60      0.75       275\n",
      "\n",
      "    accuracy                           0.94      1761\n",
      "   macro avg       0.97      0.80      0.86      1761\n",
      "weighted avg       0.94      0.94      0.93      1761\n",
      "\n"
     ]
    }
   ],
   "source": [
    "# Отчет о классификации\n",
    "classification_rep = classification_report(y_test, y_pred)\n",
    "print(\"Отчет о классификации:\")\n",
    "print(classification_rep)"
   ]
  },
  {
   "cell_type": "markdown",
   "metadata": {},
   "source": [
    "На основе данной модели получена высокая точность (93%), однако полнота для класса 1 снижена (53%). Это может указывать на то, что модель успешно идентифицирует клиентов, оставшихся с оператором (класс 0), но менее эффективна в выявлении клиентов, планирующих уйти (класс 1)."
   ]
  },
  {
   "cell_type": "markdown",
   "metadata": {},
   "source": [
    "### Отчет "
   ]
  },
  {
   "cell_type": "markdown",
   "metadata": {},
   "source": [
    "#### Ключевые шаги работы над проектом:\n",
    "\n",
    "**Подготовка и исследовательский анализ данных:**\n",
    "   - Анализ распределений признаков и статистик.\n",
    "   - Визуализация данных для выявления паттернов.\n",
    "   \n",
    "**Отбор признаков:**\n",
    "   - Исследование корреляций между признаками.\n",
    "   - Выявление наиболее значимых признаков, влияющих на отток клиентов.\n",
    "   \n",
    "**Построение модели:**\n",
    "   - Выбор подходящего алгоритма машинного обучения.\n",
    "   - Разделение данных на обучающую и тестовую выборки.\n",
    "   - Обучение модели на обучающих данных.\n",
    "   \n",
    "\n",
    "**Оценка модели:**\n",
    "   - Использование метрик (ROC-AUC, accuracy) для оценки производительности модели.\n",
    "   - Оптимизация гиперпараметров модели для достижения наилучшей производительности.\n",
    "   - Анализ результатов прогнозирования: А) анализ важности признаков; Б) анализ матрицы ошибок\n",
    "\n",
    "#### Анализ соответствия фактической работы запланированным шагам:\n",
    "\n",
    "Все запланированные шаги были выполнены в соответствии с планом проекта."
   ]
  },
  {
   "cell_type": "markdown",
   "metadata": {},
   "source": [
    "#### Рефлексия над сложностями и описание путей их решения:\n",
    "\n",
    "В ходе работы над проектом возникли следующие сложности:\n",
    "\n",
    "Дисбаланс классов: Исходные данные имели сильный дисбаланс классов, где класс клиентов, которые остались (0), превышал класс клиентов, которые ушли (1). Для решения этой проблемы был использован вес классов \"class_weight='balanced'\", а также проведен анализ важности признаков для выявления наиболее значимых признаков, влияющих на отток клиентов.\n",
    "\n",
    "Отбор признаков: Исходные данные содержали различные признаки, некоторые из которых могли быть неинформативными. Для отбора наиболее значимых признаков был проведен анализ корреляций между признаками. \n",
    "\n",
    "Оптимизация моделей: Для достижения наилучшей производительности моделей были проведены поиски по сетке гиперпараметров с использованием кросс-валидации. Это позволило подобрать оптимальные параметры для каждой модели.\n",
    "\n",
    "Интерпретация результатов: Понимание и интерпретация результатов машинного обучения является важной частью процесса. В частности, анализ матрицы ошибок и важности признаков позволяет понять, как модель принимает решения и какие признаки наиболее влияют на результаты."
   ]
  },
  {
   "cell_type": "markdown",
   "metadata": {},
   "source": [
    "#### Предобработка данных:\n",
    "\n",
    "Соединение датафреймов: Изначально у нас были четыре исходных датафрейма. Для создания единого набора данных о клиентах и их оттоке мы объединили эти датафреймы по общему ключу \"customerID\". Это позволило нам иметь полную информацию о каждом клиенте в одном датафрейме.\n",
    "\n",
    "Удаление столбцов: В ходе анализа данных мы определили, что столбцы \"customerID\" и \"BeginDate\", \"EndDate\" не предоставляют информации, которая могла бы быть полезной для моделирования оттока. Поэтому мы удалили эти столбцы из набора данных.\n",
    "\n",
    "Заполнение пропусков: В столбце \"TotalCharges\" у нас были некоторые пропущенные значения. Мы заполнили нулем.\n",
    "\n",
    "Смена формата: В столбце \"TotalCharges\" изначально данные были представлены как строки (object). Мы преобразовали этот столбец в числовой формат. Также признак \"SeniorCitizen\" был переведен в формат object для удобства \n",
    "\n",
    "Новые признаки: на основе \"BeginDate\", \"EndDate\" был создан новый признак - длительность контракта - ContractDuration. \n",
    "\n",
    "На основе \"EndDate\" был создан целевой признак \"Churn\"."
   ]
  },
  {
   "cell_type": "markdown",
   "metadata": {},
   "source": [
    "#### Итоговый список признаков для обучения модели:\n",
    "\n",
    "**SeniorCitizen**: статус пенсионера   \n",
    "**ContractDuration**: длительность контракта  \n",
    "**PaymentMethod**: способ оплаты \n",
    "\n",
    "Способы обработки признаков:\n",
    "\n",
    "SeniorCitizen и PaymentMethod: Для этих категориальных признаков был использован метод кодирования \"One-Hot Encoding\" с параметром handle_unknown='ignore' для модели Logistic Regression и \"Ordinal Encoding\" с параметром handle_unknown='use_encoded_value' и unknown_value=-1 для моделей Gradient Boosting и Random Forest.\n",
    "\n",
    "ContractDuration: Этот числовой признак был стандартизирован с использованием метода StandardScaler.\n",
    "\n",
    "Эти преобразования признаков были выбраны с учетом требований и особенностей каждой модели. One-Hot Encoding подходит для линейных моделей, таких как Logistic Regression, в то время как Ordinal Encoding был выбран для моделей Gradient Boosting и Random Forest, которые могут работать с порядковыми категориальными признаками и обработкой пропусков. StandardScaler использовался для стандартизации числовых признаков для улучшения производительности моделей."
   ]
  },
  {
   "cell_type": "markdown",
   "metadata": {},
   "source": [
    "#### Сводная таблица исследованных моделей и их метрика на кросс-валидации:\n",
    "\n",
    "| Модель               | AUC-ROC | Accuracy |\n",
    "|----------------------|---------|----------|\n",
    "| Logistic Regression  | 0.611   | 0.537    |\n",
    "| Gradient Boosting    | 0.912   | 0.945    |\n",
    "| Random Forest        | 0.812   | 0.854    |\n"
   ]
  },
  {
   "cell_type": "markdown",
   "metadata": {},
   "source": [
    "**Вывод:**\n",
    "\n",
    "1. **Logistic Regression** демонстрирует наименьшую производительность с низкими значениями метрик AUC-ROC и Accuracy. Это может указывать на то, что данная модель недостаточно хорошо справляется с задачей классификации в данном контексте.\n",
    "\n",
    "2. **Gradient Boosting** показывает наилучшие результаты с высокими значениями как AUC-ROC (0.912), так и Accuracy (0.945). Это указывает на то, что модель успешно обобщает данные и делает точные прогнозы, что делает её хорошим выбором для данной задачи.\n",
    "\n",
    "3. **Random Forest** имеет средние результаты по сравнению с другими моделями. Метрики AUC-ROC и Accuracy находятся между результатами Logistic Regression и Gradient Boosting.\n",
    "\n",
    "Исходя из этой информации, модель Gradient Boosting является наилучшим выбором для данной задачи, так как она обеспечивает наибольшую точность и способность разделять классы."
   ]
  },
  {
   "cell_type": "markdown",
   "metadata": {},
   "source": [
    "#### Лучшая модель:  \n",
    "**Модель Gradient Boosting**"
   ]
  },
  {
   "cell_type": "code",
   "execution_count": 54,
   "metadata": {},
   "outputs": [
    {
     "name": "stdout",
     "output_type": "stream",
     "text": [
      "Наилучшие гиперпараметры для модели Gradient Boosting: {'model__learning_rate': 0.2, 'model__max_depth': 3, 'model__n_estimators': 200}\n"
     ]
    }
   ],
   "source": [
    "best_params_gb = grid_search_gb.best_params_\n",
    "print(\"Наилучшие гиперпараметры для модели Gradient Boosting:\", best_params_gb)"
   ]
  },
  {
   "cell_type": "markdown",
   "metadata": {},
   "source": [
    "Эти гиперпараметры были выбраны на основе кросс-валидации и оказались наилучшими для нашей модели Gradient Boosting, что указывает на то, что они обеспечивают наиболее высокую производительность и точность для данной задачи."
   ]
  },
  {
   "cell_type": "markdown",
   "metadata": {},
   "source": [
    "**Метрика на кросс-валидации для Gradient Boosting:**\n",
    "\n",
    "AUC-ROC: 0.912\n",
    "Accuracy: 0.945"
   ]
  },
  {
   "cell_type": "markdown",
   "metadata": {},
   "source": [
    "Значение метрики AUC-ROC составляет 0.912. Это означает, что модель хорошо способна различать классы и имеет высокую способность предсказывать вероятности.\n",
    "\n",
    "Значение метрики Accuracy составляет 0.945. Это означает, что модель демонстрирует высокую общую точность в классификации, и более 94% прогнозов являются верными."
   ]
  },
  {
   "cell_type": "markdown",
   "metadata": {},
   "source": [
    "#### Итоговая метрика на тестовой выборке:\n",
    "\n",
    "ROC-AUC: 0.899\n",
    "Accuracy: 0.938\n",
    "\n",
    "В целом, модель Gradient Boosting продемонстрировала хорошую производительность как на кросс-валидации, так и на тестовой выборке. Она обладает способностью делать точные прогнозы и хорошо работает с данными.\n",
    "\n",
    "\n"
   ]
  },
  {
   "cell_type": "markdown",
   "metadata": {},
   "source": [
    "#### Матрица ошибок для модели Gradient Boosting:"
   ]
  },
  {
   "cell_type": "code",
   "execution_count": 55,
   "metadata": {},
   "outputs": [
    {
     "data": {
      "image/png": "[encoded data removed]",
      "text/plain": [
       "<Figure size 576x432 with 1 Axes>"
      ]
     },
     "metadata": {
      "needs_background": "light"
     },
     "output_type": "display_data"
    }
   ],
   "source": [
    "# Визуализация матрицы ошибок\n",
    "plt.figure(figsize=(8, 6))\n",
    "sns.heatmap(conf_matrix, annot=True, fmt='d', cmap='Blues', cbar=False)\n",
    "plt.xlabel('Predicted Labels')\n",
    "plt.ylabel('True Labels')\n",
    "plt.title('Confusion Matrix')\n",
    "plt.show()"
   ]
  },
  {
   "cell_type": "markdown",
   "metadata": {},
   "source": [
    "Для бизнеса, целью которого является удержание клиентов, важно сконцентрироваться на правильной классификации потенциальных уходящих клиентов (True Positives) и снижении ложных срабатываний (False Positives). Это позволит оптимизировать маркетинговые усилия и предложить персонализированные стимулирующие акции, направленные на удержание таких клиентов.\n",
    "\n",
    "С учетом значений матрицы ошибок:\n",
    "\n",
    "True Positives (TP) равно 1486. Это количество клиентов, которых модель верно классифицировала как  ушедших. Они действительно ушли и могут потребовать дополнительных усилий для их удержания.\n",
    "\n",
    "False Positives (FP) равно 0. Это количество клиентов, которых модель неправильно классифицировала как потенциальных ушедших, хотя на самом деле они остались.\n",
    "\n",
    "False Negatives (FN) равно 109. Это количество клиентов, которых модель неправильно классифицировала как оставшихся, но на самом деле они ушли. Это потенциальная потеря для бизнеса, так как ушедшие клиенты могли бы быть удержаны.\n",
    "\n",
    "True Negatives (TN) равно 166. Это количество клиентов, которых модель верно классифицировала как оставшихся. Они остаются и продолжают использовать услуги."
   ]
  },
  {
   "cell_type": "markdown",
   "metadata": {},
   "source": [
    "#### Важность признаков:\n",
    "\n",
    "Важность признаков указывает на то, как сильно каждый признак влияет на прогноз. В нашем случае:\n",
    "\n",
    "ContractDuration - длительность контракта - является наиболее важным признаком с важностью около 0.956. Это означает, что длительность контракта сильно влияет на решение клиента об уходе.\n",
    "\n",
    "PaymentMethod - метод оплаты - имеет меньшую важность с весом около 0.037. Он также вносит некоторый вклад в прогноз, но менее значим, чем длительность контракта.\n",
    "\n",
    "SeniorCitizen - статус пенсионера - имеет самую низкую важность с весом около 0.008. Этот признак оказывает наименьшее влияние на прогноз относительно других признаков."
   ]
  },
  {
   "cell_type": "code",
   "execution_count": 56,
   "metadata": {},
   "outputs": [
    {
     "data": {
      "image/png": "[encoded data removed]",
      "text/plain": [
       "<Figure size 1080x720 with 1 Axes>"
      ]
     },
     "metadata": {
      "needs_background": "light"
     },
     "output_type": "display_data"
    }
   ],
   "source": [
    "# Создание горизонтального бар-графика для визуализации важности признаков\n",
    "plt.figure(figsize=(15, 10))\n",
    "plt.barh(importance['Признак'], importance['Значимость'])\n",
    "plt.xlabel('Значимость признака')\n",
    "plt.title('Важность признаков для Gradient Boosting')\n",
    "plt.show()"
   ]
  }
 ],
 "metadata": {
  "ExecuteTimeLog": [
   {
    "duration": 114,
    "start_time": "2023-08-31T00:28:44.544Z"
   },
   {
    "duration": 1952,
    "start_time": "2023-08-31T00:37:26.132Z"
   },
   {
    "duration": 355,
    "start_time": "2023-08-31T00:37:57.134Z"
   },
   {
    "duration": 85,
    "start_time": "2023-08-31T00:40:09.569Z"
   },
   {
    "duration": 6,
    "start_time": "2023-08-31T00:41:20.610Z"
   },
   {
    "duration": 51,
    "start_time": "2023-08-31T00:41:32.367Z"
   },
   {
    "duration": 243,
    "start_time": "2023-08-31T00:42:00.598Z"
   },
   {
    "duration": 38,
    "start_time": "2023-08-31T00:42:37.195Z"
   },
   {
    "duration": 196,
    "start_time": "2023-08-31T00:42:52.192Z"
   },
   {
    "duration": 133,
    "start_time": "2023-08-31T00:43:03.566Z"
   },
   {
    "duration": 46,
    "start_time": "2023-08-31T00:43:15.799Z"
   },
   {
    "duration": 126,
    "start_time": "2023-08-31T00:43:28.320Z"
   },
   {
    "duration": 31,
    "start_time": "2023-08-31T00:43:54.778Z"
   },
   {
    "duration": 132,
    "start_time": "2023-08-31T00:45:38.631Z"
   },
   {
    "duration": 81,
    "start_time": "2023-08-31T00:45:59.727Z"
   },
   {
    "duration": 21,
    "start_time": "2023-08-31T00:46:00.701Z"
   },
   {
    "duration": 38,
    "start_time": "2023-08-31T00:50:43.648Z"
   },
   {
    "duration": 12,
    "start_time": "2023-08-31T00:51:12.968Z"
   },
   {
    "duration": 1649,
    "start_time": "2023-08-31T00:56:34.439Z"
   },
   {
    "duration": 106,
    "start_time": "2023-08-31T00:56:36.089Z"
   },
   {
    "duration": 16,
    "start_time": "2023-08-31T00:56:36.196Z"
   },
   {
    "duration": 84,
    "start_time": "2023-08-31T00:56:36.214Z"
   },
   {
    "duration": 264,
    "start_time": "2023-08-31T00:56:36.300Z"
   },
   {
    "duration": 38,
    "start_time": "2023-08-31T00:56:36.566Z"
   },
   {
    "duration": 163,
    "start_time": "2023-08-31T00:56:36.605Z"
   },
   {
    "duration": 210,
    "start_time": "2023-08-31T00:56:36.770Z"
   },
   {
    "duration": 62,
    "start_time": "2023-08-31T00:56:36.981Z"
   },
   {
    "duration": 124,
    "start_time": "2023-08-31T00:56:37.045Z"
   },
   {
    "duration": 43,
    "start_time": "2023-08-31T00:56:37.170Z"
   },
   {
    "duration": 74,
    "start_time": "2023-08-31T00:56:37.216Z"
   },
   {
    "duration": 120,
    "start_time": "2023-08-31T00:56:37.292Z"
   },
   {
    "duration": 116,
    "start_time": "2023-08-31T00:56:37.415Z"
   },
   {
    "duration": 11,
    "start_time": "2023-08-31T00:56:37.533Z"
   },
   {
    "duration": 1669,
    "start_time": "2023-08-31T01:11:33.377Z"
   },
   {
    "duration": 111,
    "start_time": "2023-08-31T01:11:35.048Z"
   },
   {
    "duration": 4,
    "start_time": "2023-08-31T01:11:35.161Z"
   },
   {
    "duration": 75,
    "start_time": "2023-08-31T01:11:35.167Z"
   },
   {
    "duration": 243,
    "start_time": "2023-08-31T01:11:35.244Z"
   },
   {
    "duration": 40,
    "start_time": "2023-08-31T01:11:35.490Z"
   },
   {
    "duration": 121,
    "start_time": "2023-08-31T01:11:35.531Z"
   },
   {
    "duration": 220,
    "start_time": "2023-08-31T01:11:35.654Z"
   },
   {
    "duration": 51,
    "start_time": "2023-08-31T01:11:35.876Z"
   },
   {
    "duration": 132,
    "start_time": "2023-08-31T01:11:35.929Z"
   },
   {
    "duration": 42,
    "start_time": "2023-08-31T01:11:36.063Z"
   },
   {
    "duration": 186,
    "start_time": "2023-08-31T01:11:36.108Z"
   },
   {
    "duration": 50,
    "start_time": "2023-08-31T01:11:36.295Z"
   },
   {
    "duration": 12,
    "start_time": "2023-08-31T01:11:36.347Z"
   },
   {
    "duration": 2229,
    "start_time": "2023-08-31T13:05:23.242Z"
   },
   {
    "duration": 359,
    "start_time": "2023-08-31T13:05:25.474Z"
   },
   {
    "duration": 6,
    "start_time": "2023-08-31T13:05:25.834Z"
   },
   {
    "duration": 46,
    "start_time": "2023-08-31T13:05:25.842Z"
   },
   {
    "duration": 283,
    "start_time": "2023-08-31T13:05:25.890Z"
   },
   {
    "duration": 46,
    "start_time": "2023-08-31T13:05:26.176Z"
   },
   {
    "duration": 195,
    "start_time": "2023-08-31T13:05:26.228Z"
   },
   {
    "duration": 243,
    "start_time": "2023-08-31T13:05:26.426Z"
   },
   {
    "duration": 88,
    "start_time": "2023-08-31T13:05:26.671Z"
   },
   {
    "duration": 259,
    "start_time": "2023-08-31T13:05:26.761Z"
   },
   {
    "duration": 141,
    "start_time": "2023-08-31T13:05:27.022Z"
   },
   {
    "duration": 207,
    "start_time": "2023-08-31T13:05:27.165Z"
   },
   {
    "duration": 22,
    "start_time": "2023-08-31T13:05:27.374Z"
   },
   {
    "duration": 102,
    "start_time": "2023-08-31T13:05:27.398Z"
   },
   {
    "duration": 36,
    "start_time": "2023-08-31T13:05:27.509Z"
   },
   {
    "duration": 1856,
    "start_time": "2023-08-31T13:07:33.324Z"
   },
   {
    "duration": 104,
    "start_time": "2023-08-31T13:07:35.183Z"
   },
   {
    "duration": 6,
    "start_time": "2023-08-31T13:07:35.290Z"
   },
   {
    "duration": 85,
    "start_time": "2023-08-31T13:07:35.298Z"
   },
   {
    "duration": 304,
    "start_time": "2023-08-31T13:07:35.386Z"
   },
   {
    "duration": 40,
    "start_time": "2023-08-31T13:07:35.692Z"
   },
   {
    "duration": 134,
    "start_time": "2023-08-31T13:07:35.734Z"
   },
   {
    "duration": 262,
    "start_time": "2023-08-31T13:07:35.870Z"
   },
   {
    "duration": 43,
    "start_time": "2023-08-31T13:07:36.134Z"
   },
   {
    "duration": 260,
    "start_time": "2023-08-31T13:07:36.179Z"
   },
   {
    "duration": 55,
    "start_time": "2023-08-31T13:07:36.441Z"
   },
   {
    "duration": 86,
    "start_time": "2023-08-31T13:07:36.498Z"
   },
   {
    "duration": 23,
    "start_time": "2023-08-31T13:07:36.586Z"
   },
   {
    "duration": 41,
    "start_time": "2023-08-31T13:07:36.616Z"
   },
   {
    "duration": 12,
    "start_time": "2023-08-31T13:07:36.659Z"
   },
   {
    "duration": 1681,
    "start_time": "2023-08-31T13:09:49.071Z"
   },
   {
    "duration": 116,
    "start_time": "2023-08-31T13:09:50.754Z"
   },
   {
    "duration": 5,
    "start_time": "2023-08-31T13:09:50.871Z"
   },
   {
    "duration": 100,
    "start_time": "2023-08-31T13:09:50.879Z"
   },
   {
    "duration": 270,
    "start_time": "2023-08-31T13:09:50.981Z"
   },
   {
    "duration": 26,
    "start_time": "2023-08-31T13:09:51.253Z"
   },
   {
    "duration": 150,
    "start_time": "2023-08-31T13:09:51.281Z"
   },
   {
    "duration": 226,
    "start_time": "2023-08-31T13:09:51.433Z"
   },
   {
    "duration": 68,
    "start_time": "2023-08-31T13:09:51.661Z"
   },
   {
    "duration": 131,
    "start_time": "2023-08-31T13:09:51.731Z"
   },
   {
    "duration": 47,
    "start_time": "2023-08-31T13:09:51.864Z"
   },
   {
    "duration": 110,
    "start_time": "2023-08-31T13:09:51.914Z"
   },
   {
    "duration": 17,
    "start_time": "2023-08-31T13:09:52.032Z"
   },
   {
    "duration": 81,
    "start_time": "2023-08-31T13:09:52.053Z"
   },
   {
    "duration": 11,
    "start_time": "2023-08-31T13:09:52.136Z"
   },
   {
    "duration": 6,
    "start_time": "2023-08-31T13:11:50.972Z"
   },
   {
    "duration": 1779,
    "start_time": "2023-08-31T13:12:01.042Z"
   },
   {
    "duration": 111,
    "start_time": "2023-08-31T13:12:02.823Z"
   },
   {
    "duration": 4,
    "start_time": "2023-08-31T13:12:02.936Z"
   },
   {
    "duration": 40,
    "start_time": "2023-08-31T13:12:02.942Z"
   },
   {
    "duration": 254,
    "start_time": "2023-08-31T13:12:02.984Z"
   },
   {
    "duration": 25,
    "start_time": "2023-08-31T13:12:03.241Z"
   },
   {
    "duration": 154,
    "start_time": "2023-08-31T13:12:03.268Z"
   },
   {
    "duration": 237,
    "start_time": "2023-08-31T13:12:03.429Z"
   },
   {
    "duration": 64,
    "start_time": "2023-08-31T13:12:03.668Z"
   },
   {
    "duration": 135,
    "start_time": "2023-08-31T13:12:03.736Z"
   },
   {
    "duration": 42,
    "start_time": "2023-08-31T13:12:03.873Z"
   },
   {
    "duration": 84,
    "start_time": "2023-08-31T13:12:03.921Z"
   },
   {
    "duration": 134,
    "start_time": "2023-08-31T13:12:04.006Z"
   },
   {
    "duration": 0,
    "start_time": "2023-08-31T13:12:04.142Z"
   },
   {
    "duration": 0,
    "start_time": "2023-08-31T13:12:04.143Z"
   },
   {
    "duration": 1768,
    "start_time": "2023-08-31T13:12:53.295Z"
   },
   {
    "duration": 112,
    "start_time": "2023-08-31T13:12:55.066Z"
   },
   {
    "duration": 5,
    "start_time": "2023-08-31T13:12:55.179Z"
   },
   {
    "duration": 62,
    "start_time": "2023-08-31T13:12:55.186Z"
   },
   {
    "duration": 244,
    "start_time": "2023-08-31T13:12:55.250Z"
   },
   {
    "duration": 37,
    "start_time": "2023-08-31T13:12:55.496Z"
   },
   {
    "duration": 145,
    "start_time": "2023-08-31T13:12:55.535Z"
   },
   {
    "duration": 284,
    "start_time": "2023-08-31T13:12:55.683Z"
   },
   {
    "duration": 96,
    "start_time": "2023-08-31T13:12:55.969Z"
   },
   {
    "duration": 188,
    "start_time": "2023-08-31T13:12:56.067Z"
   },
   {
    "duration": 57,
    "start_time": "2023-08-31T13:12:56.257Z"
   },
   {
    "duration": 92,
    "start_time": "2023-08-31T13:12:56.316Z"
   },
   {
    "duration": 23,
    "start_time": "2023-08-31T13:12:56.411Z"
   },
   {
    "duration": 158,
    "start_time": "2023-08-31T13:12:56.436Z"
   },
   {
    "duration": 27,
    "start_time": "2023-08-31T13:12:56.596Z"
   },
   {
    "duration": 1909,
    "start_time": "2023-09-01T01:58:14.059Z"
   },
   {
    "duration": 372,
    "start_time": "2023-09-01T01:58:15.970Z"
   },
   {
    "duration": 6,
    "start_time": "2023-09-01T01:58:16.344Z"
   },
   {
    "duration": 39,
    "start_time": "2023-09-01T01:58:16.352Z"
   },
   {
    "duration": 253,
    "start_time": "2023-09-01T01:58:16.393Z"
   },
   {
    "duration": 28,
    "start_time": "2023-09-01T01:58:16.648Z"
   },
   {
    "duration": 144,
    "start_time": "2023-09-01T01:58:16.678Z"
   },
   {
    "duration": 249,
    "start_time": "2023-09-01T01:58:16.824Z"
   },
   {
    "duration": 65,
    "start_time": "2023-09-01T01:58:17.075Z"
   },
   {
    "duration": 129,
    "start_time": "2023-09-01T01:58:17.143Z"
   },
   {
    "duration": 49,
    "start_time": "2023-09-01T01:58:17.274Z"
   },
   {
    "duration": 87,
    "start_time": "2023-09-01T01:58:17.325Z"
   },
   {
    "duration": 18,
    "start_time": "2023-09-01T01:58:17.414Z"
   },
   {
    "duration": 43,
    "start_time": "2023-09-01T01:58:17.436Z"
   },
   {
    "duration": 33,
    "start_time": "2023-09-01T01:58:17.481Z"
   },
   {
    "duration": 1937,
    "start_time": "2023-09-01T01:58:17.516Z"
   },
   {
    "duration": 0,
    "start_time": "2023-09-01T01:58:19.456Z"
   },
   {
    "duration": 0,
    "start_time": "2023-09-01T01:58:19.458Z"
   },
   {
    "duration": 0,
    "start_time": "2023-09-01T01:58:19.459Z"
   },
   {
    "duration": 0,
    "start_time": "2023-09-01T01:58:19.460Z"
   },
   {
    "duration": 0,
    "start_time": "2023-09-01T01:58:19.461Z"
   },
   {
    "duration": 0,
    "start_time": "2023-09-01T01:58:19.462Z"
   },
   {
    "duration": 0,
    "start_time": "2023-09-01T01:58:19.464Z"
   },
   {
    "duration": 0,
    "start_time": "2023-09-01T01:58:19.465Z"
   },
   {
    "duration": 0,
    "start_time": "2023-09-01T01:58:19.467Z"
   },
   {
    "duration": 0,
    "start_time": "2023-09-01T01:58:19.468Z"
   },
   {
    "duration": 0,
    "start_time": "2023-09-01T01:58:19.469Z"
   },
   {
    "duration": 0,
    "start_time": "2023-09-01T01:58:19.470Z"
   },
   {
    "duration": 17,
    "start_time": "2023-09-01T01:59:17.496Z"
   },
   {
    "duration": 16,
    "start_time": "2023-09-01T01:59:21.919Z"
   },
   {
    "duration": 13,
    "start_time": "2023-09-01T02:00:27.634Z"
   },
   {
    "duration": 75,
    "start_time": "2023-09-01T02:02:05.016Z"
   },
   {
    "duration": 0,
    "start_time": "2023-09-01T02:02:05.095Z"
   },
   {
    "duration": 0,
    "start_time": "2023-09-01T02:02:05.097Z"
   },
   {
    "duration": 0,
    "start_time": "2023-09-01T02:02:05.099Z"
   },
   {
    "duration": 1,
    "start_time": "2023-09-01T02:02:05.100Z"
   },
   {
    "duration": 0,
    "start_time": "2023-09-01T02:02:05.104Z"
   },
   {
    "duration": 0,
    "start_time": "2023-09-01T02:02:05.106Z"
   },
   {
    "duration": 0,
    "start_time": "2023-09-01T02:02:05.107Z"
   },
   {
    "duration": 0,
    "start_time": "2023-09-01T02:02:05.115Z"
   },
   {
    "duration": 0,
    "start_time": "2023-09-01T02:02:05.116Z"
   },
   {
    "duration": 0,
    "start_time": "2023-09-01T02:02:05.123Z"
   },
   {
    "duration": 0,
    "start_time": "2023-09-01T02:02:05.125Z"
   },
   {
    "duration": 0,
    "start_time": "2023-09-01T02:02:05.126Z"
   },
   {
    "duration": 0,
    "start_time": "2023-09-01T02:02:05.128Z"
   },
   {
    "duration": 0,
    "start_time": "2023-09-01T02:02:05.130Z"
   },
   {
    "duration": 0,
    "start_time": "2023-09-01T02:02:05.132Z"
   },
   {
    "duration": 0,
    "start_time": "2023-09-01T02:02:05.134Z"
   },
   {
    "duration": 0,
    "start_time": "2023-09-01T02:02:05.135Z"
   },
   {
    "duration": 0,
    "start_time": "2023-09-01T02:02:05.137Z"
   },
   {
    "duration": 0,
    "start_time": "2023-09-01T02:02:05.138Z"
   },
   {
    "duration": 0,
    "start_time": "2023-09-01T02:02:05.139Z"
   },
   {
    "duration": 0,
    "start_time": "2023-09-01T02:02:05.140Z"
   },
   {
    "duration": 0,
    "start_time": "2023-09-01T02:02:05.141Z"
   },
   {
    "duration": 0,
    "start_time": "2023-09-01T02:02:05.142Z"
   },
   {
    "duration": 0,
    "start_time": "2023-09-01T02:02:05.143Z"
   },
   {
    "duration": 0,
    "start_time": "2023-09-01T02:02:05.144Z"
   },
   {
    "duration": 0,
    "start_time": "2023-09-01T02:02:05.145Z"
   },
   {
    "duration": 0,
    "start_time": "2023-09-01T02:02:05.146Z"
   },
   {
    "duration": 4790,
    "start_time": "2023-09-01T02:02:31.523Z"
   },
   {
    "duration": 0,
    "start_time": "2023-09-01T02:02:36.317Z"
   },
   {
    "duration": 0,
    "start_time": "2023-09-01T02:02:36.321Z"
   },
   {
    "duration": 0,
    "start_time": "2023-09-01T02:02:36.323Z"
   },
   {
    "duration": 0,
    "start_time": "2023-09-01T02:02:36.325Z"
   },
   {
    "duration": 0,
    "start_time": "2023-09-01T02:02:36.326Z"
   },
   {
    "duration": 0,
    "start_time": "2023-09-01T02:02:36.328Z"
   },
   {
    "duration": 0,
    "start_time": "2023-09-01T02:02:36.330Z"
   },
   {
    "duration": 0,
    "start_time": "2023-09-01T02:02:36.331Z"
   },
   {
    "duration": 0,
    "start_time": "2023-09-01T02:02:36.333Z"
   },
   {
    "duration": 0,
    "start_time": "2023-09-01T02:02:36.335Z"
   },
   {
    "duration": 0,
    "start_time": "2023-09-01T02:02:36.336Z"
   },
   {
    "duration": 0,
    "start_time": "2023-09-01T02:02:36.340Z"
   },
   {
    "duration": 0,
    "start_time": "2023-09-01T02:02:36.342Z"
   },
   {
    "duration": 0,
    "start_time": "2023-09-01T02:02:36.343Z"
   },
   {
    "duration": 0,
    "start_time": "2023-09-01T02:02:36.344Z"
   },
   {
    "duration": 0,
    "start_time": "2023-09-01T02:02:36.346Z"
   },
   {
    "duration": 0,
    "start_time": "2023-09-01T02:02:36.347Z"
   },
   {
    "duration": 0,
    "start_time": "2023-09-01T02:02:36.349Z"
   },
   {
    "duration": 0,
    "start_time": "2023-09-01T02:02:36.350Z"
   },
   {
    "duration": 0,
    "start_time": "2023-09-01T02:02:36.351Z"
   },
   {
    "duration": 0,
    "start_time": "2023-09-01T02:02:36.352Z"
   },
   {
    "duration": 0,
    "start_time": "2023-09-01T02:02:36.354Z"
   },
   {
    "duration": 0,
    "start_time": "2023-09-01T02:02:36.402Z"
   },
   {
    "duration": 1,
    "start_time": "2023-09-01T02:02:36.403Z"
   },
   {
    "duration": 0,
    "start_time": "2023-09-01T02:02:36.405Z"
   },
   {
    "duration": 0,
    "start_time": "2023-09-01T02:02:36.406Z"
   },
   {
    "duration": 0,
    "start_time": "2023-09-01T02:02:36.408Z"
   },
   {
    "duration": 9355,
    "start_time": "2023-09-01T02:04:26.727Z"
   },
   {
    "duration": 111,
    "start_time": "2023-09-01T02:04:36.084Z"
   },
   {
    "duration": 21,
    "start_time": "2023-09-01T02:04:36.196Z"
   },
   {
    "duration": 132,
    "start_time": "2023-09-01T02:04:36.222Z"
   },
   {
    "duration": 313,
    "start_time": "2023-09-01T02:04:36.355Z"
   },
   {
    "duration": 55,
    "start_time": "2023-09-01T02:04:36.670Z"
   },
   {
    "duration": 144,
    "start_time": "2023-09-01T02:04:36.730Z"
   },
   {
    "duration": 159,
    "start_time": "2023-09-01T02:04:36.877Z"
   },
   {
    "duration": 45,
    "start_time": "2023-09-01T02:04:37.038Z"
   },
   {
    "duration": 273,
    "start_time": "2023-09-01T02:04:37.103Z"
   },
   {
    "duration": 51,
    "start_time": "2023-09-01T02:04:37.378Z"
   },
   {
    "duration": 91,
    "start_time": "2023-09-01T02:04:37.432Z"
   },
   {
    "duration": 14,
    "start_time": "2023-09-01T02:04:37.525Z"
   },
   {
    "duration": 46,
    "start_time": "2023-09-01T02:04:37.540Z"
   },
   {
    "duration": 33,
    "start_time": "2023-09-01T02:04:37.587Z"
   },
   {
    "duration": 212,
    "start_time": "2023-09-01T02:04:37.622Z"
   },
   {
    "duration": 0,
    "start_time": "2023-09-01T02:04:37.836Z"
   },
   {
    "duration": 0,
    "start_time": "2023-09-01T02:04:37.837Z"
   },
   {
    "duration": 0,
    "start_time": "2023-09-01T02:04:37.839Z"
   },
   {
    "duration": 0,
    "start_time": "2023-09-01T02:04:37.841Z"
   },
   {
    "duration": 0,
    "start_time": "2023-09-01T02:04:37.842Z"
   },
   {
    "duration": 0,
    "start_time": "2023-09-01T02:04:37.843Z"
   },
   {
    "duration": 0,
    "start_time": "2023-09-01T02:04:37.845Z"
   },
   {
    "duration": 0,
    "start_time": "2023-09-01T02:04:37.846Z"
   },
   {
    "duration": 0,
    "start_time": "2023-09-01T02:04:37.847Z"
   },
   {
    "duration": 0,
    "start_time": "2023-09-01T02:04:37.848Z"
   },
   {
    "duration": 0,
    "start_time": "2023-09-01T02:04:37.849Z"
   },
   {
    "duration": 0,
    "start_time": "2023-09-01T02:04:37.850Z"
   },
   {
    "duration": 13,
    "start_time": "2023-09-01T02:05:53.477Z"
   },
   {
    "duration": 7630,
    "start_time": "2023-09-01T02:06:00.189Z"
   },
   {
    "duration": 122,
    "start_time": "2023-09-01T02:06:07.824Z"
   },
   {
    "duration": 5,
    "start_time": "2023-09-01T02:06:07.947Z"
   },
   {
    "duration": 64,
    "start_time": "2023-09-01T02:06:07.954Z"
   },
   {
    "duration": 292,
    "start_time": "2023-09-01T02:06:08.026Z"
   },
   {
    "duration": 33,
    "start_time": "2023-09-01T02:06:08.320Z"
   },
   {
    "duration": 140,
    "start_time": "2023-09-01T02:06:08.354Z"
   },
   {
    "duration": 162,
    "start_time": "2023-09-01T02:06:08.496Z"
   },
   {
    "duration": 75,
    "start_time": "2023-09-01T02:06:08.660Z"
   },
   {
    "duration": 155,
    "start_time": "2023-09-01T02:06:08.741Z"
   },
   {
    "duration": 36,
    "start_time": "2023-09-01T02:06:08.898Z"
   },
   {
    "duration": 97,
    "start_time": "2023-09-01T02:06:08.937Z"
   },
   {
    "duration": 13,
    "start_time": "2023-09-01T02:06:09.036Z"
   },
   {
    "duration": 64,
    "start_time": "2023-09-01T02:06:09.051Z"
   },
   {
    "duration": 16,
    "start_time": "2023-09-01T02:06:09.123Z"
   },
   {
    "duration": 14,
    "start_time": "2023-09-01T02:06:09.141Z"
   },
   {
    "duration": 203,
    "start_time": "2023-09-01T02:06:09.156Z"
   },
   {
    "duration": 0,
    "start_time": "2023-09-01T02:06:09.361Z"
   },
   {
    "duration": 0,
    "start_time": "2023-09-01T02:06:09.363Z"
   },
   {
    "duration": 0,
    "start_time": "2023-09-01T02:06:09.365Z"
   },
   {
    "duration": 0,
    "start_time": "2023-09-01T02:06:09.367Z"
   },
   {
    "duration": 0,
    "start_time": "2023-09-01T02:06:09.369Z"
   },
   {
    "duration": 0,
    "start_time": "2023-09-01T02:06:09.370Z"
   },
   {
    "duration": 0,
    "start_time": "2023-09-01T02:06:09.372Z"
   },
   {
    "duration": 0,
    "start_time": "2023-09-01T02:06:09.373Z"
   },
   {
    "duration": 0,
    "start_time": "2023-09-01T02:06:09.374Z"
   },
   {
    "duration": 0,
    "start_time": "2023-09-01T02:06:09.410Z"
   },
   {
    "duration": 0,
    "start_time": "2023-09-01T02:06:09.416Z"
   },
   {
    "duration": 8659,
    "start_time": "2023-09-01T02:07:29.304Z"
   },
   {
    "duration": 99,
    "start_time": "2023-09-01T02:07:37.965Z"
   },
   {
    "duration": 5,
    "start_time": "2023-09-01T02:07:38.066Z"
   },
   {
    "duration": 61,
    "start_time": "2023-09-01T02:07:38.073Z"
   },
   {
    "duration": 245,
    "start_time": "2023-09-01T02:07:38.136Z"
   },
   {
    "duration": 46,
    "start_time": "2023-09-01T02:07:38.383Z"
   },
   {
    "duration": 156,
    "start_time": "2023-09-01T02:07:38.431Z"
   },
   {
    "duration": 157,
    "start_time": "2023-09-01T02:07:38.589Z"
   },
   {
    "duration": 41,
    "start_time": "2023-09-01T02:07:38.748Z"
   },
   {
    "duration": 146,
    "start_time": "2023-09-01T02:07:38.801Z"
   },
   {
    "duration": 27,
    "start_time": "2023-09-01T02:07:38.949Z"
   },
   {
    "duration": 102,
    "start_time": "2023-09-01T02:07:38.978Z"
   },
   {
    "duration": 12,
    "start_time": "2023-09-01T02:07:39.082Z"
   },
   {
    "duration": 67,
    "start_time": "2023-09-01T02:07:39.096Z"
   },
   {
    "duration": 12,
    "start_time": "2023-09-01T02:07:39.165Z"
   },
   {
    "duration": 68,
    "start_time": "2023-09-01T02:07:39.179Z"
   },
   {
    "duration": 201,
    "start_time": "2023-09-01T02:07:39.249Z"
   },
   {
    "duration": 0,
    "start_time": "2023-09-01T02:07:39.452Z"
   },
   {
    "duration": 0,
    "start_time": "2023-09-01T02:07:39.453Z"
   },
   {
    "duration": 0,
    "start_time": "2023-09-01T02:07:39.455Z"
   },
   {
    "duration": 0,
    "start_time": "2023-09-01T02:07:39.456Z"
   },
   {
    "duration": 0,
    "start_time": "2023-09-01T02:07:39.457Z"
   },
   {
    "duration": 0,
    "start_time": "2023-09-01T02:07:39.458Z"
   },
   {
    "duration": 0,
    "start_time": "2023-09-01T02:07:39.459Z"
   },
   {
    "duration": 0,
    "start_time": "2023-09-01T02:07:39.460Z"
   },
   {
    "duration": 1,
    "start_time": "2023-09-01T02:07:39.461Z"
   },
   {
    "duration": 0,
    "start_time": "2023-09-01T02:07:39.463Z"
   },
   {
    "duration": 0,
    "start_time": "2023-09-01T02:07:39.464Z"
   },
   {
    "duration": 53,
    "start_time": "2023-09-01T02:09:24.587Z"
   },
   {
    "duration": 7697,
    "start_time": "2023-09-01T02:10:29.851Z"
   },
   {
    "duration": 106,
    "start_time": "2023-09-01T02:10:37.551Z"
   },
   {
    "duration": 5,
    "start_time": "2023-09-01T02:10:37.659Z"
   },
   {
    "duration": 51,
    "start_time": "2023-09-01T02:10:37.666Z"
   },
   {
    "duration": 285,
    "start_time": "2023-09-01T02:10:37.720Z"
   },
   {
    "duration": 32,
    "start_time": "2023-09-01T02:10:38.006Z"
   },
   {
    "duration": 126,
    "start_time": "2023-09-01T02:10:38.040Z"
   },
   {
    "duration": 151,
    "start_time": "2023-09-01T02:10:38.168Z"
   },
   {
    "duration": 63,
    "start_time": "2023-09-01T02:10:38.322Z"
   },
   {
    "duration": 151,
    "start_time": "2023-09-01T02:10:38.387Z"
   },
   {
    "duration": 29,
    "start_time": "2023-09-01T02:10:38.540Z"
   },
   {
    "duration": 113,
    "start_time": "2023-09-01T02:10:38.571Z"
   },
   {
    "duration": 25,
    "start_time": "2023-09-01T02:10:38.686Z"
   },
   {
    "duration": 42,
    "start_time": "2023-09-01T02:10:38.716Z"
   },
   {
    "duration": 13,
    "start_time": "2023-09-01T02:10:38.760Z"
   },
   {
    "duration": 214,
    "start_time": "2023-09-01T02:10:38.775Z"
   },
   {
    "duration": 0,
    "start_time": "2023-09-01T02:10:38.991Z"
   },
   {
    "duration": 0,
    "start_time": "2023-09-01T02:10:38.992Z"
   },
   {
    "duration": 0,
    "start_time": "2023-09-01T02:10:38.994Z"
   },
   {
    "duration": 1,
    "start_time": "2023-09-01T02:10:39.001Z"
   },
   {
    "duration": 0,
    "start_time": "2023-09-01T02:10:39.003Z"
   },
   {
    "duration": 0,
    "start_time": "2023-09-01T02:10:39.005Z"
   },
   {
    "duration": 0,
    "start_time": "2023-09-01T02:10:39.005Z"
   },
   {
    "duration": 0,
    "start_time": "2023-09-01T02:10:39.006Z"
   },
   {
    "duration": 0,
    "start_time": "2023-09-01T02:10:39.011Z"
   },
   {
    "duration": 0,
    "start_time": "2023-09-01T02:10:39.013Z"
   },
   {
    "duration": 0,
    "start_time": "2023-09-01T02:10:39.014Z"
   },
   {
    "duration": 0,
    "start_time": "2023-09-01T02:10:39.015Z"
   },
   {
    "duration": 7675,
    "start_time": "2023-09-01T02:12:17.643Z"
   },
   {
    "duration": 102,
    "start_time": "2023-09-01T02:12:25.322Z"
   },
   {
    "duration": 5,
    "start_time": "2023-09-01T02:12:25.425Z"
   },
   {
    "duration": 60,
    "start_time": "2023-09-01T02:12:25.432Z"
   },
   {
    "duration": 246,
    "start_time": "2023-09-01T02:12:25.495Z"
   },
   {
    "duration": 26,
    "start_time": "2023-09-01T02:12:25.742Z"
   },
   {
    "duration": 140,
    "start_time": "2023-09-01T02:12:25.769Z"
   },
   {
    "duration": 142,
    "start_time": "2023-09-01T02:12:25.911Z"
   },
   {
    "duration": 58,
    "start_time": "2023-09-01T02:12:26.055Z"
   },
   {
    "duration": 128,
    "start_time": "2023-09-01T02:12:26.115Z"
   },
   {
    "duration": 28,
    "start_time": "2023-09-01T02:12:26.245Z"
   },
   {
    "duration": 94,
    "start_time": "2023-09-01T02:12:26.275Z"
   },
   {
    "duration": 12,
    "start_time": "2023-09-01T02:12:26.371Z"
   },
   {
    "duration": 47,
    "start_time": "2023-09-01T02:12:26.405Z"
   },
   {
    "duration": 12,
    "start_time": "2023-09-01T02:12:26.454Z"
   },
   {
    "duration": 50,
    "start_time": "2023-09-01T02:12:26.468Z"
   },
   {
    "duration": 987,
    "start_time": "2023-09-01T02:12:26.520Z"
   },
   {
    "duration": 1402,
    "start_time": "2023-09-01T02:12:27.513Z"
   },
   {
    "duration": 0,
    "start_time": "2023-09-01T02:12:28.917Z"
   },
   {
    "duration": 0,
    "start_time": "2023-09-01T02:12:28.918Z"
   },
   {
    "duration": 0,
    "start_time": "2023-09-01T02:12:28.920Z"
   },
   {
    "duration": 0,
    "start_time": "2023-09-01T02:12:28.921Z"
   },
   {
    "duration": 0,
    "start_time": "2023-09-01T02:12:28.922Z"
   },
   {
    "duration": 0,
    "start_time": "2023-09-01T02:12:28.923Z"
   },
   {
    "duration": 0,
    "start_time": "2023-09-01T02:12:28.924Z"
   },
   {
    "duration": 0,
    "start_time": "2023-09-01T02:12:28.925Z"
   },
   {
    "duration": 0,
    "start_time": "2023-09-01T02:12:28.927Z"
   },
   {
    "duration": 0,
    "start_time": "2023-09-01T02:12:28.928Z"
   },
   {
    "duration": 9663,
    "start_time": "2023-09-01T13:35:35.950Z"
   },
   {
    "duration": 311,
    "start_time": "2023-09-01T13:35:45.616Z"
   },
   {
    "duration": 10,
    "start_time": "2023-09-01T13:35:45.929Z"
   },
   {
    "duration": 52,
    "start_time": "2023-09-01T13:35:45.948Z"
   },
   {
    "duration": 315,
    "start_time": "2023-09-01T13:35:46.003Z"
   },
   {
    "duration": 36,
    "start_time": "2023-09-01T13:35:46.323Z"
   },
   {
    "duration": 122,
    "start_time": "2023-09-01T13:35:46.361Z"
   },
   {
    "duration": 135,
    "start_time": "2023-09-01T13:35:46.484Z"
   },
   {
    "duration": 53,
    "start_time": "2023-09-01T13:35:46.621Z"
   },
   {
    "duration": 129,
    "start_time": "2023-09-01T13:35:46.676Z"
   },
   {
    "duration": 37,
    "start_time": "2023-09-01T13:35:46.806Z"
   },
   {
    "duration": 81,
    "start_time": "2023-09-01T13:35:46.845Z"
   },
   {
    "duration": 22,
    "start_time": "2023-09-01T13:35:46.928Z"
   },
   {
    "duration": 37,
    "start_time": "2023-09-01T13:35:46.952Z"
   },
   {
    "duration": 35,
    "start_time": "2023-09-01T13:35:46.990Z"
   },
   {
    "duration": 9,
    "start_time": "2023-09-01T13:35:47.027Z"
   },
   {
    "duration": 11,
    "start_time": "2023-09-01T13:35:47.038Z"
   },
   {
    "duration": 338,
    "start_time": "2023-09-01T13:35:47.051Z"
   },
   {
    "duration": 7840,
    "start_time": "2023-09-01T13:39:08.526Z"
   },
   {
    "duration": 135,
    "start_time": "2023-09-01T13:39:16.369Z"
   },
   {
    "duration": 9,
    "start_time": "2023-09-01T13:39:16.506Z"
   },
   {
    "duration": 64,
    "start_time": "2023-09-01T13:39:16.517Z"
   },
   {
    "duration": 284,
    "start_time": "2023-09-01T13:39:16.584Z"
   },
   {
    "duration": 34,
    "start_time": "2023-09-01T13:39:16.870Z"
   },
   {
    "duration": 164,
    "start_time": "2023-09-01T13:39:16.906Z"
   },
   {
    "duration": 144,
    "start_time": "2023-09-01T13:39:17.072Z"
   },
   {
    "duration": 57,
    "start_time": "2023-09-01T13:39:17.218Z"
   },
   {
    "duration": 138,
    "start_time": "2023-09-01T13:39:17.277Z"
   },
   {
    "duration": 42,
    "start_time": "2023-09-01T13:39:17.417Z"
   },
   {
    "duration": 94,
    "start_time": "2023-09-01T13:39:17.461Z"
   },
   {
    "duration": 12,
    "start_time": "2023-09-01T13:39:17.557Z"
   },
   {
    "duration": 53,
    "start_time": "2023-09-01T13:39:17.572Z"
   },
   {
    "duration": 20,
    "start_time": "2023-09-01T13:39:17.629Z"
   },
   {
    "duration": 196,
    "start_time": "2023-09-01T13:39:17.650Z"
   },
   {
    "duration": 7322,
    "start_time": "2023-09-01T13:40:34.108Z"
   },
   {
    "duration": 103,
    "start_time": "2023-09-01T13:40:41.435Z"
   },
   {
    "duration": 6,
    "start_time": "2023-09-01T13:40:41.541Z"
   },
   {
    "duration": 39,
    "start_time": "2023-09-01T13:40:41.549Z"
   },
   {
    "duration": 254,
    "start_time": "2023-09-01T13:40:41.590Z"
   },
   {
    "duration": 26,
    "start_time": "2023-09-01T13:40:41.846Z"
   },
   {
    "duration": 122,
    "start_time": "2023-09-01T13:40:41.874Z"
   },
   {
    "duration": 157,
    "start_time": "2023-09-01T13:40:41.998Z"
   },
   {
    "duration": 40,
    "start_time": "2023-09-01T13:40:42.158Z"
   },
   {
    "duration": 155,
    "start_time": "2023-09-01T13:40:42.201Z"
   },
   {
    "duration": 28,
    "start_time": "2023-09-01T13:40:42.358Z"
   },
   {
    "duration": 96,
    "start_time": "2023-09-01T13:40:42.388Z"
   },
   {
    "duration": 12,
    "start_time": "2023-09-01T13:40:42.486Z"
   },
   {
    "duration": 64,
    "start_time": "2023-09-01T13:40:42.499Z"
   },
   {
    "duration": 11,
    "start_time": "2023-09-01T13:40:42.564Z"
   },
   {
    "duration": 239,
    "start_time": "2023-09-01T13:40:42.577Z"
   },
   {
    "duration": 8032,
    "start_time": "2023-09-01T13:42:21.550Z"
   },
   {
    "duration": 99,
    "start_time": "2023-09-01T13:42:29.584Z"
   },
   {
    "duration": 5,
    "start_time": "2023-09-01T13:42:29.685Z"
   },
   {
    "duration": 50,
    "start_time": "2023-09-01T13:42:29.691Z"
   },
   {
    "duration": 242,
    "start_time": "2023-09-01T13:42:29.745Z"
   },
   {
    "duration": 40,
    "start_time": "2023-09-01T13:42:29.989Z"
   },
   {
    "duration": 130,
    "start_time": "2023-09-01T13:42:30.032Z"
   },
   {
    "duration": 154,
    "start_time": "2023-09-01T13:42:30.163Z"
   },
   {
    "duration": 63,
    "start_time": "2023-09-01T13:42:30.319Z"
   },
   {
    "duration": 166,
    "start_time": "2023-09-01T13:42:30.384Z"
   },
   {
    "duration": 46,
    "start_time": "2023-09-01T13:42:30.553Z"
   },
   {
    "duration": 93,
    "start_time": "2023-09-01T13:42:30.601Z"
   },
   {
    "duration": 44,
    "start_time": "2023-09-01T13:42:30.697Z"
   },
   {
    "duration": 201,
    "start_time": "2023-09-01T13:42:30.744Z"
   },
   {
    "duration": 265,
    "start_time": "2023-09-01T13:42:30.949Z"
   },
   {
    "duration": 3114,
    "start_time": "2023-09-01T13:42:31.216Z"
   },
   {
    "duration": 13,
    "start_time": "2023-09-01T13:49:53.142Z"
   },
   {
    "duration": 157,
    "start_time": "2023-09-01T13:51:01.913Z"
   },
   {
    "duration": 7575,
    "start_time": "2023-09-01T13:59:38.445Z"
   },
   {
    "duration": 131,
    "start_time": "2023-09-01T13:59:46.023Z"
   },
   {
    "duration": 4,
    "start_time": "2023-09-01T13:59:46.157Z"
   },
   {
    "duration": 45,
    "start_time": "2023-09-01T13:59:46.162Z"
   },
   {
    "duration": 269,
    "start_time": "2023-09-01T13:59:46.210Z"
   },
   {
    "duration": 27,
    "start_time": "2023-09-01T13:59:46.480Z"
   },
   {
    "duration": 133,
    "start_time": "2023-09-01T13:59:46.523Z"
   },
   {
    "duration": 132,
    "start_time": "2023-09-01T13:59:46.658Z"
   },
   {
    "duration": 65,
    "start_time": "2023-09-01T13:59:46.792Z"
   },
   {
    "duration": 140,
    "start_time": "2023-09-01T13:59:46.858Z"
   },
   {
    "duration": 31,
    "start_time": "2023-09-01T13:59:47.000Z"
   },
   {
    "duration": 81,
    "start_time": "2023-09-01T13:59:47.033Z"
   },
   {
    "duration": 22,
    "start_time": "2023-09-01T13:59:47.115Z"
   },
   {
    "duration": 44,
    "start_time": "2023-09-01T13:59:47.141Z"
   },
   {
    "duration": 10,
    "start_time": "2023-09-01T13:59:47.187Z"
   },
   {
    "duration": 8317,
    "start_time": "2023-09-01T14:13:26.642Z"
   },
   {
    "duration": 104,
    "start_time": "2023-09-01T14:13:34.961Z"
   },
   {
    "duration": 4,
    "start_time": "2023-09-01T14:13:35.067Z"
   },
   {
    "duration": 310,
    "start_time": "2023-09-01T14:13:35.073Z"
   },
   {
    "duration": 335,
    "start_time": "2023-09-01T14:13:35.386Z"
   },
   {
    "duration": 36,
    "start_time": "2023-09-01T14:13:35.723Z"
   },
   {
    "duration": 143,
    "start_time": "2023-09-01T14:13:35.761Z"
   },
   {
    "duration": 177,
    "start_time": "2023-09-01T14:13:35.906Z"
   },
   {
    "duration": 207,
    "start_time": "2023-09-01T14:13:36.086Z"
   },
   {
    "duration": 301,
    "start_time": "2023-09-01T14:13:36.295Z"
   },
   {
    "duration": 30,
    "start_time": "2023-09-01T14:13:36.600Z"
   },
   {
    "duration": 94,
    "start_time": "2023-09-01T14:13:36.633Z"
   },
   {
    "duration": 25,
    "start_time": "2023-09-01T14:13:36.732Z"
   },
   {
    "duration": 38,
    "start_time": "2023-09-01T14:13:36.762Z"
   },
   {
    "duration": 32,
    "start_time": "2023-09-01T14:13:36.802Z"
   },
   {
    "duration": 2865,
    "start_time": "2023-09-01T14:13:36.841Z"
   },
   {
    "duration": 205,
    "start_time": "2023-09-01T14:13:39.708Z"
   },
   {
    "duration": 7530,
    "start_time": "2023-09-01T14:19:34.172Z"
   },
   {
    "duration": 101,
    "start_time": "2023-09-01T14:19:41.704Z"
   },
   {
    "duration": 5,
    "start_time": "2023-09-01T14:19:41.807Z"
   },
   {
    "duration": 69,
    "start_time": "2023-09-01T14:19:41.814Z"
   },
   {
    "duration": 232,
    "start_time": "2023-09-01T14:19:41.886Z"
   },
   {
    "duration": 40,
    "start_time": "2023-09-01T14:19:42.120Z"
   },
   {
    "duration": 163,
    "start_time": "2023-09-01T14:19:42.161Z"
   },
   {
    "duration": 135,
    "start_time": "2023-09-01T14:19:42.326Z"
   },
   {
    "duration": 41,
    "start_time": "2023-09-01T14:19:42.463Z"
   },
   {
    "duration": 162,
    "start_time": "2023-09-01T14:19:42.506Z"
   },
   {
    "duration": 25,
    "start_time": "2023-09-01T14:19:42.669Z"
   },
   {
    "duration": 105,
    "start_time": "2023-09-01T14:19:42.696Z"
   },
   {
    "duration": 12,
    "start_time": "2023-09-01T14:19:42.803Z"
   },
   {
    "duration": 134,
    "start_time": "2023-09-01T14:19:42.817Z"
   },
   {
    "duration": 15,
    "start_time": "2023-09-01T14:19:42.953Z"
   },
   {
    "duration": 27080,
    "start_time": "2023-09-01T14:19:42.969Z"
   },
   {
    "duration": 213,
    "start_time": "2023-09-01T14:20:10.051Z"
   },
   {
    "duration": 35,
    "start_time": "2023-09-01T14:21:54.101Z"
   },
   {
    "duration": 33,
    "start_time": "2023-09-01T14:22:47.123Z"
   },
   {
    "duration": 52,
    "start_time": "2023-09-01T14:23:39.534Z"
   },
   {
    "duration": 7497,
    "start_time": "2023-09-01T14:24:06.314Z"
   },
   {
    "duration": 107,
    "start_time": "2023-09-01T14:24:13.814Z"
   },
   {
    "duration": 9,
    "start_time": "2023-09-01T14:24:13.923Z"
   },
   {
    "duration": 47,
    "start_time": "2023-09-01T14:24:13.935Z"
   },
   {
    "duration": 260,
    "start_time": "2023-09-01T14:24:13.984Z"
   },
   {
    "duration": 29,
    "start_time": "2023-09-01T14:24:14.247Z"
   },
   {
    "duration": 122,
    "start_time": "2023-09-01T14:24:14.278Z"
   },
   {
    "duration": 154,
    "start_time": "2023-09-01T14:24:14.402Z"
   },
   {
    "duration": 43,
    "start_time": "2023-09-01T14:24:14.558Z"
   },
   {
    "duration": 159,
    "start_time": "2023-09-01T14:24:14.603Z"
   },
   {
    "duration": 27,
    "start_time": "2023-09-01T14:24:14.763Z"
   },
   {
    "duration": 110,
    "start_time": "2023-09-01T14:24:14.792Z"
   },
   {
    "duration": 21,
    "start_time": "2023-09-01T14:24:14.904Z"
   },
   {
    "duration": 53,
    "start_time": "2023-09-01T14:24:14.930Z"
   },
   {
    "duration": 11,
    "start_time": "2023-09-01T14:24:14.984Z"
   },
   {
    "duration": 26802,
    "start_time": "2023-09-01T14:24:14.996Z"
   },
   {
    "duration": 190,
    "start_time": "2023-09-01T14:38:37.310Z"
   },
   {
    "duration": 11,
    "start_time": "2023-09-01T14:39:48.415Z"
   },
   {
    "duration": 8,
    "start_time": "2023-09-01T14:40:11.252Z"
   },
   {
    "duration": 4,
    "start_time": "2023-09-01T14:43:59.911Z"
   },
   {
    "duration": 23,
    "start_time": "2023-09-01T14:44:17.265Z"
   },
   {
    "duration": 8856,
    "start_time": "2023-09-01T14:44:53.417Z"
   },
   {
    "duration": 124,
    "start_time": "2023-09-01T14:45:02.278Z"
   },
   {
    "duration": 5,
    "start_time": "2023-09-01T14:45:02.403Z"
   },
   {
    "duration": 65,
    "start_time": "2023-09-01T14:45:02.410Z"
   },
   {
    "duration": 312,
    "start_time": "2023-09-01T14:45:02.478Z"
   },
   {
    "duration": 55,
    "start_time": "2023-09-01T14:45:02.792Z"
   },
   {
    "duration": 154,
    "start_time": "2023-09-01T14:45:02.858Z"
   },
   {
    "duration": 160,
    "start_time": "2023-09-01T14:45:03.014Z"
   },
   {
    "duration": 81,
    "start_time": "2023-09-01T14:45:03.176Z"
   },
   {
    "duration": 142,
    "start_time": "2023-09-01T14:45:03.259Z"
   },
   {
    "duration": 42,
    "start_time": "2023-09-01T14:45:03.403Z"
   },
   {
    "duration": 95,
    "start_time": "2023-09-01T14:45:03.447Z"
   },
   {
    "duration": 26,
    "start_time": "2023-09-01T14:45:03.544Z"
   },
   {
    "duration": 51,
    "start_time": "2023-09-01T14:45:03.574Z"
   },
   {
    "duration": 31,
    "start_time": "2023-09-01T14:45:03.630Z"
   },
   {
    "duration": 30178,
    "start_time": "2023-09-01T14:45:03.665Z"
   },
   {
    "duration": 14,
    "start_time": "2023-09-01T14:45:33.845Z"
   },
   {
    "duration": 6,
    "start_time": "2023-09-01T14:45:33.863Z"
   },
   {
    "duration": 8,
    "start_time": "2023-09-01T14:45:33.870Z"
   },
   {
    "duration": 162784,
    "start_time": "2023-09-01T14:45:33.879Z"
   },
   {
    "duration": 6,
    "start_time": "2023-09-01T14:48:25.105Z"
   },
   {
    "duration": 7364,
    "start_time": "2023-09-01T14:52:25.879Z"
   },
   {
    "duration": 105,
    "start_time": "2023-09-01T14:52:33.245Z"
   },
   {
    "duration": 4,
    "start_time": "2023-09-01T14:52:33.352Z"
   },
   {
    "duration": 55,
    "start_time": "2023-09-01T14:52:33.358Z"
   },
   {
    "duration": 237,
    "start_time": "2023-09-01T14:52:33.414Z"
   },
   {
    "duration": 25,
    "start_time": "2023-09-01T14:52:33.652Z"
   },
   {
    "duration": 129,
    "start_time": "2023-09-01T14:52:33.679Z"
   },
   {
    "duration": 136,
    "start_time": "2023-09-01T14:52:33.810Z"
   },
   {
    "duration": 40,
    "start_time": "2023-09-01T14:52:33.948Z"
   },
   {
    "duration": 193,
    "start_time": "2023-09-01T14:52:33.990Z"
   },
   {
    "duration": 107,
    "start_time": "2023-09-01T14:52:34.185Z"
   },
   {
    "duration": 106,
    "start_time": "2023-09-01T14:52:34.294Z"
   },
   {
    "duration": 13,
    "start_time": "2023-09-01T14:52:34.402Z"
   },
   {
    "duration": 45,
    "start_time": "2023-09-01T14:52:34.416Z"
   },
   {
    "duration": 11,
    "start_time": "2023-09-01T14:52:34.463Z"
   },
   {
    "duration": 26626,
    "start_time": "2023-09-01T14:52:34.476Z"
   },
   {
    "duration": 10,
    "start_time": "2023-09-01T14:53:01.104Z"
   },
   {
    "duration": 142,
    "start_time": "2023-09-01T14:53:01.116Z"
   },
   {
    "duration": 436,
    "start_time": "2023-09-01T14:55:22.118Z"
   },
   {
    "duration": 6964,
    "start_time": "2023-09-01T15:00:54.563Z"
   },
   {
    "duration": 97,
    "start_time": "2023-09-01T15:01:01.529Z"
   },
   {
    "duration": 13,
    "start_time": "2023-09-01T15:01:01.628Z"
   },
   {
    "duration": 178,
    "start_time": "2023-09-01T15:01:01.643Z"
   },
   {
    "duration": 247,
    "start_time": "2023-09-01T15:01:01.823Z"
   },
   {
    "duration": 24,
    "start_time": "2023-09-01T15:01:02.072Z"
   },
   {
    "duration": 117,
    "start_time": "2023-09-01T15:01:02.098Z"
   },
   {
    "duration": 135,
    "start_time": "2023-09-01T15:01:02.217Z"
   },
   {
    "duration": 44,
    "start_time": "2023-09-01T15:01:02.354Z"
   },
   {
    "duration": 142,
    "start_time": "2023-09-01T15:01:02.400Z"
   },
   {
    "duration": 24,
    "start_time": "2023-09-01T15:01:02.545Z"
   },
   {
    "duration": 84,
    "start_time": "2023-09-01T15:01:02.571Z"
   },
   {
    "duration": 12,
    "start_time": "2023-09-01T15:01:02.657Z"
   },
   {
    "duration": 64,
    "start_time": "2023-09-01T15:01:02.672Z"
   },
   {
    "duration": 15,
    "start_time": "2023-09-01T15:01:02.738Z"
   },
   {
    "duration": 3377,
    "start_time": "2023-09-01T15:01:02.754Z"
   },
   {
    "duration": 0,
    "start_time": "2023-09-01T15:01:06.133Z"
   },
   {
    "duration": 0,
    "start_time": "2023-09-01T15:01:06.134Z"
   },
   {
    "duration": 0,
    "start_time": "2023-09-01T15:01:06.135Z"
   },
   {
    "duration": 0,
    "start_time": "2023-09-01T15:01:06.136Z"
   },
   {
    "duration": 18,
    "start_time": "2023-09-01T15:01:58.381Z"
   },
   {
    "duration": 7084,
    "start_time": "2023-09-01T15:02:14.287Z"
   },
   {
    "duration": 96,
    "start_time": "2023-09-01T15:02:21.373Z"
   },
   {
    "duration": 5,
    "start_time": "2023-09-01T15:02:21.470Z"
   },
   {
    "duration": 52,
    "start_time": "2023-09-01T15:02:21.477Z"
   },
   {
    "duration": 225,
    "start_time": "2023-09-01T15:02:21.531Z"
   },
   {
    "duration": 24,
    "start_time": "2023-09-01T15:02:21.758Z"
   },
   {
    "duration": 120,
    "start_time": "2023-09-01T15:02:21.783Z"
   },
   {
    "duration": 130,
    "start_time": "2023-09-01T15:02:21.905Z"
   },
   {
    "duration": 42,
    "start_time": "2023-09-01T15:02:22.036Z"
   },
   {
    "duration": 132,
    "start_time": "2023-09-01T15:02:22.080Z"
   },
   {
    "duration": 43,
    "start_time": "2023-09-01T15:02:22.213Z"
   },
   {
    "duration": 92,
    "start_time": "2023-09-01T15:02:22.258Z"
   },
   {
    "duration": 11,
    "start_time": "2023-09-01T15:02:22.352Z"
   },
   {
    "duration": 44,
    "start_time": "2023-09-01T15:02:22.366Z"
   },
   {
    "duration": 21,
    "start_time": "2023-09-01T15:02:22.412Z"
   },
   {
    "duration": 20,
    "start_time": "2023-09-01T15:02:22.435Z"
   },
   {
    "duration": 23346,
    "start_time": "2023-09-01T15:02:22.456Z"
   },
   {
    "duration": 10,
    "start_time": "2023-09-01T15:02:45.804Z"
   },
   {
    "duration": 9,
    "start_time": "2023-09-01T15:02:45.815Z"
   },
   {
    "duration": 414,
    "start_time": "2023-09-01T15:02:45.825Z"
   },
   {
    "duration": 8932,
    "start_time": "2023-09-01T21:38:03.358Z"
   },
   {
    "duration": 360,
    "start_time": "2023-09-01T21:38:12.292Z"
   },
   {
    "duration": 6,
    "start_time": "2023-09-01T21:38:12.654Z"
   },
   {
    "duration": 35,
    "start_time": "2023-09-01T21:38:12.662Z"
   },
   {
    "duration": 216,
    "start_time": "2023-09-01T21:38:12.699Z"
   },
   {
    "duration": 41,
    "start_time": "2023-09-01T21:38:12.917Z"
   },
   {
    "duration": 112,
    "start_time": "2023-09-01T21:38:12.960Z"
   },
   {
    "duration": 126,
    "start_time": "2023-09-01T21:38:13.074Z"
   },
   {
    "duration": 53,
    "start_time": "2023-09-01T21:38:13.201Z"
   },
   {
    "duration": 114,
    "start_time": "2023-09-01T21:38:13.256Z"
   },
   {
    "duration": 27,
    "start_time": "2023-09-01T21:38:13.373Z"
   },
   {
    "duration": 91,
    "start_time": "2023-09-01T21:38:13.402Z"
   },
   {
    "duration": 17,
    "start_time": "2023-09-01T21:38:13.494Z"
   },
   {
    "duration": 52,
    "start_time": "2023-09-01T21:38:13.514Z"
   },
   {
    "duration": 11,
    "start_time": "2023-09-01T21:38:13.568Z"
   },
   {
    "duration": 13,
    "start_time": "2023-09-01T21:38:13.580Z"
   },
   {
    "duration": 22291,
    "start_time": "2023-09-01T21:38:13.595Z"
   },
   {
    "duration": 20,
    "start_time": "2023-09-01T21:38:35.887Z"
   },
   {
    "duration": 26,
    "start_time": "2023-09-01T21:38:35.908Z"
   },
   {
    "duration": 160,
    "start_time": "2023-09-01T21:38:41.818Z"
   },
   {
    "duration": 16,
    "start_time": "2023-09-01T21:39:09.250Z"
   },
   {
    "duration": 5,
    "start_time": "2023-09-01T21:41:46.859Z"
   },
   {
    "duration": 7,
    "start_time": "2023-09-01T21:42:05.003Z"
   },
   {
    "duration": 3,
    "start_time": "2023-09-01T21:42:51.710Z"
   },
   {
    "duration": 3,
    "start_time": "2023-09-01T21:43:07.622Z"
   },
   {
    "duration": 4,
    "start_time": "2023-09-01T21:43:25.310Z"
   },
   {
    "duration": 86,
    "start_time": "2023-09-01T21:43:40.826Z"
   },
   {
    "duration": 3,
    "start_time": "2023-09-01T21:46:43.302Z"
   },
   {
    "duration": 68,
    "start_time": "2023-09-01T21:46:44.650Z"
   },
   {
    "duration": 6469,
    "start_time": "2023-09-01T21:52:38.525Z"
   },
   {
    "duration": 101,
    "start_time": "2023-09-01T21:52:44.997Z"
   },
   {
    "duration": 4,
    "start_time": "2023-09-01T21:52:45.099Z"
   },
   {
    "duration": 50,
    "start_time": "2023-09-01T21:52:45.105Z"
   },
   {
    "duration": 202,
    "start_time": "2023-09-01T21:52:45.157Z"
   },
   {
    "duration": 22,
    "start_time": "2023-09-01T21:52:45.361Z"
   },
   {
    "duration": 105,
    "start_time": "2023-09-01T21:52:45.385Z"
   },
   {
    "duration": 111,
    "start_time": "2023-09-01T21:52:45.492Z"
   },
   {
    "duration": 43,
    "start_time": "2023-09-01T21:52:45.605Z"
   },
   {
    "duration": 106,
    "start_time": "2023-09-01T21:52:45.649Z"
   },
   {
    "duration": 23,
    "start_time": "2023-09-01T21:52:45.757Z"
   },
   {
    "duration": 81,
    "start_time": "2023-09-01T21:52:45.781Z"
   },
   {
    "duration": 10,
    "start_time": "2023-09-01T21:52:45.864Z"
   },
   {
    "duration": 32,
    "start_time": "2023-09-01T21:52:45.877Z"
   },
   {
    "duration": 9,
    "start_time": "2023-09-01T21:52:45.911Z"
   },
   {
    "duration": 14,
    "start_time": "2023-09-01T21:52:45.944Z"
   },
   {
    "duration": 22763,
    "start_time": "2023-09-01T21:52:45.959Z"
   },
   {
    "duration": 21,
    "start_time": "2023-09-01T21:53:08.723Z"
   },
   {
    "duration": 23,
    "start_time": "2023-09-01T21:53:08.745Z"
   },
   {
    "duration": 4,
    "start_time": "2023-09-01T21:53:08.769Z"
   },
   {
    "duration": 15,
    "start_time": "2023-09-01T21:53:08.774Z"
   },
   {
    "duration": 5,
    "start_time": "2023-09-01T21:53:08.790Z"
   },
   {
    "duration": 16,
    "start_time": "2023-09-01T21:53:08.796Z"
   },
   {
    "duration": 5,
    "start_time": "2023-09-01T21:53:08.813Z"
   },
   {
    "duration": 213,
    "start_time": "2023-09-01T21:53:08.820Z"
   },
   {
    "duration": 0,
    "start_time": "2023-09-01T21:53:09.035Z"
   },
   {
    "duration": 0,
    "start_time": "2023-09-01T21:53:09.036Z"
   },
   {
    "duration": 0,
    "start_time": "2023-09-01T21:53:09.037Z"
   },
   {
    "duration": 7,
    "start_time": "2023-09-01T22:08:19.241Z"
   },
   {
    "duration": 17,
    "start_time": "2023-09-01T22:08:22.122Z"
   },
   {
    "duration": 4,
    "start_time": "2023-09-01T22:10:03.281Z"
   },
   {
    "duration": 135,
    "start_time": "2023-09-01T22:10:21.978Z"
   },
   {
    "duration": 143,
    "start_time": "2023-09-01T22:11:40.408Z"
   },
   {
    "duration": 7212,
    "start_time": "2023-09-01T22:11:49.474Z"
   },
   {
    "duration": 112,
    "start_time": "2023-09-01T22:11:56.688Z"
   },
   {
    "duration": 4,
    "start_time": "2023-09-01T22:11:56.802Z"
   },
   {
    "duration": 32,
    "start_time": "2023-09-01T22:11:56.808Z"
   },
   {
    "duration": 243,
    "start_time": "2023-09-01T22:11:56.843Z"
   },
   {
    "duration": 22,
    "start_time": "2023-09-01T22:11:57.087Z"
   },
   {
    "duration": 113,
    "start_time": "2023-09-01T22:11:57.111Z"
   },
   {
    "duration": 130,
    "start_time": "2023-09-01T22:11:57.226Z"
   },
   {
    "duration": 44,
    "start_time": "2023-09-01T22:11:57.358Z"
   },
   {
    "duration": 127,
    "start_time": "2023-09-01T22:11:57.404Z"
   },
   {
    "duration": 42,
    "start_time": "2023-09-01T22:11:57.532Z"
   },
   {
    "duration": 68,
    "start_time": "2023-09-01T22:11:57.576Z"
   },
   {
    "duration": 30,
    "start_time": "2023-09-01T22:11:57.646Z"
   },
   {
    "duration": 37,
    "start_time": "2023-09-01T22:11:57.681Z"
   },
   {
    "duration": 10,
    "start_time": "2023-09-01T22:11:57.720Z"
   },
   {
    "duration": 33,
    "start_time": "2023-09-01T22:11:57.732Z"
   },
   {
    "duration": 26886,
    "start_time": "2023-09-01T22:11:57.768Z"
   },
   {
    "duration": 24,
    "start_time": "2023-09-01T22:12:24.661Z"
   },
   {
    "duration": 24,
    "start_time": "2023-09-01T22:12:24.687Z"
   },
   {
    "duration": 8,
    "start_time": "2023-09-01T22:12:24.713Z"
   },
   {
    "duration": 9,
    "start_time": "2023-09-01T22:12:24.722Z"
   },
   {
    "duration": 5,
    "start_time": "2023-09-01T22:12:24.732Z"
   },
   {
    "duration": 5,
    "start_time": "2023-09-01T22:12:24.738Z"
   },
   {
    "duration": 362,
    "start_time": "2023-09-01T22:12:24.744Z"
   },
   {
    "duration": 7149,
    "start_time": "2023-09-01T22:14:35.707Z"
   },
   {
    "duration": 114,
    "start_time": "2023-09-01T22:14:42.858Z"
   },
   {
    "duration": 5,
    "start_time": "2023-09-01T22:14:42.973Z"
   },
   {
    "duration": 33,
    "start_time": "2023-09-01T22:14:42.980Z"
   },
   {
    "duration": 226,
    "start_time": "2023-09-01T22:14:43.014Z"
   },
   {
    "duration": 35,
    "start_time": "2023-09-01T22:14:43.242Z"
   },
   {
    "duration": 105,
    "start_time": "2023-09-01T22:14:43.278Z"
   },
   {
    "duration": 128,
    "start_time": "2023-09-01T22:14:43.384Z"
   },
   {
    "duration": 63,
    "start_time": "2023-09-01T22:14:43.514Z"
   },
   {
    "duration": 120,
    "start_time": "2023-09-01T22:14:43.578Z"
   },
   {
    "duration": 22,
    "start_time": "2023-09-01T22:14:43.699Z"
   },
   {
    "duration": 84,
    "start_time": "2023-09-01T22:14:43.723Z"
   },
   {
    "duration": 12,
    "start_time": "2023-09-01T22:14:43.808Z"
   },
   {
    "duration": 68,
    "start_time": "2023-09-01T22:14:43.823Z"
   },
   {
    "duration": 11,
    "start_time": "2023-09-01T22:14:43.893Z"
   },
   {
    "duration": 14,
    "start_time": "2023-09-01T22:14:43.905Z"
   },
   {
    "duration": 25774,
    "start_time": "2023-09-01T22:14:43.920Z"
   },
   {
    "duration": 20,
    "start_time": "2023-09-01T22:15:09.695Z"
   },
   {
    "duration": 24,
    "start_time": "2023-09-01T22:15:09.716Z"
   },
   {
    "duration": 7,
    "start_time": "2023-09-01T22:15:09.742Z"
   },
   {
    "duration": 18,
    "start_time": "2023-09-01T22:15:09.751Z"
   },
   {
    "duration": 3,
    "start_time": "2023-09-01T22:15:09.771Z"
   },
   {
    "duration": 13,
    "start_time": "2023-09-01T22:15:09.776Z"
   },
   {
    "duration": 839,
    "start_time": "2023-09-01T22:15:09.791Z"
   },
   {
    "duration": 7094,
    "start_time": "2023-09-01T22:21:01.406Z"
   },
   {
    "duration": 108,
    "start_time": "2023-09-01T22:21:08.503Z"
   },
   {
    "duration": 23,
    "start_time": "2023-09-01T22:21:08.612Z"
   },
   {
    "duration": 54,
    "start_time": "2023-09-01T22:21:08.637Z"
   },
   {
    "duration": 202,
    "start_time": "2023-09-01T22:21:08.693Z"
   },
   {
    "duration": 22,
    "start_time": "2023-09-01T22:21:08.896Z"
   },
   {
    "duration": 112,
    "start_time": "2023-09-01T22:21:08.920Z"
   },
   {
    "duration": 128,
    "start_time": "2023-09-01T22:21:09.034Z"
   },
   {
    "duration": 42,
    "start_time": "2023-09-01T22:21:09.163Z"
   },
   {
    "duration": 119,
    "start_time": "2023-09-01T22:21:09.207Z"
   },
   {
    "duration": 36,
    "start_time": "2023-09-01T22:21:09.327Z"
   },
   {
    "duration": 61,
    "start_time": "2023-09-01T22:21:09.365Z"
   },
   {
    "duration": 35,
    "start_time": "2023-09-01T22:21:09.427Z"
   },
   {
    "duration": 51,
    "start_time": "2023-09-01T22:21:09.465Z"
   },
   {
    "duration": 11,
    "start_time": "2023-09-01T22:21:09.518Z"
   },
   {
    "duration": 38,
    "start_time": "2023-09-01T22:21:09.530Z"
   },
   {
    "duration": 25164,
    "start_time": "2023-09-01T22:21:09.570Z"
   },
   {
    "duration": 34,
    "start_time": "2023-09-01T22:21:34.735Z"
   },
   {
    "duration": 18,
    "start_time": "2023-09-01T22:21:34.771Z"
   },
   {
    "duration": 5,
    "start_time": "2023-09-01T22:21:34.790Z"
   },
   {
    "duration": 8,
    "start_time": "2023-09-01T22:21:34.797Z"
   },
   {
    "duration": 4,
    "start_time": "2023-09-01T22:21:34.807Z"
   },
   {
    "duration": 5,
    "start_time": "2023-09-01T22:21:34.812Z"
   },
   {
    "duration": 845,
    "start_time": "2023-09-01T22:21:34.818Z"
   },
   {
    "duration": 7006,
    "start_time": "2023-09-01T22:23:44.761Z"
   },
   {
    "duration": 96,
    "start_time": "2023-09-01T22:23:51.769Z"
   },
   {
    "duration": 4,
    "start_time": "2023-09-01T22:23:51.867Z"
   },
   {
    "duration": 81,
    "start_time": "2023-09-01T22:23:51.873Z"
   },
   {
    "duration": 217,
    "start_time": "2023-09-01T22:23:51.962Z"
   },
   {
    "duration": 24,
    "start_time": "2023-09-01T22:23:52.180Z"
   },
   {
    "duration": 114,
    "start_time": "2023-09-01T22:23:52.206Z"
   },
   {
    "duration": 131,
    "start_time": "2023-09-01T22:23:52.325Z"
   },
   {
    "duration": 39,
    "start_time": "2023-09-01T22:23:52.459Z"
   },
   {
    "duration": 120,
    "start_time": "2023-09-01T22:23:52.499Z"
   },
   {
    "duration": 41,
    "start_time": "2023-09-01T22:23:52.621Z"
   },
   {
    "duration": 63,
    "start_time": "2023-09-01T22:23:52.664Z"
   },
   {
    "duration": 36,
    "start_time": "2023-09-01T22:23:52.728Z"
   },
   {
    "duration": 39,
    "start_time": "2023-09-01T22:23:52.766Z"
   },
   {
    "duration": 11,
    "start_time": "2023-09-01T22:23:52.807Z"
   },
   {
    "duration": 15,
    "start_time": "2023-09-01T22:23:52.819Z"
   },
   {
    "duration": 24483,
    "start_time": "2023-09-01T22:23:52.835Z"
   },
   {
    "duration": 21,
    "start_time": "2023-09-01T22:24:17.319Z"
   },
   {
    "duration": 30,
    "start_time": "2023-09-01T22:24:17.341Z"
   },
   {
    "duration": 4,
    "start_time": "2023-09-01T22:24:17.372Z"
   },
   {
    "duration": 8,
    "start_time": "2023-09-01T22:24:17.378Z"
   },
   {
    "duration": 5,
    "start_time": "2023-09-01T22:24:17.387Z"
   },
   {
    "duration": 4,
    "start_time": "2023-09-01T22:24:17.394Z"
   },
   {
    "duration": 809,
    "start_time": "2023-09-01T22:24:17.400Z"
   },
   {
    "duration": 1518,
    "start_time": "2023-09-01T22:26:28.172Z"
   },
   {
    "duration": 1454,
    "start_time": "2023-09-01T22:27:41.702Z"
   },
   {
    "duration": 0,
    "start_time": "2023-09-01T22:27:43.158Z"
   },
   {
    "duration": 1588,
    "start_time": "2023-09-01T22:27:58.128Z"
   },
   {
    "duration": 6571,
    "start_time": "2023-09-01T22:28:26.730Z"
   },
   {
    "duration": 101,
    "start_time": "2023-09-01T22:28:33.303Z"
   },
   {
    "duration": 4,
    "start_time": "2023-09-01T22:28:33.406Z"
   },
   {
    "duration": 41,
    "start_time": "2023-09-01T22:28:33.411Z"
   },
   {
    "duration": 202,
    "start_time": "2023-09-01T22:28:33.454Z"
   },
   {
    "duration": 23,
    "start_time": "2023-09-01T22:28:33.658Z"
   },
   {
    "duration": 105,
    "start_time": "2023-09-01T22:28:33.682Z"
   },
   {
    "duration": 112,
    "start_time": "2023-09-01T22:28:33.789Z"
   },
   {
    "duration": 54,
    "start_time": "2023-09-01T22:28:33.903Z"
   },
   {
    "duration": 122,
    "start_time": "2023-09-01T22:28:33.959Z"
   },
   {
    "duration": 27,
    "start_time": "2023-09-01T22:28:34.082Z"
   },
   {
    "duration": 97,
    "start_time": "2023-09-01T22:28:34.111Z"
   },
   {
    "duration": 13,
    "start_time": "2023-09-01T22:28:34.210Z"
   },
   {
    "duration": 64,
    "start_time": "2023-09-01T22:28:34.226Z"
   },
   {
    "duration": 11,
    "start_time": "2023-09-01T22:28:34.292Z"
   },
   {
    "duration": 16,
    "start_time": "2023-09-01T22:28:34.305Z"
   },
   {
    "duration": 23747,
    "start_time": "2023-09-01T22:28:34.323Z"
   },
   {
    "duration": 20,
    "start_time": "2023-09-01T22:28:58.072Z"
   },
   {
    "duration": 18,
    "start_time": "2023-09-01T22:28:58.094Z"
   },
   {
    "duration": 3,
    "start_time": "2023-09-01T22:28:58.114Z"
   },
   {
    "duration": 9,
    "start_time": "2023-09-01T22:28:58.119Z"
   },
   {
    "duration": 5,
    "start_time": "2023-09-01T22:28:58.129Z"
   },
   {
    "duration": 21,
    "start_time": "2023-09-01T22:28:58.135Z"
   },
   {
    "duration": 728,
    "start_time": "2023-09-01T22:28:58.157Z"
   },
   {
    "duration": 4,
    "start_time": "2023-09-01T22:43:36.900Z"
   },
   {
    "duration": 2165,
    "start_time": "2023-09-01T22:43:39.112Z"
   },
   {
    "duration": 6898,
    "start_time": "2023-09-01T22:47:01.228Z"
   },
   {
    "duration": 102,
    "start_time": "2023-09-01T22:47:08.128Z"
   },
   {
    "duration": 5,
    "start_time": "2023-09-01T22:47:08.232Z"
   },
   {
    "duration": 39,
    "start_time": "2023-09-01T22:47:08.238Z"
   },
   {
    "duration": 229,
    "start_time": "2023-09-01T22:47:08.279Z"
   },
   {
    "duration": 48,
    "start_time": "2023-09-01T22:47:08.509Z"
   },
   {
    "duration": 107,
    "start_time": "2023-09-01T22:47:08.559Z"
   },
   {
    "duration": 132,
    "start_time": "2023-09-01T22:47:08.668Z"
   },
   {
    "duration": 59,
    "start_time": "2023-09-01T22:47:08.801Z"
   },
   {
    "duration": 114,
    "start_time": "2023-09-01T22:47:08.862Z"
   },
   {
    "duration": 24,
    "start_time": "2023-09-01T22:47:08.978Z"
   },
   {
    "duration": 92,
    "start_time": "2023-09-01T22:47:09.003Z"
   },
   {
    "duration": 12,
    "start_time": "2023-09-01T22:47:09.097Z"
   },
   {
    "duration": 56,
    "start_time": "2023-09-01T22:47:09.111Z"
   },
   {
    "duration": 10,
    "start_time": "2023-09-01T22:47:09.169Z"
   },
   {
    "duration": 15,
    "start_time": "2023-09-01T22:47:09.180Z"
   },
   {
    "duration": 24573,
    "start_time": "2023-09-01T22:47:09.197Z"
   },
   {
    "duration": 37,
    "start_time": "2023-09-01T22:47:33.772Z"
   },
   {
    "duration": 21,
    "start_time": "2023-09-01T22:47:33.810Z"
   },
   {
    "duration": 162,
    "start_time": "2023-09-01T22:47:33.833Z"
   },
   {
    "duration": 0,
    "start_time": "2023-09-01T22:47:33.997Z"
   },
   {
    "duration": 0,
    "start_time": "2023-09-01T22:47:33.998Z"
   },
   {
    "duration": 0,
    "start_time": "2023-09-01T22:47:33.999Z"
   },
   {
    "duration": 0,
    "start_time": "2023-09-01T22:47:34.000Z"
   },
   {
    "duration": 0,
    "start_time": "2023-09-01T22:47:34.001Z"
   },
   {
    "duration": 0,
    "start_time": "2023-09-01T22:47:34.003Z"
   },
   {
    "duration": 0,
    "start_time": "2023-09-01T22:47:34.003Z"
   },
   {
    "duration": 7013,
    "start_time": "2023-09-01T22:48:09.504Z"
   },
   {
    "duration": 97,
    "start_time": "2023-09-01T22:48:16.520Z"
   },
   {
    "duration": 5,
    "start_time": "2023-09-01T22:48:16.619Z"
   },
   {
    "duration": 85,
    "start_time": "2023-09-01T22:48:16.626Z"
   },
   {
    "duration": 212,
    "start_time": "2023-09-01T22:48:16.713Z"
   },
   {
    "duration": 35,
    "start_time": "2023-09-01T22:48:16.927Z"
   },
   {
    "duration": 106,
    "start_time": "2023-09-01T22:48:16.964Z"
   },
   {
    "duration": 122,
    "start_time": "2023-09-01T22:48:17.071Z"
   },
   {
    "duration": 38,
    "start_time": "2023-09-01T22:48:17.194Z"
   },
   {
    "duration": 121,
    "start_time": "2023-09-01T22:48:17.244Z"
   },
   {
    "duration": 23,
    "start_time": "2023-09-01T22:48:17.367Z"
   },
   {
    "duration": 82,
    "start_time": "2023-09-01T22:48:17.392Z"
   },
   {
    "duration": 13,
    "start_time": "2023-09-01T22:48:17.476Z"
   },
   {
    "duration": 38,
    "start_time": "2023-09-01T22:48:17.491Z"
   },
   {
    "duration": 32,
    "start_time": "2023-09-01T22:48:17.531Z"
   },
   {
    "duration": 15,
    "start_time": "2023-09-01T22:48:17.564Z"
   },
   {
    "duration": 23913,
    "start_time": "2023-09-01T22:48:17.581Z"
   },
   {
    "duration": 21,
    "start_time": "2023-09-01T22:48:41.496Z"
   },
   {
    "duration": 39,
    "start_time": "2023-09-01T22:48:41.519Z"
   },
   {
    "duration": 4,
    "start_time": "2023-09-01T22:48:41.560Z"
   },
   {
    "duration": 9,
    "start_time": "2023-09-01T22:48:41.566Z"
   },
   {
    "duration": 1693,
    "start_time": "2023-09-01T22:48:41.577Z"
   },
   {
    "duration": 0,
    "start_time": "2023-09-01T22:48:43.272Z"
   },
   {
    "duration": 0,
    "start_time": "2023-09-01T22:48:43.274Z"
   },
   {
    "duration": 0,
    "start_time": "2023-09-01T22:48:43.275Z"
   },
   {
    "duration": 0,
    "start_time": "2023-09-01T22:48:43.277Z"
   },
   {
    "duration": 0,
    "start_time": "2023-09-01T22:48:43.278Z"
   },
   {
    "duration": 118,
    "start_time": "2023-09-01T22:50:06.992Z"
   },
   {
    "duration": 1559,
    "start_time": "2023-09-01T22:50:37.356Z"
   },
   {
    "duration": 1598,
    "start_time": "2023-09-01T22:51:36.289Z"
   },
   {
    "duration": 104,
    "start_time": "2023-09-01T22:52:12.390Z"
   },
   {
    "duration": 6827,
    "start_time": "2023-09-01T22:58:05.360Z"
   },
   {
    "duration": 101,
    "start_time": "2023-09-01T22:58:12.188Z"
   },
   {
    "duration": 5,
    "start_time": "2023-09-01T22:58:12.290Z"
   },
   {
    "duration": 62,
    "start_time": "2023-09-01T22:58:12.296Z"
   },
   {
    "duration": 209,
    "start_time": "2023-09-01T22:58:12.363Z"
   },
   {
    "duration": 25,
    "start_time": "2023-09-01T22:58:12.574Z"
   },
   {
    "duration": 123,
    "start_time": "2023-09-01T22:58:12.601Z"
   },
   {
    "duration": 126,
    "start_time": "2023-09-01T22:58:12.726Z"
   },
   {
    "duration": 43,
    "start_time": "2023-09-01T22:58:12.853Z"
   },
   {
    "duration": 139,
    "start_time": "2023-09-01T22:58:12.898Z"
   },
   {
    "duration": 45,
    "start_time": "2023-09-01T22:58:13.039Z"
   },
   {
    "duration": 100,
    "start_time": "2023-09-01T22:58:13.087Z"
   },
   {
    "duration": 12,
    "start_time": "2023-09-01T22:58:13.188Z"
   },
   {
    "duration": 56,
    "start_time": "2023-09-01T22:58:13.202Z"
   },
   {
    "duration": 9,
    "start_time": "2023-09-01T22:58:13.261Z"
   },
   {
    "duration": 15,
    "start_time": "2023-09-01T22:58:13.271Z"
   },
   {
    "duration": 24475,
    "start_time": "2023-09-01T22:58:13.287Z"
   },
   {
    "duration": 31,
    "start_time": "2023-09-01T22:58:37.765Z"
   },
   {
    "duration": 18,
    "start_time": "2023-09-01T22:58:37.797Z"
   },
   {
    "duration": 4,
    "start_time": "2023-09-01T22:58:37.817Z"
   },
   {
    "duration": 8,
    "start_time": "2023-09-01T22:58:37.823Z"
   },
   {
    "duration": 106,
    "start_time": "2023-09-01T22:58:37.832Z"
   },
   {
    "duration": 12,
    "start_time": "2023-09-01T22:58:37.940Z"
   },
   {
    "duration": 4,
    "start_time": "2023-09-01T22:58:37.957Z"
   },
   {
    "duration": 756,
    "start_time": "2023-09-01T22:58:37.962Z"
   },
   {
    "duration": 0,
    "start_time": "2023-09-01T22:58:38.719Z"
   },
   {
    "duration": 0,
    "start_time": "2023-09-01T22:58:38.720Z"
   },
   {
    "duration": 0,
    "start_time": "2023-09-01T22:58:38.721Z"
   },
   {
    "duration": 1486,
    "start_time": "2023-09-01T23:00:18.015Z"
   },
   {
    "duration": 34,
    "start_time": "2023-09-01T23:00:19.567Z"
   },
   {
    "duration": 1519,
    "start_time": "2023-09-01T23:00:19.872Z"
   },
   {
    "duration": 0,
    "start_time": "2023-09-01T23:00:21.393Z"
   },
   {
    "duration": 0,
    "start_time": "2023-09-01T23:00:21.394Z"
   },
   {
    "duration": 0,
    "start_time": "2023-09-01T23:00:21.395Z"
   },
   {
    "duration": 0,
    "start_time": "2023-09-01T23:00:21.396Z"
   },
   {
    "duration": 6959,
    "start_time": "2023-09-01T23:00:28.743Z"
   },
   {
    "duration": 97,
    "start_time": "2023-09-01T23:00:35.703Z"
   },
   {
    "duration": 4,
    "start_time": "2023-09-01T23:00:35.802Z"
   },
   {
    "duration": 60,
    "start_time": "2023-09-01T23:00:35.809Z"
   },
   {
    "duration": 231,
    "start_time": "2023-09-01T23:00:35.871Z"
   },
   {
    "duration": 27,
    "start_time": "2023-09-01T23:00:36.103Z"
   },
   {
    "duration": 141,
    "start_time": "2023-09-01T23:00:36.131Z"
   },
   {
    "duration": 149,
    "start_time": "2023-09-01T23:00:36.274Z"
   },
   {
    "duration": 60,
    "start_time": "2023-09-01T23:00:36.425Z"
   },
   {
    "duration": 135,
    "start_time": "2023-09-01T23:00:36.487Z"
   },
   {
    "duration": 41,
    "start_time": "2023-09-01T23:00:36.624Z"
   },
   {
    "duration": 93,
    "start_time": "2023-09-01T23:00:36.667Z"
   },
   {
    "duration": 12,
    "start_time": "2023-09-01T23:00:36.762Z"
   },
   {
    "duration": 42,
    "start_time": "2023-09-01T23:00:36.776Z"
   },
   {
    "duration": 11,
    "start_time": "2023-09-01T23:00:36.819Z"
   },
   {
    "duration": 28,
    "start_time": "2023-09-01T23:00:36.832Z"
   },
   {
    "duration": 24396,
    "start_time": "2023-09-01T23:00:36.862Z"
   },
   {
    "duration": 20,
    "start_time": "2023-09-01T23:01:01.260Z"
   },
   {
    "duration": 42,
    "start_time": "2023-09-01T23:01:01.282Z"
   },
   {
    "duration": 39,
    "start_time": "2023-09-01T23:01:01.326Z"
   },
   {
    "duration": 39,
    "start_time": "2023-09-01T23:01:01.367Z"
   },
   {
    "duration": 136,
    "start_time": "2023-09-01T23:01:01.407Z"
   },
   {
    "duration": 10,
    "start_time": "2023-09-01T23:01:01.545Z"
   },
   {
    "duration": 34,
    "start_time": "2023-09-01T23:01:01.561Z"
   },
   {
    "duration": 816,
    "start_time": "2023-09-01T23:01:01.597Z"
   },
   {
    "duration": 0,
    "start_time": "2023-09-01T23:01:02.415Z"
   },
   {
    "duration": 0,
    "start_time": "2023-09-01T23:01:02.417Z"
   },
   {
    "duration": 0,
    "start_time": "2023-09-01T23:01:02.419Z"
   },
   {
    "duration": 78,
    "start_time": "2023-09-03T19:39:00.449Z"
   },
   {
    "duration": 10302,
    "start_time": "2023-09-03T20:11:17.935Z"
   },
   {
    "duration": 362,
    "start_time": "2023-09-03T20:11:28.239Z"
   },
   {
    "duration": 5,
    "start_time": "2023-09-03T20:11:28.602Z"
   },
   {
    "duration": 40,
    "start_time": "2023-09-03T20:11:28.610Z"
   },
   {
    "duration": 253,
    "start_time": "2023-09-03T20:11:28.652Z"
   },
   {
    "duration": 27,
    "start_time": "2023-09-03T20:11:28.907Z"
   },
   {
    "duration": 125,
    "start_time": "2023-09-03T20:11:28.947Z"
   },
   {
    "duration": 144,
    "start_time": "2023-09-03T20:11:29.074Z"
   },
   {
    "duration": 55,
    "start_time": "2023-09-03T20:11:29.220Z"
   },
   {
    "duration": 134,
    "start_time": "2023-09-03T20:11:29.278Z"
   },
   {
    "duration": 40,
    "start_time": "2023-09-03T20:11:29.414Z"
   },
   {
    "duration": 73,
    "start_time": "2023-09-03T20:11:29.456Z"
   },
   {
    "duration": 13,
    "start_time": "2023-09-03T20:11:29.547Z"
   },
   {
    "duration": 50,
    "start_time": "2023-09-03T20:11:29.562Z"
   },
   {
    "duration": 7,
    "start_time": "2023-09-03T20:11:29.614Z"
   },
   {
    "duration": 29,
    "start_time": "2023-09-03T20:11:29.623Z"
   },
   {
    "duration": 12,
    "start_time": "2023-09-03T20:11:29.654Z"
   },
   {
    "duration": 13,
    "start_time": "2023-09-03T20:11:29.667Z"
   },
   {
    "duration": 5,
    "start_time": "2023-09-03T20:11:29.682Z"
   },
   {
    "duration": 26458,
    "start_time": "2023-09-03T20:11:29.688Z"
   },
   {
    "duration": 142,
    "start_time": "2023-09-03T20:11:56.147Z"
   },
   {
    "duration": 9,
    "start_time": "2023-09-03T20:11:56.290Z"
   },
   {
    "duration": 194,
    "start_time": "2023-09-03T20:11:56.301Z"
   },
   {
    "duration": 0,
    "start_time": "2023-09-03T20:11:56.497Z"
   },
   {
    "duration": 0,
    "start_time": "2023-09-03T20:11:56.499Z"
   },
   {
    "duration": 0,
    "start_time": "2023-09-03T20:11:56.500Z"
   },
   {
    "duration": 0,
    "start_time": "2023-09-03T20:11:56.502Z"
   },
   {
    "duration": 1,
    "start_time": "2023-09-03T20:11:56.503Z"
   },
   {
    "duration": 0,
    "start_time": "2023-09-03T20:11:56.505Z"
   },
   {
    "duration": 0,
    "start_time": "2023-09-03T20:11:56.507Z"
   },
   {
    "duration": 0,
    "start_time": "2023-09-03T20:11:56.509Z"
   },
   {
    "duration": 85,
    "start_time": "2023-09-03T20:12:26.502Z"
   },
   {
    "duration": 7311,
    "start_time": "2023-09-03T20:12:49.520Z"
   },
   {
    "duration": 97,
    "start_time": "2023-09-03T20:12:56.834Z"
   },
   {
    "duration": 5,
    "start_time": "2023-09-03T20:12:56.933Z"
   },
   {
    "duration": 62,
    "start_time": "2023-09-03T20:12:56.939Z"
   },
   {
    "duration": 229,
    "start_time": "2023-09-03T20:12:57.004Z"
   },
   {
    "duration": 34,
    "start_time": "2023-09-03T20:12:57.234Z"
   },
   {
    "duration": 125,
    "start_time": "2023-09-03T20:12:57.270Z"
   },
   {
    "duration": 141,
    "start_time": "2023-09-03T20:12:57.397Z"
   },
   {
    "duration": 46,
    "start_time": "2023-09-03T20:12:57.540Z"
   },
   {
    "duration": 143,
    "start_time": "2023-09-03T20:12:57.588Z"
   },
   {
    "duration": 32,
    "start_time": "2023-09-03T20:12:57.733Z"
   },
   {
    "duration": 90,
    "start_time": "2023-09-03T20:12:57.767Z"
   },
   {
    "duration": 14,
    "start_time": "2023-09-03T20:12:57.859Z"
   },
   {
    "duration": 98,
    "start_time": "2023-09-03T20:12:57.876Z"
   },
   {
    "duration": 8,
    "start_time": "2023-09-03T20:12:57.975Z"
   },
   {
    "duration": 10,
    "start_time": "2023-09-03T20:12:57.985Z"
   },
   {
    "duration": 7,
    "start_time": "2023-09-03T20:12:57.997Z"
   },
   {
    "duration": 6,
    "start_time": "2023-09-03T20:12:58.005Z"
   },
   {
    "duration": 6,
    "start_time": "2023-09-03T20:12:58.013Z"
   },
   {
    "duration": 26901,
    "start_time": "2023-09-03T20:12:58.020Z"
   },
   {
    "duration": 136,
    "start_time": "2023-09-03T20:13:24.923Z"
   },
   {
    "duration": 18,
    "start_time": "2023-09-03T20:13:25.061Z"
   },
   {
    "duration": 216,
    "start_time": "2023-09-03T20:13:25.081Z"
   },
   {
    "duration": 0,
    "start_time": "2023-09-03T20:13:25.299Z"
   },
   {
    "duration": 0,
    "start_time": "2023-09-03T20:13:25.301Z"
   },
   {
    "duration": 0,
    "start_time": "2023-09-03T20:13:25.303Z"
   },
   {
    "duration": 0,
    "start_time": "2023-09-03T20:13:25.304Z"
   },
   {
    "duration": 0,
    "start_time": "2023-09-03T20:13:25.306Z"
   },
   {
    "duration": 0,
    "start_time": "2023-09-03T20:13:25.307Z"
   },
   {
    "duration": 0,
    "start_time": "2023-09-03T20:13:25.309Z"
   },
   {
    "duration": 1,
    "start_time": "2023-09-03T20:13:25.310Z"
   },
   {
    "duration": 77,
    "start_time": "2023-09-03T20:18:31.989Z"
   },
   {
    "duration": 5,
    "start_time": "2023-09-03T20:25:36.182Z"
   },
   {
    "duration": 1142,
    "start_time": "2023-09-03T20:28:18.960Z"
   },
   {
    "duration": 1357,
    "start_time": "2023-09-03T20:28:48.364Z"
   },
   {
    "duration": 1075,
    "start_time": "2023-09-03T20:28:56.863Z"
   },
   {
    "duration": 7245,
    "start_time": "2023-09-03T20:31:04.379Z"
   },
   {
    "duration": 98,
    "start_time": "2023-09-03T20:31:11.626Z"
   },
   {
    "duration": 5,
    "start_time": "2023-09-03T20:31:11.725Z"
   },
   {
    "duration": 38,
    "start_time": "2023-09-03T20:31:11.731Z"
   },
   {
    "duration": 247,
    "start_time": "2023-09-03T20:31:11.772Z"
   },
   {
    "duration": 37,
    "start_time": "2023-09-03T20:31:12.021Z"
   },
   {
    "duration": 128,
    "start_time": "2023-09-03T20:31:12.060Z"
   },
   {
    "duration": 139,
    "start_time": "2023-09-03T20:31:12.190Z"
   },
   {
    "duration": 48,
    "start_time": "2023-09-03T20:31:12.330Z"
   },
   {
    "duration": 140,
    "start_time": "2023-09-03T20:31:12.380Z"
   },
   {
    "duration": 38,
    "start_time": "2023-09-03T20:31:12.521Z"
   },
   {
    "duration": 89,
    "start_time": "2023-09-03T20:31:12.562Z"
   },
   {
    "duration": 14,
    "start_time": "2023-09-03T20:31:12.653Z"
   },
   {
    "duration": 106,
    "start_time": "2023-09-03T20:31:12.670Z"
   },
   {
    "duration": 5,
    "start_time": "2023-09-03T20:31:12.778Z"
   },
   {
    "duration": 1184,
    "start_time": "2023-09-03T20:31:12.784Z"
   },
   {
    "duration": 0,
    "start_time": "2023-09-03T20:31:13.969Z"
   },
   {
    "duration": 0,
    "start_time": "2023-09-03T20:31:13.971Z"
   },
   {
    "duration": 0,
    "start_time": "2023-09-03T20:31:13.972Z"
   },
   {
    "duration": 0,
    "start_time": "2023-09-03T20:31:13.973Z"
   },
   {
    "duration": 0,
    "start_time": "2023-09-03T20:31:13.975Z"
   },
   {
    "duration": 0,
    "start_time": "2023-09-03T20:31:13.976Z"
   },
   {
    "duration": 0,
    "start_time": "2023-09-03T20:31:13.977Z"
   },
   {
    "duration": 0,
    "start_time": "2023-09-03T20:31:13.978Z"
   },
   {
    "duration": 0,
    "start_time": "2023-09-03T20:31:13.979Z"
   },
   {
    "duration": 0,
    "start_time": "2023-09-03T20:31:13.980Z"
   },
   {
    "duration": 0,
    "start_time": "2023-09-03T20:31:13.981Z"
   },
   {
    "duration": 0,
    "start_time": "2023-09-03T20:31:13.982Z"
   },
   {
    "duration": 0,
    "start_time": "2023-09-03T20:31:13.983Z"
   },
   {
    "duration": 0,
    "start_time": "2023-09-03T20:31:13.985Z"
   },
   {
    "duration": 0,
    "start_time": "2023-09-03T20:31:13.986Z"
   },
   {
    "duration": 0,
    "start_time": "2023-09-03T20:31:13.987Z"
   },
   {
    "duration": 0,
    "start_time": "2023-09-03T20:31:13.988Z"
   },
   {
    "duration": 5,
    "start_time": "2023-09-03T20:31:24.238Z"
   },
   {
    "duration": 11,
    "start_time": "2023-09-03T20:43:49.689Z"
   },
   {
    "duration": 9,
    "start_time": "2023-09-03T20:43:55.402Z"
   },
   {
    "duration": 6,
    "start_time": "2023-09-03T20:44:13.084Z"
   },
   {
    "duration": 13,
    "start_time": "2023-09-03T20:48:55.985Z"
   },
   {
    "duration": 7,
    "start_time": "2023-09-03T20:49:01.844Z"
   },
   {
    "duration": 6,
    "start_time": "2023-09-03T20:56:46.220Z"
   },
   {
    "duration": 7,
    "start_time": "2023-09-03T20:56:46.807Z"
   },
   {
    "duration": 12,
    "start_time": "2023-09-03T21:00:39.164Z"
   },
   {
    "duration": 12,
    "start_time": "2023-09-03T21:01:09.051Z"
   },
   {
    "duration": 4,
    "start_time": "2023-09-03T21:02:05.562Z"
   },
   {
    "duration": 12,
    "start_time": "2023-09-03T21:02:06.510Z"
   },
   {
    "duration": 7844,
    "start_time": "2023-09-03T21:02:15.502Z"
   },
   {
    "duration": 114,
    "start_time": "2023-09-03T21:02:23.349Z"
   },
   {
    "duration": 5,
    "start_time": "2023-09-03T21:02:23.466Z"
   },
   {
    "duration": 93,
    "start_time": "2023-09-03T21:02:23.472Z"
   },
   {
    "duration": 251,
    "start_time": "2023-09-03T21:02:23.567Z"
   },
   {
    "duration": 39,
    "start_time": "2023-09-03T21:02:23.820Z"
   },
   {
    "duration": 127,
    "start_time": "2023-09-03T21:02:23.862Z"
   },
   {
    "duration": 163,
    "start_time": "2023-09-03T21:02:23.991Z"
   },
   {
    "duration": 46,
    "start_time": "2023-09-03T21:02:24.157Z"
   },
   {
    "duration": 152,
    "start_time": "2023-09-03T21:02:24.205Z"
   },
   {
    "duration": 28,
    "start_time": "2023-09-03T21:02:24.359Z"
   },
   {
    "duration": 123,
    "start_time": "2023-09-03T21:02:24.389Z"
   },
   {
    "duration": 14,
    "start_time": "2023-09-03T21:02:24.514Z"
   },
   {
    "duration": 113,
    "start_time": "2023-09-03T21:02:24.532Z"
   },
   {
    "duration": 7,
    "start_time": "2023-09-03T21:02:24.648Z"
   },
   {
    "duration": 22,
    "start_time": "2023-09-03T21:02:24.657Z"
   },
   {
    "duration": 35,
    "start_time": "2023-09-03T21:02:24.680Z"
   },
   {
    "duration": 48,
    "start_time": "2023-09-03T21:02:24.717Z"
   },
   {
    "duration": 30,
    "start_time": "2023-09-03T21:02:24.767Z"
   },
   {
    "duration": 28,
    "start_time": "2023-09-03T21:02:24.799Z"
   },
   {
    "duration": 19,
    "start_time": "2023-09-03T21:02:24.828Z"
   },
   {
    "duration": 11,
    "start_time": "2023-09-03T21:02:24.850Z"
   },
   {
    "duration": 28142,
    "start_time": "2023-09-03T21:02:24.863Z"
   },
   {
    "duration": 150,
    "start_time": "2023-09-03T21:02:53.007Z"
   },
   {
    "duration": 6,
    "start_time": "2023-09-03T21:02:53.160Z"
   },
   {
    "duration": 210,
    "start_time": "2023-09-03T21:02:53.168Z"
   },
   {
    "duration": 0,
    "start_time": "2023-09-03T21:02:53.381Z"
   },
   {
    "duration": 0,
    "start_time": "2023-09-03T21:02:53.382Z"
   },
   {
    "duration": 0,
    "start_time": "2023-09-03T21:02:53.383Z"
   },
   {
    "duration": 0,
    "start_time": "2023-09-03T21:02:53.384Z"
   },
   {
    "duration": 0,
    "start_time": "2023-09-03T21:02:53.385Z"
   },
   {
    "duration": 0,
    "start_time": "2023-09-03T21:02:53.386Z"
   },
   {
    "duration": 0,
    "start_time": "2023-09-03T21:02:53.387Z"
   },
   {
    "duration": 0,
    "start_time": "2023-09-03T21:02:53.389Z"
   },
   {
    "duration": 7488,
    "start_time": "2023-09-03T21:14:18.032Z"
   },
   {
    "duration": 99,
    "start_time": "2023-09-03T21:14:25.522Z"
   },
   {
    "duration": 5,
    "start_time": "2023-09-03T21:14:25.623Z"
   },
   {
    "duration": 40,
    "start_time": "2023-09-03T21:14:25.630Z"
   },
   {
    "duration": 242,
    "start_time": "2023-09-03T21:14:25.672Z"
   },
   {
    "duration": 35,
    "start_time": "2023-09-03T21:14:25.916Z"
   },
   {
    "duration": 124,
    "start_time": "2023-09-03T21:14:25.953Z"
   },
   {
    "duration": 163,
    "start_time": "2023-09-03T21:14:26.079Z"
   },
   {
    "duration": 44,
    "start_time": "2023-09-03T21:14:26.246Z"
   },
   {
    "duration": 141,
    "start_time": "2023-09-03T21:14:26.293Z"
   },
   {
    "duration": 32,
    "start_time": "2023-09-03T21:14:26.436Z"
   },
   {
    "duration": 104,
    "start_time": "2023-09-03T21:14:26.469Z"
   },
   {
    "duration": 17,
    "start_time": "2023-09-03T21:14:39.573Z"
   },
   {
    "duration": 96,
    "start_time": "2023-09-03T21:14:40.164Z"
   },
   {
    "duration": 5,
    "start_time": "2023-09-03T21:14:58.071Z"
   },
   {
    "duration": 5,
    "start_time": "2023-09-03T21:15:01.380Z"
   },
   {
    "duration": 7,
    "start_time": "2023-09-03T21:23:55.257Z"
   },
   {
    "duration": 963,
    "start_time": "2023-09-03T21:23:59.927Z"
   },
   {
    "duration": 7,
    "start_time": "2023-09-03T21:29:46.200Z"
   },
   {
    "duration": 6,
    "start_time": "2023-09-03T21:29:57.585Z"
   },
   {
    "duration": 5,
    "start_time": "2023-09-03T21:31:05.941Z"
   },
   {
    "duration": 56,
    "start_time": "2023-09-03T21:33:03.038Z"
   },
   {
    "duration": 6,
    "start_time": "2023-09-03T21:33:16.775Z"
   },
   {
    "duration": 14,
    "start_time": "2023-09-03T21:33:48.220Z"
   },
   {
    "duration": 3,
    "start_time": "2023-09-03T21:40:28.904Z"
   },
   {
    "duration": 6,
    "start_time": "2023-09-03T21:40:47.071Z"
   },
   {
    "duration": 7438,
    "start_time": "2023-09-03T21:50:48.432Z"
   },
   {
    "duration": 101,
    "start_time": "2023-09-03T21:50:55.872Z"
   },
   {
    "duration": 5,
    "start_time": "2023-09-03T21:50:55.975Z"
   },
   {
    "duration": 99,
    "start_time": "2023-09-03T21:50:55.981Z"
   },
   {
    "duration": 242,
    "start_time": "2023-09-03T21:50:56.083Z"
   },
   {
    "duration": 32,
    "start_time": "2023-09-03T21:50:56.326Z"
   },
   {
    "duration": 119,
    "start_time": "2023-09-03T21:50:56.360Z"
   },
   {
    "duration": 143,
    "start_time": "2023-09-03T21:50:56.480Z"
   },
   {
    "duration": 49,
    "start_time": "2023-09-03T21:50:56.625Z"
   },
   {
    "duration": 138,
    "start_time": "2023-09-03T21:50:56.676Z"
   },
   {
    "duration": 32,
    "start_time": "2023-09-03T21:50:56.816Z"
   },
   {
    "duration": 72,
    "start_time": "2023-09-03T21:50:56.849Z"
   },
   {
    "duration": 32,
    "start_time": "2023-09-03T21:50:56.922Z"
   },
   {
    "duration": 100,
    "start_time": "2023-09-03T21:50:56.957Z"
   },
   {
    "duration": 5,
    "start_time": "2023-09-03T21:50:57.058Z"
   },
   {
    "duration": 30,
    "start_time": "2023-09-03T21:50:57.065Z"
   },
   {
    "duration": 26,
    "start_time": "2023-09-03T21:50:57.096Z"
   },
   {
    "duration": 23,
    "start_time": "2023-09-03T21:50:57.124Z"
   },
   {
    "duration": 26,
    "start_time": "2023-09-03T21:50:57.149Z"
   },
   {
    "duration": 11,
    "start_time": "2023-09-03T21:50:57.177Z"
   },
   {
    "duration": 19,
    "start_time": "2023-09-03T21:50:57.189Z"
   },
   {
    "duration": 4,
    "start_time": "2023-09-03T21:50:57.210Z"
   },
   {
    "duration": 26283,
    "start_time": "2023-09-03T21:50:57.215Z"
   },
   {
    "duration": 141,
    "start_time": "2023-09-03T21:51:23.499Z"
   },
   {
    "duration": 7,
    "start_time": "2023-09-03T21:51:23.642Z"
   },
   {
    "duration": 198,
    "start_time": "2023-09-03T21:51:23.651Z"
   },
   {
    "duration": 0,
    "start_time": "2023-09-03T21:51:23.851Z"
   },
   {
    "duration": 0,
    "start_time": "2023-09-03T21:51:23.852Z"
   },
   {
    "duration": 0,
    "start_time": "2023-09-03T21:51:23.854Z"
   },
   {
    "duration": 0,
    "start_time": "2023-09-03T21:51:23.855Z"
   },
   {
    "duration": 0,
    "start_time": "2023-09-03T21:51:23.857Z"
   },
   {
    "duration": 0,
    "start_time": "2023-09-03T21:51:23.859Z"
   },
   {
    "duration": 0,
    "start_time": "2023-09-03T21:51:23.860Z"
   },
   {
    "duration": 0,
    "start_time": "2023-09-03T21:51:23.862Z"
   },
   {
    "duration": 7559,
    "start_time": "2023-09-03T22:01:35.562Z"
   },
   {
    "duration": 101,
    "start_time": "2023-09-03T22:01:43.123Z"
   },
   {
    "duration": 7,
    "start_time": "2023-09-03T22:01:43.226Z"
   },
   {
    "duration": 66,
    "start_time": "2023-09-03T22:01:43.235Z"
   },
   {
    "duration": 317,
    "start_time": "2023-09-03T22:01:43.305Z"
   },
   {
    "duration": 32,
    "start_time": "2023-09-03T22:01:43.624Z"
   },
   {
    "duration": 125,
    "start_time": "2023-09-03T22:01:43.658Z"
   },
   {
    "duration": 139,
    "start_time": "2023-09-03T22:01:43.784Z"
   },
   {
    "duration": 55,
    "start_time": "2023-09-03T22:01:43.925Z"
   },
   {
    "duration": 138,
    "start_time": "2023-09-03T22:01:43.982Z"
   },
   {
    "duration": 38,
    "start_time": "2023-09-03T22:01:44.121Z"
   },
   {
    "duration": 91,
    "start_time": "2023-09-03T22:01:44.161Z"
   },
   {
    "duration": 13,
    "start_time": "2023-09-03T22:01:44.253Z"
   },
   {
    "duration": 104,
    "start_time": "2023-09-03T22:01:44.269Z"
   },
   {
    "duration": 6,
    "start_time": "2023-09-03T22:01:44.375Z"
   },
   {
    "duration": 9,
    "start_time": "2023-09-03T22:01:44.383Z"
   },
   {
    "duration": 28,
    "start_time": "2023-09-03T22:01:44.394Z"
   },
   {
    "duration": 7,
    "start_time": "2023-09-03T22:01:44.423Z"
   },
   {
    "duration": 27,
    "start_time": "2023-09-03T22:01:44.432Z"
   },
   {
    "duration": 10,
    "start_time": "2023-09-03T22:01:44.461Z"
   },
   {
    "duration": 8,
    "start_time": "2023-09-03T22:01:44.473Z"
   },
   {
    "duration": 15,
    "start_time": "2023-09-03T22:01:44.483Z"
   },
   {
    "duration": 3,
    "start_time": "2023-09-03T22:01:44.500Z"
   },
   {
    "duration": 26009,
    "start_time": "2023-09-03T22:01:44.505Z"
   },
   {
    "duration": 5,
    "start_time": "2023-09-03T22:02:10.515Z"
   },
   {
    "duration": 14,
    "start_time": "2023-09-03T22:02:10.522Z"
   },
   {
    "duration": 189,
    "start_time": "2023-09-03T22:02:10.537Z"
   },
   {
    "duration": 0,
    "start_time": "2023-09-03T22:02:10.728Z"
   },
   {
    "duration": 0,
    "start_time": "2023-09-03T22:02:10.729Z"
   },
   {
    "duration": 0,
    "start_time": "2023-09-03T22:02:10.730Z"
   },
   {
    "duration": 0,
    "start_time": "2023-09-03T22:02:10.731Z"
   },
   {
    "duration": 0,
    "start_time": "2023-09-03T22:02:10.732Z"
   },
   {
    "duration": 0,
    "start_time": "2023-09-03T22:02:10.733Z"
   },
   {
    "duration": 0,
    "start_time": "2023-09-03T22:02:10.734Z"
   },
   {
    "duration": 0,
    "start_time": "2023-09-03T22:02:10.735Z"
   },
   {
    "duration": 7380,
    "start_time": "2023-09-03T22:04:07.319Z"
   },
   {
    "duration": 98,
    "start_time": "2023-09-03T22:04:14.702Z"
   },
   {
    "duration": 5,
    "start_time": "2023-09-03T22:04:14.801Z"
   },
   {
    "duration": 57,
    "start_time": "2023-09-03T22:04:14.807Z"
   },
   {
    "duration": 244,
    "start_time": "2023-09-03T22:04:14.866Z"
   },
   {
    "duration": 38,
    "start_time": "2023-09-03T22:04:15.113Z"
   },
   {
    "duration": 147,
    "start_time": "2023-09-03T22:04:15.154Z"
   },
   {
    "duration": 146,
    "start_time": "2023-09-03T22:04:15.303Z"
   },
   {
    "duration": 44,
    "start_time": "2023-09-03T22:04:15.450Z"
   },
   {
    "duration": 142,
    "start_time": "2023-09-03T22:04:15.496Z"
   },
   {
    "duration": 32,
    "start_time": "2023-09-03T22:04:15.640Z"
   },
   {
    "duration": 92,
    "start_time": "2023-09-03T22:04:15.674Z"
   },
   {
    "duration": 15,
    "start_time": "2023-09-03T22:04:15.767Z"
   },
   {
    "duration": 106,
    "start_time": "2023-09-03T22:04:15.787Z"
   },
   {
    "duration": 5,
    "start_time": "2023-09-03T22:04:15.895Z"
   },
   {
    "duration": 29,
    "start_time": "2023-09-03T22:04:15.902Z"
   },
   {
    "duration": 121,
    "start_time": "2023-09-03T22:04:15.933Z"
   },
   {
    "duration": 35,
    "start_time": "2023-09-03T22:04:16.056Z"
   },
   {
    "duration": 16,
    "start_time": "2023-09-03T22:04:16.093Z"
   },
   {
    "duration": 35,
    "start_time": "2023-09-03T22:04:16.111Z"
   },
   {
    "duration": 19,
    "start_time": "2023-09-03T22:04:16.147Z"
   },
   {
    "duration": 7,
    "start_time": "2023-09-03T22:04:16.168Z"
   },
   {
    "duration": 12,
    "start_time": "2023-09-03T22:04:16.177Z"
   },
   {
    "duration": 3,
    "start_time": "2023-09-03T22:04:16.191Z"
   },
   {
    "duration": 26528,
    "start_time": "2023-09-03T22:04:16.196Z"
   },
   {
    "duration": 6,
    "start_time": "2023-09-03T22:04:42.726Z"
   },
   {
    "duration": 13,
    "start_time": "2023-09-03T22:04:42.733Z"
   },
   {
    "duration": 186,
    "start_time": "2023-09-03T22:04:42.748Z"
   },
   {
    "duration": 0,
    "start_time": "2023-09-03T22:04:42.936Z"
   },
   {
    "duration": 0,
    "start_time": "2023-09-03T22:04:42.947Z"
   },
   {
    "duration": 0,
    "start_time": "2023-09-03T22:04:42.948Z"
   },
   {
    "duration": 0,
    "start_time": "2023-09-03T22:04:42.949Z"
   },
   {
    "duration": 0,
    "start_time": "2023-09-03T22:04:42.950Z"
   },
   {
    "duration": 0,
    "start_time": "2023-09-03T22:04:42.951Z"
   },
   {
    "duration": 0,
    "start_time": "2023-09-03T22:04:42.952Z"
   },
   {
    "duration": 0,
    "start_time": "2023-09-03T22:04:42.954Z"
   },
   {
    "duration": 7198,
    "start_time": "2023-09-03T22:12:53.139Z"
   },
   {
    "duration": 103,
    "start_time": "2023-09-03T22:13:00.339Z"
   },
   {
    "duration": 5,
    "start_time": "2023-09-03T22:13:00.443Z"
   },
   {
    "duration": 97,
    "start_time": "2023-09-03T22:13:00.449Z"
   },
   {
    "duration": 244,
    "start_time": "2023-09-03T22:13:00.548Z"
   },
   {
    "duration": 27,
    "start_time": "2023-09-03T22:13:00.794Z"
   },
   {
    "duration": 127,
    "start_time": "2023-09-03T22:13:00.823Z"
   },
   {
    "duration": 143,
    "start_time": "2023-09-03T22:13:00.951Z"
   },
   {
    "duration": 56,
    "start_time": "2023-09-03T22:13:01.095Z"
   },
   {
    "duration": 133,
    "start_time": "2023-09-03T22:13:01.153Z"
   },
   {
    "duration": 28,
    "start_time": "2023-09-03T22:13:01.288Z"
   },
   {
    "duration": 107,
    "start_time": "2023-09-03T22:13:01.317Z"
   },
   {
    "duration": 13,
    "start_time": "2023-09-03T22:13:01.426Z"
   },
   {
    "duration": 107,
    "start_time": "2023-09-03T22:13:01.446Z"
   },
   {
    "duration": 5,
    "start_time": "2023-09-03T22:13:01.555Z"
   },
   {
    "duration": 44,
    "start_time": "2023-09-03T22:13:01.562Z"
   },
   {
    "duration": 51,
    "start_time": "2023-09-03T22:13:01.608Z"
   },
   {
    "duration": 51,
    "start_time": "2023-09-03T22:13:01.661Z"
   },
   {
    "duration": 68,
    "start_time": "2023-09-03T22:13:01.714Z"
   },
   {
    "duration": 37,
    "start_time": "2023-09-03T22:13:01.784Z"
   },
   {
    "duration": 37,
    "start_time": "2023-09-03T22:13:01.823Z"
   },
   {
    "duration": 65,
    "start_time": "2023-09-03T22:13:01.862Z"
   },
   {
    "duration": 26685,
    "start_time": "2023-09-03T22:13:01.929Z"
   },
   {
    "duration": 6,
    "start_time": "2023-09-03T22:13:28.615Z"
   },
   {
    "duration": 9,
    "start_time": "2023-09-03T22:13:28.622Z"
   },
   {
    "duration": 186,
    "start_time": "2023-09-03T22:13:28.633Z"
   },
   {
    "duration": 0,
    "start_time": "2023-09-03T22:13:28.821Z"
   },
   {
    "duration": 0,
    "start_time": "2023-09-03T22:13:28.822Z"
   },
   {
    "duration": 0,
    "start_time": "2023-09-03T22:13:28.823Z"
   },
   {
    "duration": 0,
    "start_time": "2023-09-03T22:13:28.825Z"
   },
   {
    "duration": 0,
    "start_time": "2023-09-03T22:13:28.826Z"
   },
   {
    "duration": 0,
    "start_time": "2023-09-03T22:13:28.827Z"
   },
   {
    "duration": 0,
    "start_time": "2023-09-03T22:13:28.846Z"
   },
   {
    "duration": 0,
    "start_time": "2023-09-03T22:13:28.847Z"
   },
   {
    "duration": 300,
    "start_time": "2023-09-03T22:18:25.978Z"
   },
   {
    "duration": 7256,
    "start_time": "2023-09-03T22:56:12.088Z"
   },
   {
    "duration": 102,
    "start_time": "2023-09-03T22:56:19.347Z"
   },
   {
    "duration": 5,
    "start_time": "2023-09-03T22:56:19.452Z"
   },
   {
    "duration": 52,
    "start_time": "2023-09-03T22:56:19.458Z"
   },
   {
    "duration": 265,
    "start_time": "2023-09-03T22:56:19.513Z"
   },
   {
    "duration": 29,
    "start_time": "2023-09-03T22:56:19.780Z"
   },
   {
    "duration": 136,
    "start_time": "2023-09-03T22:56:19.812Z"
   },
   {
    "duration": 145,
    "start_time": "2023-09-03T22:56:19.950Z"
   },
   {
    "duration": 50,
    "start_time": "2023-09-03T22:56:20.097Z"
   },
   {
    "duration": 134,
    "start_time": "2023-09-03T22:56:20.149Z"
   },
   {
    "duration": 32,
    "start_time": "2023-09-03T22:56:20.285Z"
   },
   {
    "duration": 106,
    "start_time": "2023-09-03T22:56:20.318Z"
   },
   {
    "duration": 6,
    "start_time": "2023-09-03T22:56:20.426Z"
   },
   {
    "duration": 22,
    "start_time": "2023-09-03T22:56:20.435Z"
   },
   {
    "duration": 104,
    "start_time": "2023-09-03T22:56:20.459Z"
   },
   {
    "duration": 6,
    "start_time": "2023-09-03T22:56:20.565Z"
   },
   {
    "duration": 13,
    "start_time": "2023-09-03T22:56:20.572Z"
   },
   {
    "duration": 9,
    "start_time": "2023-09-03T22:56:20.586Z"
   },
   {
    "duration": 7,
    "start_time": "2023-09-03T22:56:20.597Z"
   },
   {
    "duration": 21,
    "start_time": "2023-09-03T22:56:20.605Z"
   },
   {
    "duration": 12,
    "start_time": "2023-09-03T22:56:20.628Z"
   },
   {
    "duration": 16,
    "start_time": "2023-09-03T22:56:20.641Z"
   },
   {
    "duration": 6,
    "start_time": "2023-09-03T22:56:20.658Z"
   },
   {
    "duration": 5,
    "start_time": "2023-09-03T22:56:20.666Z"
   },
   {
    "duration": 30,
    "start_time": "2023-09-03T22:56:20.673Z"
   },
   {
    "duration": 186,
    "start_time": "2023-09-03T22:56:20.705Z"
   },
   {
    "duration": 0,
    "start_time": "2023-09-03T22:56:20.892Z"
   },
   {
    "duration": 0,
    "start_time": "2023-09-03T22:56:20.894Z"
   },
   {
    "duration": 0,
    "start_time": "2023-09-03T22:56:20.895Z"
   },
   {
    "duration": 0,
    "start_time": "2023-09-03T22:56:20.896Z"
   },
   {
    "duration": 0,
    "start_time": "2023-09-03T22:56:20.897Z"
   },
   {
    "duration": 0,
    "start_time": "2023-09-03T22:56:20.898Z"
   },
   {
    "duration": 0,
    "start_time": "2023-09-03T22:56:20.900Z"
   },
   {
    "duration": 0,
    "start_time": "2023-09-03T22:56:20.901Z"
   },
   {
    "duration": 0,
    "start_time": "2023-09-03T22:56:20.902Z"
   },
   {
    "duration": 2793,
    "start_time": "2023-09-03T22:57:41.133Z"
   },
   {
    "duration": 2929,
    "start_time": "2023-09-03T22:59:04.314Z"
   },
   {
    "duration": 7254,
    "start_time": "2023-09-03T23:51:07.436Z"
   },
   {
    "duration": 100,
    "start_time": "2023-09-03T23:51:14.693Z"
   },
   {
    "duration": 6,
    "start_time": "2023-09-03T23:51:14.795Z"
   },
   {
    "duration": 58,
    "start_time": "2023-09-03T23:51:14.803Z"
   },
   {
    "duration": 240,
    "start_time": "2023-09-03T23:51:14.863Z"
   },
   {
    "duration": 27,
    "start_time": "2023-09-03T23:51:15.104Z"
   },
   {
    "duration": 139,
    "start_time": "2023-09-03T23:51:15.133Z"
   },
   {
    "duration": 158,
    "start_time": "2023-09-03T23:51:15.274Z"
   },
   {
    "duration": 49,
    "start_time": "2023-09-03T23:51:15.434Z"
   },
   {
    "duration": 138,
    "start_time": "2023-09-03T23:51:15.485Z"
   },
   {
    "duration": 48,
    "start_time": "2023-09-03T23:51:15.624Z"
   },
   {
    "duration": 105,
    "start_time": "2023-09-03T23:51:15.674Z"
   },
   {
    "duration": 6,
    "start_time": "2023-09-03T23:51:15.780Z"
   },
   {
    "duration": 13,
    "start_time": "2023-09-03T23:51:15.789Z"
   },
   {
    "duration": 150,
    "start_time": "2023-09-03T23:51:15.804Z"
   },
   {
    "duration": 7,
    "start_time": "2023-09-03T23:51:15.956Z"
   },
   {
    "duration": 14,
    "start_time": "2023-09-03T23:51:15.964Z"
   },
   {
    "duration": 25,
    "start_time": "2023-09-03T23:51:15.980Z"
   },
   {
    "duration": 8,
    "start_time": "2023-09-03T23:51:16.006Z"
   },
   {
    "duration": 7,
    "start_time": "2023-09-03T23:51:16.016Z"
   },
   {
    "duration": 8,
    "start_time": "2023-09-03T23:51:16.024Z"
   },
   {
    "duration": 13,
    "start_time": "2023-09-03T23:51:16.046Z"
   },
   {
    "duration": 5,
    "start_time": "2023-09-03T23:51:16.061Z"
   },
   {
    "duration": 11,
    "start_time": "2023-09-03T23:51:16.068Z"
   },
   {
    "duration": 14,
    "start_time": "2023-09-03T23:51:16.080Z"
   },
   {
    "duration": 2902,
    "start_time": "2023-09-03T23:51:16.096Z"
   },
   {
    "duration": 6,
    "start_time": "2023-09-03T23:51:18.999Z"
   },
   {
    "duration": 4,
    "start_time": "2023-09-03T23:51:19.007Z"
   },
   {
    "duration": 11,
    "start_time": "2023-09-03T23:51:19.013Z"
   },
   {
    "duration": 123,
    "start_time": "2023-09-03T23:51:19.025Z"
   },
   {
    "duration": 4,
    "start_time": "2023-09-03T23:51:19.149Z"
   },
   {
    "duration": 14,
    "start_time": "2023-09-03T23:51:19.155Z"
   },
   {
    "duration": 4,
    "start_time": "2023-09-03T23:51:19.170Z"
   },
   {
    "duration": 6318,
    "start_time": "2023-09-03T23:51:19.176Z"
   },
   {
    "duration": 4,
    "start_time": "2023-09-03T23:51:25.496Z"
   },
   {
    "duration": 99566,
    "start_time": "2023-09-03T23:51:25.502Z"
   },
   {
    "duration": 20,
    "start_time": "2023-09-04T00:07:29.563Z"
   },
   {
    "duration": 21,
    "start_time": "2023-09-04T00:09:56.106Z"
   },
   {
    "duration": 21,
    "start_time": "2023-09-04T00:14:24.305Z"
   },
   {
    "duration": 7594,
    "start_time": "2023-09-04T00:23:58.602Z"
   },
   {
    "duration": 100,
    "start_time": "2023-09-04T00:24:06.198Z"
   },
   {
    "duration": 4,
    "start_time": "2023-09-04T00:24:06.300Z"
   },
   {
    "duration": 38,
    "start_time": "2023-09-04T00:24:06.306Z"
   },
   {
    "duration": 260,
    "start_time": "2023-09-04T00:24:06.346Z"
   },
   {
    "duration": 40,
    "start_time": "2023-09-04T00:24:06.609Z"
   },
   {
    "duration": 121,
    "start_time": "2023-09-04T00:24:06.650Z"
   },
   {
    "duration": 139,
    "start_time": "2023-09-04T00:24:06.773Z"
   },
   {
    "duration": 53,
    "start_time": "2023-09-04T00:24:06.914Z"
   },
   {
    "duration": 133,
    "start_time": "2023-09-04T00:24:06.969Z"
   },
   {
    "duration": 28,
    "start_time": "2023-09-04T00:24:07.103Z"
   },
   {
    "duration": 74,
    "start_time": "2023-09-04T00:24:07.147Z"
   },
   {
    "duration": 6,
    "start_time": "2023-09-04T00:24:07.223Z"
   },
   {
    "duration": 27,
    "start_time": "2023-09-04T00:24:07.248Z"
   },
   {
    "duration": 109,
    "start_time": "2023-09-04T00:24:07.278Z"
   },
   {
    "duration": 7,
    "start_time": "2023-09-04T00:24:07.389Z"
   },
   {
    "duration": 11,
    "start_time": "2023-09-04T00:24:07.397Z"
   },
   {
    "duration": 6,
    "start_time": "2023-09-04T00:24:07.409Z"
   },
   {
    "duration": 31,
    "start_time": "2023-09-04T00:24:07.416Z"
   },
   {
    "duration": 6,
    "start_time": "2023-09-04T00:24:07.449Z"
   },
   {
    "duration": 10,
    "start_time": "2023-09-04T00:24:07.457Z"
   },
   {
    "duration": 20,
    "start_time": "2023-09-04T00:24:07.468Z"
   },
   {
    "duration": 9,
    "start_time": "2023-09-04T00:24:07.490Z"
   },
   {
    "duration": 13,
    "start_time": "2023-09-04T00:24:07.500Z"
   },
   {
    "duration": 18,
    "start_time": "2023-09-04T00:24:07.515Z"
   },
   {
    "duration": 2938,
    "start_time": "2023-09-04T00:24:07.535Z"
   },
   {
    "duration": 6,
    "start_time": "2023-09-04T00:24:10.475Z"
   },
   {
    "duration": 11,
    "start_time": "2023-09-04T00:24:10.483Z"
   },
   {
    "duration": 10,
    "start_time": "2023-09-04T00:24:10.496Z"
   },
   {
    "duration": 120,
    "start_time": "2023-09-04T00:24:10.508Z"
   },
   {
    "duration": 4,
    "start_time": "2023-09-04T00:24:10.630Z"
   },
   {
    "duration": 21,
    "start_time": "2023-09-04T00:24:10.636Z"
   },
   {
    "duration": 34,
    "start_time": "2023-09-04T00:24:10.659Z"
   },
   {
    "duration": 6334,
    "start_time": "2023-09-04T00:24:10.695Z"
   },
   {
    "duration": 4,
    "start_time": "2023-09-04T00:24:17.031Z"
   },
   {
    "duration": 100702,
    "start_time": "2023-09-04T00:24:17.046Z"
   },
   {
    "duration": 4,
    "start_time": "2023-09-04T00:25:57.750Z"
   },
   {
    "duration": 214891,
    "start_time": "2023-09-04T00:25:57.756Z"
   },
   {
    "duration": 7819,
    "start_time": "2023-09-04T00:36:33.664Z"
   },
   {
    "duration": 101,
    "start_time": "2023-09-04T00:36:41.485Z"
   },
   {
    "duration": 4,
    "start_time": "2023-09-04T00:36:41.588Z"
   },
   {
    "duration": 43,
    "start_time": "2023-09-04T00:36:41.594Z"
   },
   {
    "duration": 254,
    "start_time": "2023-09-04T00:36:41.640Z"
   },
   {
    "duration": 25,
    "start_time": "2023-09-04T00:36:41.895Z"
   },
   {
    "duration": 135,
    "start_time": "2023-09-04T00:36:41.922Z"
   },
   {
    "duration": 147,
    "start_time": "2023-09-04T00:36:42.059Z"
   },
   {
    "duration": 62,
    "start_time": "2023-09-04T00:36:42.208Z"
   },
   {
    "duration": 148,
    "start_time": "2023-09-04T00:36:42.272Z"
   },
   {
    "duration": 40,
    "start_time": "2023-09-04T00:36:42.422Z"
   },
   {
    "duration": 83,
    "start_time": "2023-09-04T00:36:42.464Z"
   },
   {
    "duration": 11,
    "start_time": "2023-09-04T00:36:42.550Z"
   },
   {
    "duration": 15,
    "start_time": "2023-09-04T00:36:42.565Z"
   },
   {
    "duration": 121,
    "start_time": "2023-09-04T00:36:42.582Z"
   },
   {
    "duration": 7,
    "start_time": "2023-09-04T00:36:42.705Z"
   },
   {
    "duration": 13,
    "start_time": "2023-09-04T00:36:42.714Z"
   },
   {
    "duration": 18,
    "start_time": "2023-09-04T00:36:42.729Z"
   },
   {
    "duration": 10,
    "start_time": "2023-09-04T00:36:42.749Z"
   },
   {
    "duration": 9,
    "start_time": "2023-09-04T00:36:42.762Z"
   },
   {
    "duration": 12,
    "start_time": "2023-09-04T00:36:42.773Z"
   },
   {
    "duration": 19,
    "start_time": "2023-09-04T00:36:42.787Z"
   },
   {
    "duration": 4,
    "start_time": "2023-09-04T00:36:42.808Z"
   },
   {
    "duration": 12,
    "start_time": "2023-09-04T00:36:42.813Z"
   },
   {
    "duration": 30,
    "start_time": "2023-09-04T00:36:42.827Z"
   },
   {
    "duration": 2986,
    "start_time": "2023-09-04T00:36:42.860Z"
   },
   {
    "duration": 7,
    "start_time": "2023-09-04T00:36:45.848Z"
   },
   {
    "duration": 5,
    "start_time": "2023-09-04T00:36:45.858Z"
   },
   {
    "duration": 11,
    "start_time": "2023-09-04T00:36:45.865Z"
   },
   {
    "duration": 150,
    "start_time": "2023-09-04T00:36:45.877Z"
   },
   {
    "duration": 4,
    "start_time": "2023-09-04T00:36:46.029Z"
   },
   {
    "duration": 12,
    "start_time": "2023-09-04T00:36:46.035Z"
   },
   {
    "duration": 23,
    "start_time": "2023-09-04T00:36:46.050Z"
   },
   {
    "duration": 6630,
    "start_time": "2023-09-04T00:36:46.075Z"
   },
   {
    "duration": 4,
    "start_time": "2023-09-04T00:36:52.707Z"
   },
   {
    "duration": 106085,
    "start_time": "2023-09-04T00:36:52.712Z"
   },
   {
    "duration": 4,
    "start_time": "2023-09-04T00:38:38.798Z"
   },
   {
    "duration": 226165,
    "start_time": "2023-09-04T00:38:38.804Z"
   },
   {
    "duration": 20,
    "start_time": "2023-09-04T00:45:31.280Z"
   },
   {
    "duration": 5908,
    "start_time": "2023-09-04T00:58:00.554Z"
   },
   {
    "duration": 0,
    "start_time": "2023-09-04T00:58:06.465Z"
   },
   {
    "duration": 0,
    "start_time": "2023-09-04T00:58:06.467Z"
   },
   {
    "duration": 0,
    "start_time": "2023-09-04T00:58:06.468Z"
   },
   {
    "duration": 0,
    "start_time": "2023-09-04T00:58:06.469Z"
   },
   {
    "duration": 0,
    "start_time": "2023-09-04T00:58:06.471Z"
   },
   {
    "duration": 0,
    "start_time": "2023-09-04T00:58:06.472Z"
   },
   {
    "duration": 0,
    "start_time": "2023-09-04T00:58:06.473Z"
   },
   {
    "duration": 0,
    "start_time": "2023-09-04T00:58:06.475Z"
   },
   {
    "duration": 0,
    "start_time": "2023-09-04T00:58:06.476Z"
   },
   {
    "duration": 0,
    "start_time": "2023-09-04T00:58:06.477Z"
   },
   {
    "duration": 0,
    "start_time": "2023-09-04T00:58:06.478Z"
   },
   {
    "duration": 0,
    "start_time": "2023-09-04T00:58:06.479Z"
   },
   {
    "duration": 0,
    "start_time": "2023-09-04T00:58:06.480Z"
   },
   {
    "duration": 0,
    "start_time": "2023-09-04T00:58:06.481Z"
   },
   {
    "duration": 0,
    "start_time": "2023-09-04T00:58:06.482Z"
   },
   {
    "duration": 0,
    "start_time": "2023-09-04T00:58:06.483Z"
   },
   {
    "duration": 0,
    "start_time": "2023-09-04T00:58:06.484Z"
   },
   {
    "duration": 0,
    "start_time": "2023-09-04T00:58:06.485Z"
   },
   {
    "duration": 0,
    "start_time": "2023-09-04T00:58:06.486Z"
   },
   {
    "duration": 0,
    "start_time": "2023-09-04T00:58:06.487Z"
   },
   {
    "duration": 0,
    "start_time": "2023-09-04T00:58:06.488Z"
   },
   {
    "duration": 0,
    "start_time": "2023-09-04T00:58:06.489Z"
   },
   {
    "duration": 0,
    "start_time": "2023-09-04T00:58:06.490Z"
   },
   {
    "duration": 0,
    "start_time": "2023-09-04T00:58:06.491Z"
   },
   {
    "duration": 0,
    "start_time": "2023-09-04T00:58:06.492Z"
   },
   {
    "duration": 0,
    "start_time": "2023-09-04T00:58:06.493Z"
   },
   {
    "duration": 0,
    "start_time": "2023-09-04T00:58:06.494Z"
   },
   {
    "duration": 0,
    "start_time": "2023-09-04T00:58:06.495Z"
   },
   {
    "duration": 0,
    "start_time": "2023-09-04T00:58:06.547Z"
   },
   {
    "duration": 0,
    "start_time": "2023-09-04T00:58:06.548Z"
   },
   {
    "duration": 0,
    "start_time": "2023-09-04T00:58:06.549Z"
   },
   {
    "duration": 0,
    "start_time": "2023-09-04T00:58:06.550Z"
   },
   {
    "duration": 0,
    "start_time": "2023-09-04T00:58:06.551Z"
   },
   {
    "duration": 0,
    "start_time": "2023-09-04T00:58:06.552Z"
   },
   {
    "duration": 0,
    "start_time": "2023-09-04T00:58:06.553Z"
   },
   {
    "duration": 0,
    "start_time": "2023-09-04T00:58:06.555Z"
   },
   {
    "duration": 0,
    "start_time": "2023-09-04T00:58:06.556Z"
   },
   {
    "duration": 0,
    "start_time": "2023-09-04T00:58:06.557Z"
   },
   {
    "duration": 0,
    "start_time": "2023-09-04T00:58:06.558Z"
   },
   {
    "duration": 14811,
    "start_time": "2023-09-04T00:58:56.484Z"
   },
   {
    "duration": 97,
    "start_time": "2023-09-04T00:59:11.296Z"
   },
   {
    "duration": 4,
    "start_time": "2023-09-04T00:59:11.395Z"
   },
   {
    "duration": 35,
    "start_time": "2023-09-04T00:59:11.401Z"
   },
   {
    "duration": 230,
    "start_time": "2023-09-04T00:59:11.438Z"
   },
   {
    "duration": 26,
    "start_time": "2023-09-04T00:59:11.669Z"
   },
   {
    "duration": 123,
    "start_time": "2023-09-04T00:59:11.697Z"
   },
   {
    "duration": 140,
    "start_time": "2023-09-04T00:59:11.822Z"
   },
   {
    "duration": 44,
    "start_time": "2023-09-04T00:59:11.963Z"
   },
   {
    "duration": 143,
    "start_time": "2023-09-04T00:59:12.009Z"
   },
   {
    "duration": 27,
    "start_time": "2023-09-04T00:59:12.153Z"
   },
   {
    "duration": 90,
    "start_time": "2023-09-04T00:59:12.182Z"
   },
   {
    "duration": 6,
    "start_time": "2023-09-04T00:59:12.273Z"
   },
   {
    "duration": 14,
    "start_time": "2023-09-04T00:59:12.281Z"
   },
   {
    "duration": 102,
    "start_time": "2023-09-04T00:59:12.296Z"
   },
   {
    "duration": 6,
    "start_time": "2023-09-04T00:59:12.399Z"
   },
   {
    "duration": 8,
    "start_time": "2023-09-04T00:59:12.407Z"
   },
   {
    "duration": 4,
    "start_time": "2023-09-04T00:59:12.417Z"
   },
   {
    "duration": 6,
    "start_time": "2023-09-04T00:59:12.446Z"
   },
   {
    "duration": 48,
    "start_time": "2023-09-04T00:59:12.453Z"
   },
   {
    "duration": 40,
    "start_time": "2023-09-04T00:59:12.503Z"
   },
   {
    "duration": 15,
    "start_time": "2023-09-04T00:59:12.545Z"
   },
   {
    "duration": 3,
    "start_time": "2023-09-04T00:59:12.562Z"
   },
   {
    "duration": 6,
    "start_time": "2023-09-04T00:59:12.566Z"
   },
   {
    "duration": 11,
    "start_time": "2023-09-04T00:59:12.573Z"
   },
   {
    "duration": 2835,
    "start_time": "2023-09-04T00:59:12.586Z"
   },
   {
    "duration": 6,
    "start_time": "2023-09-04T00:59:15.423Z"
   },
   {
    "duration": 2,
    "start_time": "2023-09-04T00:59:15.432Z"
   },
   {
    "duration": 10,
    "start_time": "2023-09-04T00:59:15.436Z"
   },
   {
    "duration": 115,
    "start_time": "2023-09-04T00:59:15.448Z"
   },
   {
    "duration": 4,
    "start_time": "2023-09-04T00:59:15.565Z"
   },
   {
    "duration": 296,
    "start_time": "2023-09-04T00:59:15.570Z"
   },
   {
    "duration": 0,
    "start_time": "2023-09-04T00:59:15.868Z"
   },
   {
    "duration": 0,
    "start_time": "2023-09-04T00:59:15.869Z"
   },
   {
    "duration": 0,
    "start_time": "2023-09-04T00:59:15.871Z"
   },
   {
    "duration": 0,
    "start_time": "2023-09-04T00:59:15.872Z"
   },
   {
    "duration": 0,
    "start_time": "2023-09-04T00:59:15.873Z"
   },
   {
    "duration": 0,
    "start_time": "2023-09-04T00:59:15.874Z"
   },
   {
    "duration": 0,
    "start_time": "2023-09-04T00:59:15.875Z"
   },
   {
    "duration": 0,
    "start_time": "2023-09-04T00:59:15.876Z"
   },
   {
    "duration": 10194,
    "start_time": "2023-09-04T01:18:29.644Z"
   },
   {
    "duration": 106,
    "start_time": "2023-09-04T01:18:39.840Z"
   },
   {
    "duration": 5,
    "start_time": "2023-09-04T01:18:39.948Z"
   },
   {
    "duration": 62,
    "start_time": "2023-09-04T01:18:39.955Z"
   },
   {
    "duration": 244,
    "start_time": "2023-09-04T01:18:40.019Z"
   },
   {
    "duration": 26,
    "start_time": "2023-09-04T01:18:40.266Z"
   },
   {
    "duration": 135,
    "start_time": "2023-09-04T01:18:40.295Z"
   },
   {
    "duration": 135,
    "start_time": "2023-09-04T01:18:40.432Z"
   },
   {
    "duration": 44,
    "start_time": "2023-09-04T01:18:40.569Z"
   },
   {
    "duration": 147,
    "start_time": "2023-09-04T01:18:40.616Z"
   },
   {
    "duration": 26,
    "start_time": "2023-09-04T01:18:40.765Z"
   },
   {
    "duration": 88,
    "start_time": "2023-09-04T01:18:40.793Z"
   },
   {
    "duration": 6,
    "start_time": "2023-09-04T01:18:40.883Z"
   },
   {
    "duration": 13,
    "start_time": "2023-09-04T01:18:40.891Z"
   },
   {
    "duration": 111,
    "start_time": "2023-09-04T01:18:40.906Z"
   },
   {
    "duration": 7,
    "start_time": "2023-09-04T01:18:41.018Z"
   },
   {
    "duration": 24,
    "start_time": "2023-09-04T01:18:41.026Z"
   },
   {
    "duration": 6,
    "start_time": "2023-09-04T01:18:41.052Z"
   },
   {
    "duration": 6,
    "start_time": "2023-09-04T01:18:41.059Z"
   },
   {
    "duration": 7,
    "start_time": "2023-09-04T01:18:41.067Z"
   },
   {
    "duration": 6,
    "start_time": "2023-09-04T01:18:41.075Z"
   },
   {
    "duration": 12,
    "start_time": "2023-09-04T01:18:41.083Z"
   },
   {
    "duration": 3,
    "start_time": "2023-09-04T01:18:41.097Z"
   },
   {
    "duration": 45,
    "start_time": "2023-09-04T01:18:41.102Z"
   },
   {
    "duration": 10,
    "start_time": "2023-09-04T01:18:41.148Z"
   },
   {
    "duration": 2830,
    "start_time": "2023-09-04T01:18:41.160Z"
   },
   {
    "duration": 5,
    "start_time": "2023-09-04T01:18:43.991Z"
   },
   {
    "duration": 3,
    "start_time": "2023-09-04T01:18:43.999Z"
   },
   {
    "duration": 10,
    "start_time": "2023-09-04T01:18:44.004Z"
   },
   {
    "duration": 121,
    "start_time": "2023-09-04T01:18:44.015Z"
   },
   {
    "duration": 5,
    "start_time": "2023-09-04T01:18:44.147Z"
   },
   {
    "duration": 5,
    "start_time": "2023-09-04T01:18:44.154Z"
   },
   {
    "duration": 209,
    "start_time": "2023-09-04T01:18:44.160Z"
   },
   {
    "duration": 0,
    "start_time": "2023-09-04T01:18:44.371Z"
   },
   {
    "duration": 0,
    "start_time": "2023-09-04T01:18:44.373Z"
   },
   {
    "duration": 0,
    "start_time": "2023-09-04T01:18:44.375Z"
   },
   {
    "duration": 0,
    "start_time": "2023-09-04T01:18:44.377Z"
   },
   {
    "duration": 0,
    "start_time": "2023-09-04T01:18:44.378Z"
   },
   {
    "duration": 0,
    "start_time": "2023-09-04T01:18:44.380Z"
   },
   {
    "duration": 9928,
    "start_time": "2023-09-04T01:25:12.252Z"
   },
   {
    "duration": 102,
    "start_time": "2023-09-04T01:25:22.182Z"
   },
   {
    "duration": 5,
    "start_time": "2023-09-04T01:25:22.286Z"
   },
   {
    "duration": 68,
    "start_time": "2023-09-04T01:25:22.293Z"
   },
   {
    "duration": 243,
    "start_time": "2023-09-04T01:25:22.364Z"
   },
   {
    "duration": 38,
    "start_time": "2023-09-04T01:25:22.609Z"
   },
   {
    "duration": 120,
    "start_time": "2023-09-04T01:25:22.649Z"
   },
   {
    "duration": 133,
    "start_time": "2023-09-04T01:25:22.771Z"
   },
   {
    "duration": 53,
    "start_time": "2023-09-04T01:25:22.906Z"
   },
   {
    "duration": 130,
    "start_time": "2023-09-04T01:25:22.961Z"
   },
   {
    "duration": 25,
    "start_time": "2023-09-04T01:25:23.093Z"
   },
   {
    "duration": 89,
    "start_time": "2023-09-04T01:25:23.119Z"
   },
   {
    "duration": 6,
    "start_time": "2023-09-04T01:25:23.210Z"
   },
   {
    "duration": 28,
    "start_time": "2023-09-04T01:25:23.219Z"
   },
   {
    "duration": 99,
    "start_time": "2023-09-04T01:25:23.248Z"
   },
   {
    "duration": 7,
    "start_time": "2023-09-04T01:25:23.349Z"
   },
   {
    "duration": 9,
    "start_time": "2023-09-04T01:25:23.357Z"
   },
   {
    "duration": 5,
    "start_time": "2023-09-04T01:25:23.368Z"
   },
   {
    "duration": 6,
    "start_time": "2023-09-04T01:25:23.374Z"
   },
   {
    "duration": 6,
    "start_time": "2023-09-04T01:25:23.381Z"
   },
   {
    "duration": 6,
    "start_time": "2023-09-04T01:25:23.389Z"
   },
   {
    "duration": 25,
    "start_time": "2023-09-04T01:25:23.396Z"
   },
   {
    "duration": 3,
    "start_time": "2023-09-04T01:25:23.447Z"
   },
   {
    "duration": 23,
    "start_time": "2023-09-04T01:25:23.452Z"
   },
   {
    "duration": 20,
    "start_time": "2023-09-04T01:25:23.477Z"
   },
   {
    "duration": 2839,
    "start_time": "2023-09-04T01:25:23.498Z"
   },
   {
    "duration": 5,
    "start_time": "2023-09-04T01:25:26.339Z"
   },
   {
    "duration": 4,
    "start_time": "2023-09-04T01:25:26.346Z"
   },
   {
    "duration": 18,
    "start_time": "2023-09-04T01:25:26.351Z"
   },
   {
    "duration": 125,
    "start_time": "2023-09-04T01:25:26.371Z"
   },
   {
    "duration": 4,
    "start_time": "2023-09-04T01:25:26.497Z"
   },
   {
    "duration": 10,
    "start_time": "2023-09-04T01:25:26.503Z"
   },
   {
    "duration": 26,
    "start_time": "2023-09-04T01:25:26.515Z"
   },
   {
    "duration": 6720,
    "start_time": "2023-09-04T01:25:26.543Z"
   },
   {
    "duration": 192,
    "start_time": "2023-09-04T01:25:33.265Z"
   },
   {
    "duration": 0,
    "start_time": "2023-09-04T01:25:33.458Z"
   },
   {
    "duration": 0,
    "start_time": "2023-09-04T01:25:33.459Z"
   },
   {
    "duration": 0,
    "start_time": "2023-09-04T01:25:33.460Z"
   },
   {
    "duration": 0,
    "start_time": "2023-09-04T01:25:33.461Z"
   },
   {
    "duration": 10146,
    "start_time": "2023-09-04T01:27:32.677Z"
   },
   {
    "duration": 100,
    "start_time": "2023-09-04T01:27:42.824Z"
   },
   {
    "duration": 5,
    "start_time": "2023-09-04T01:27:42.926Z"
   },
   {
    "duration": 52,
    "start_time": "2023-09-04T01:27:42.933Z"
   },
   {
    "duration": 241,
    "start_time": "2023-09-04T01:27:42.988Z"
   },
   {
    "duration": 34,
    "start_time": "2023-09-04T01:27:43.230Z"
   },
   {
    "duration": 123,
    "start_time": "2023-09-04T01:27:43.266Z"
   },
   {
    "duration": 138,
    "start_time": "2023-09-04T01:27:43.390Z"
   },
   {
    "duration": 52,
    "start_time": "2023-09-04T01:27:43.530Z"
   },
   {
    "duration": 135,
    "start_time": "2023-09-04T01:27:43.584Z"
   },
   {
    "duration": 38,
    "start_time": "2023-09-04T01:27:43.721Z"
   },
   {
    "duration": 86,
    "start_time": "2023-09-04T01:27:43.761Z"
   },
   {
    "duration": 7,
    "start_time": "2023-09-04T01:27:43.849Z"
   },
   {
    "duration": 12,
    "start_time": "2023-09-04T01:27:43.859Z"
   },
   {
    "duration": 107,
    "start_time": "2023-09-04T01:27:43.873Z"
   },
   {
    "duration": 6,
    "start_time": "2023-09-04T01:27:43.982Z"
   },
   {
    "duration": 10,
    "start_time": "2023-09-04T01:27:43.990Z"
   },
   {
    "duration": 7,
    "start_time": "2023-09-04T01:27:44.001Z"
   },
   {
    "duration": 8,
    "start_time": "2023-09-04T01:27:44.010Z"
   },
   {
    "duration": 35,
    "start_time": "2023-09-04T01:27:44.020Z"
   },
   {
    "duration": 10,
    "start_time": "2023-09-04T01:27:44.056Z"
   },
   {
    "duration": 20,
    "start_time": "2023-09-04T01:27:44.067Z"
   },
   {
    "duration": 4,
    "start_time": "2023-09-04T01:27:44.089Z"
   },
   {
    "duration": 8,
    "start_time": "2023-09-04T01:27:44.095Z"
   },
   {
    "duration": 9,
    "start_time": "2023-09-04T01:27:44.105Z"
   },
   {
    "duration": 2933,
    "start_time": "2023-09-04T01:27:44.116Z"
   },
   {
    "duration": 5,
    "start_time": "2023-09-04T01:27:47.051Z"
   },
   {
    "duration": 16,
    "start_time": "2023-09-04T01:27:47.058Z"
   },
   {
    "duration": 20,
    "start_time": "2023-09-04T01:27:47.076Z"
   },
   {
    "duration": 132,
    "start_time": "2023-09-04T01:27:47.098Z"
   },
   {
    "duration": 4,
    "start_time": "2023-09-04T01:27:47.232Z"
   },
   {
    "duration": 6,
    "start_time": "2023-09-04T01:27:47.247Z"
   },
   {
    "duration": 5,
    "start_time": "2023-09-04T01:27:47.254Z"
   },
   {
    "duration": 6923,
    "start_time": "2023-09-04T01:27:47.260Z"
   },
   {
    "duration": 204,
    "start_time": "2023-09-04T01:27:54.185Z"
   },
   {
    "duration": 0,
    "start_time": "2023-09-04T01:27:54.391Z"
   },
   {
    "duration": 0,
    "start_time": "2023-09-04T01:27:54.392Z"
   },
   {
    "duration": 0,
    "start_time": "2023-09-04T01:27:54.394Z"
   },
   {
    "duration": 0,
    "start_time": "2023-09-04T01:27:54.396Z"
   },
   {
    "duration": 10188,
    "start_time": "2023-09-04T01:28:50.360Z"
   },
   {
    "duration": 102,
    "start_time": "2023-09-04T01:29:00.551Z"
   },
   {
    "duration": 5,
    "start_time": "2023-09-04T01:29:00.655Z"
   },
   {
    "duration": 71,
    "start_time": "2023-09-04T01:29:00.661Z"
   },
   {
    "duration": 247,
    "start_time": "2023-09-04T01:29:00.734Z"
   },
   {
    "duration": 28,
    "start_time": "2023-09-04T01:29:00.983Z"
   },
   {
    "duration": 147,
    "start_time": "2023-09-04T01:29:01.012Z"
   },
   {
    "duration": 146,
    "start_time": "2023-09-04T01:29:01.161Z"
   },
   {
    "duration": 59,
    "start_time": "2023-09-04T01:29:01.308Z"
   },
   {
    "duration": 144,
    "start_time": "2023-09-04T01:29:01.369Z"
   },
   {
    "duration": 41,
    "start_time": "2023-09-04T01:29:01.514Z"
   },
   {
    "duration": 95,
    "start_time": "2023-09-04T01:29:01.557Z"
   },
   {
    "duration": 8,
    "start_time": "2023-09-04T01:29:01.654Z"
   },
   {
    "duration": 100,
    "start_time": "2023-09-04T01:29:01.666Z"
   },
   {
    "duration": 189,
    "start_time": "2023-09-04T01:29:01.768Z"
   },
   {
    "duration": 7,
    "start_time": "2023-09-04T01:29:01.960Z"
   },
   {
    "duration": 40,
    "start_time": "2023-09-04T01:29:01.970Z"
   },
   {
    "duration": 63,
    "start_time": "2023-09-04T01:29:02.012Z"
   },
   {
    "duration": 63,
    "start_time": "2023-09-04T01:29:02.076Z"
   },
   {
    "duration": 34,
    "start_time": "2023-09-04T01:29:02.141Z"
   },
   {
    "duration": 26,
    "start_time": "2023-09-04T01:29:02.177Z"
   },
   {
    "duration": 36,
    "start_time": "2023-09-04T01:29:02.205Z"
   },
   {
    "duration": 40,
    "start_time": "2023-09-04T01:29:02.242Z"
   },
   {
    "duration": 43,
    "start_time": "2023-09-04T01:29:02.284Z"
   },
   {
    "duration": 58,
    "start_time": "2023-09-04T01:29:02.329Z"
   },
   {
    "duration": 2936,
    "start_time": "2023-09-04T01:29:02.389Z"
   },
   {
    "duration": 6,
    "start_time": "2023-09-04T01:29:05.327Z"
   },
   {
    "duration": 87,
    "start_time": "2023-09-04T01:29:05.334Z"
   },
   {
    "duration": 98,
    "start_time": "2023-09-04T01:29:05.423Z"
   },
   {
    "duration": 113,
    "start_time": "2023-09-04T01:29:05.523Z"
   },
   {
    "duration": 4,
    "start_time": "2023-09-04T01:29:05.638Z"
   },
   {
    "duration": 13,
    "start_time": "2023-09-04T01:29:05.646Z"
   },
   {
    "duration": 21,
    "start_time": "2023-09-04T01:29:05.661Z"
   },
   {
    "duration": 7092,
    "start_time": "2023-09-04T01:29:05.683Z"
   },
   {
    "duration": 6,
    "start_time": "2023-09-04T01:29:12.777Z"
   },
   {
    "duration": 209,
    "start_time": "2023-09-04T01:29:12.784Z"
   },
   {
    "duration": 0,
    "start_time": "2023-09-04T01:29:12.995Z"
   },
   {
    "duration": 0,
    "start_time": "2023-09-04T01:29:12.996Z"
   },
   {
    "duration": 0,
    "start_time": "2023-09-04T01:29:12.997Z"
   },
   {
    "duration": 10047,
    "start_time": "2023-09-04T01:30:51.066Z"
   },
   {
    "duration": 100,
    "start_time": "2023-09-04T01:31:01.115Z"
   },
   {
    "duration": 4,
    "start_time": "2023-09-04T01:31:01.217Z"
   },
   {
    "duration": 60,
    "start_time": "2023-09-04T01:31:01.222Z"
   },
   {
    "duration": 234,
    "start_time": "2023-09-04T01:31:01.285Z"
   },
   {
    "duration": 32,
    "start_time": "2023-09-04T01:31:01.521Z"
   },
   {
    "duration": 118,
    "start_time": "2023-09-04T01:31:01.555Z"
   },
   {
    "duration": 134,
    "start_time": "2023-09-04T01:31:01.676Z"
   },
   {
    "duration": 60,
    "start_time": "2023-09-04T01:31:01.812Z"
   },
   {
    "duration": 153,
    "start_time": "2023-09-04T01:31:01.874Z"
   },
   {
    "duration": 37,
    "start_time": "2023-09-04T01:31:02.029Z"
   },
   {
    "duration": 98,
    "start_time": "2023-09-04T01:31:02.068Z"
   },
   {
    "duration": 7,
    "start_time": "2023-09-04T01:31:02.168Z"
   },
   {
    "duration": 38,
    "start_time": "2023-09-04T01:31:02.178Z"
   },
   {
    "duration": 147,
    "start_time": "2023-09-04T01:31:02.217Z"
   },
   {
    "duration": 7,
    "start_time": "2023-09-04T01:31:02.366Z"
   },
   {
    "duration": 352,
    "start_time": "2023-09-04T01:31:02.375Z"
   },
   {
    "duration": 24,
    "start_time": "2023-09-04T01:31:02.729Z"
   },
   {
    "duration": 33,
    "start_time": "2023-09-04T01:31:02.754Z"
   },
   {
    "duration": 18,
    "start_time": "2023-09-04T01:31:02.789Z"
   },
   {
    "duration": 16,
    "start_time": "2023-09-04T01:31:02.809Z"
   },
   {
    "duration": 20,
    "start_time": "2023-09-04T01:31:02.827Z"
   },
   {
    "duration": 18,
    "start_time": "2023-09-04T01:31:02.848Z"
   },
   {
    "duration": 12,
    "start_time": "2023-09-04T01:31:02.867Z"
   },
   {
    "duration": 9,
    "start_time": "2023-09-04T01:31:02.880Z"
   },
   {
    "duration": 2832,
    "start_time": "2023-09-04T01:31:02.890Z"
   },
   {
    "duration": 6,
    "start_time": "2023-09-04T01:31:05.723Z"
   },
   {
    "duration": 7,
    "start_time": "2023-09-04T01:31:05.730Z"
   },
   {
    "duration": 20,
    "start_time": "2023-09-04T01:31:05.739Z"
   },
   {
    "duration": 140,
    "start_time": "2023-09-04T01:31:05.761Z"
   },
   {
    "duration": 4,
    "start_time": "2023-09-04T01:31:05.903Z"
   },
   {
    "duration": 11,
    "start_time": "2023-09-04T01:31:05.908Z"
   },
   {
    "duration": 6,
    "start_time": "2023-09-04T01:31:05.921Z"
   },
   {
    "duration": 6834,
    "start_time": "2023-09-04T01:31:05.928Z"
   },
   {
    "duration": 196,
    "start_time": "2023-09-04T01:31:12.764Z"
   },
   {
    "duration": 0,
    "start_time": "2023-09-04T01:31:12.962Z"
   },
   {
    "duration": 0,
    "start_time": "2023-09-04T01:31:12.964Z"
   },
   {
    "duration": 0,
    "start_time": "2023-09-04T01:31:12.965Z"
   },
   {
    "duration": 0,
    "start_time": "2023-09-04T01:31:12.966Z"
   },
   {
    "duration": 9916,
    "start_time": "2023-09-04T01:32:18.785Z"
   },
   {
    "duration": 102,
    "start_time": "2023-09-04T01:32:28.703Z"
   },
   {
    "duration": 5,
    "start_time": "2023-09-04T01:32:28.807Z"
   },
   {
    "duration": 38,
    "start_time": "2023-09-04T01:32:28.815Z"
   },
   {
    "duration": 253,
    "start_time": "2023-09-04T01:32:28.855Z"
   },
   {
    "duration": 37,
    "start_time": "2023-09-04T01:32:29.110Z"
   },
   {
    "duration": 118,
    "start_time": "2023-09-04T01:32:29.149Z"
   },
   {
    "duration": 140,
    "start_time": "2023-09-04T01:32:29.269Z"
   },
   {
    "duration": 55,
    "start_time": "2023-09-04T01:32:29.411Z"
   },
   {
    "duration": 134,
    "start_time": "2023-09-04T01:32:29.469Z"
   },
   {
    "duration": 42,
    "start_time": "2023-09-04T01:32:29.605Z"
   },
   {
    "duration": 72,
    "start_time": "2023-09-04T01:32:29.649Z"
   },
   {
    "duration": 6,
    "start_time": "2023-09-04T01:32:29.722Z"
   },
   {
    "duration": 14,
    "start_time": "2023-09-04T01:32:29.747Z"
   },
   {
    "duration": 114,
    "start_time": "2023-09-04T01:32:29.763Z"
   },
   {
    "duration": 7,
    "start_time": "2023-09-04T01:32:29.879Z"
   },
   {
    "duration": 31,
    "start_time": "2023-09-04T01:32:29.888Z"
   },
   {
    "duration": 35,
    "start_time": "2023-09-04T01:32:29.921Z"
   },
   {
    "duration": 6,
    "start_time": "2023-09-04T01:32:29.958Z"
   },
   {
    "duration": 13,
    "start_time": "2023-09-04T01:32:29.965Z"
   },
   {
    "duration": 4,
    "start_time": "2023-09-04T01:32:29.980Z"
   },
   {
    "duration": 18,
    "start_time": "2023-09-04T01:32:29.986Z"
   },
   {
    "duration": 25,
    "start_time": "2023-09-04T01:32:30.006Z"
   },
   {
    "duration": 60,
    "start_time": "2023-09-04T01:32:30.033Z"
   },
   {
    "duration": 76,
    "start_time": "2023-09-04T01:32:30.095Z"
   },
   {
    "duration": 2832,
    "start_time": "2023-09-04T01:32:30.174Z"
   },
   {
    "duration": 5,
    "start_time": "2023-09-04T01:32:33.007Z"
   },
   {
    "duration": 2,
    "start_time": "2023-09-04T01:32:33.016Z"
   },
   {
    "duration": 11,
    "start_time": "2023-09-04T01:32:33.019Z"
   },
   {
    "duration": 131,
    "start_time": "2023-09-04T01:32:33.032Z"
   },
   {
    "duration": 4,
    "start_time": "2023-09-04T01:32:33.165Z"
   },
   {
    "duration": 7,
    "start_time": "2023-09-04T01:32:33.171Z"
   },
   {
    "duration": 10,
    "start_time": "2023-09-04T01:32:33.179Z"
   },
   {
    "duration": 6771,
    "start_time": "2023-09-04T01:32:33.191Z"
   },
   {
    "duration": 4,
    "start_time": "2023-09-04T01:32:39.964Z"
   },
   {
    "duration": 119714,
    "start_time": "2023-09-04T01:32:39.969Z"
   },
   {
    "duration": 4,
    "start_time": "2023-09-04T01:34:39.685Z"
   },
   {
    "duration": 234240,
    "start_time": "2023-09-04T01:34:39.690Z"
   },
   {
    "duration": 27,
    "start_time": "2023-09-04T01:38:33.932Z"
   },
   {
    "duration": 8,
    "start_time": "2023-09-04T01:44:57.338Z"
   },
   {
    "duration": 263,
    "start_time": "2023-09-04T01:46:32.415Z"
   },
   {
    "duration": 13,
    "start_time": "2023-09-04T01:46:43.279Z"
   },
   {
    "duration": 13,
    "start_time": "2023-09-04T01:48:40.324Z"
   },
   {
    "duration": 25374,
    "start_time": "2023-09-05T02:17:11.116Z"
   },
   {
    "duration": 339,
    "start_time": "2023-09-05T02:17:36.492Z"
   },
   {
    "duration": 6,
    "start_time": "2023-09-05T02:17:36.833Z"
   },
   {
    "duration": 49,
    "start_time": "2023-09-05T02:17:36.842Z"
   },
   {
    "duration": 262,
    "start_time": "2023-09-05T02:17:36.893Z"
   },
   {
    "duration": 25,
    "start_time": "2023-09-05T02:17:37.157Z"
   },
   {
    "duration": 135,
    "start_time": "2023-09-05T02:17:37.200Z"
   },
   {
    "duration": 142,
    "start_time": "2023-09-05T02:17:37.337Z"
   },
   {
    "duration": 73,
    "start_time": "2023-09-05T02:17:37.481Z"
   },
   {
    "duration": 141,
    "start_time": "2023-09-05T02:17:37.556Z"
   },
   {
    "duration": 39,
    "start_time": "2023-09-05T02:17:37.699Z"
   },
   {
    "duration": 94,
    "start_time": "2023-09-05T02:17:37.739Z"
   },
   {
    "duration": 7,
    "start_time": "2023-09-05T02:17:37.834Z"
   },
   {
    "duration": 28,
    "start_time": "2023-09-05T02:17:37.843Z"
   },
   {
    "duration": 138,
    "start_time": "2023-09-05T02:17:37.874Z"
   },
   {
    "duration": 8,
    "start_time": "2023-09-05T02:17:38.018Z"
   },
   {
    "duration": 11,
    "start_time": "2023-09-05T02:17:38.027Z"
   },
   {
    "duration": 13,
    "start_time": "2023-09-05T02:17:38.040Z"
   },
   {
    "duration": 13,
    "start_time": "2023-09-05T02:17:38.055Z"
   },
   {
    "duration": 17,
    "start_time": "2023-09-05T02:17:38.070Z"
   },
   {
    "duration": 92,
    "start_time": "2023-09-05T02:17:38.088Z"
   },
   {
    "duration": 78,
    "start_time": "2023-09-05T02:17:38.181Z"
   },
   {
    "duration": 20,
    "start_time": "2023-09-05T02:17:38.261Z"
   },
   {
    "duration": 9,
    "start_time": "2023-09-05T02:17:38.283Z"
   },
   {
    "duration": 32,
    "start_time": "2023-09-05T02:17:38.294Z"
   },
   {
    "duration": 1013,
    "start_time": "2023-09-05T02:17:38.327Z"
   },
   {
    "duration": 2172,
    "start_time": "2023-09-05T02:17:39.342Z"
   },
   {
    "duration": 4,
    "start_time": "2023-09-05T02:17:41.518Z"
   },
   {
    "duration": 13,
    "start_time": "2023-09-05T02:17:41.524Z"
   },
   {
    "duration": 17205,
    "start_time": "2023-09-05T09:47:00.968Z"
   },
   {
    "duration": 308,
    "start_time": "2023-09-05T09:47:18.175Z"
   },
   {
    "duration": 5,
    "start_time": "2023-09-05T09:47:18.484Z"
   },
   {
    "duration": 43,
    "start_time": "2023-09-05T09:47:18.492Z"
   },
   {
    "duration": 207,
    "start_time": "2023-09-05T09:47:18.537Z"
   },
   {
    "duration": 23,
    "start_time": "2023-09-05T09:47:18.745Z"
   },
   {
    "duration": 106,
    "start_time": "2023-09-05T09:47:18.770Z"
   },
   {
    "duration": 112,
    "start_time": "2023-09-05T09:47:18.877Z"
   },
   {
    "duration": 49,
    "start_time": "2023-09-05T09:47:18.990Z"
   },
   {
    "duration": 114,
    "start_time": "2023-09-05T09:47:19.041Z"
   },
   {
    "duration": 24,
    "start_time": "2023-09-05T09:47:19.157Z"
   },
   {
    "duration": 84,
    "start_time": "2023-09-05T09:47:19.182Z"
   },
   {
    "duration": 6,
    "start_time": "2023-09-05T09:47:19.268Z"
   },
   {
    "duration": 16,
    "start_time": "2023-09-05T09:47:19.275Z"
   },
   {
    "duration": 52,
    "start_time": "2023-09-05T09:47:20.460Z"
   },
   {
    "duration": 9,
    "start_time": "2023-09-05T09:47:30.167Z"
   },
   {
    "duration": 70,
    "start_time": "2023-09-05T09:48:21.564Z"
   },
   {
    "duration": 4,
    "start_time": "2023-09-05T09:48:33.596Z"
   },
   {
    "duration": 171,
    "start_time": "2023-09-05T09:54:04.834Z"
   },
   {
    "duration": 18,
    "start_time": "2023-09-05T10:07:48.541Z"
   },
   {
    "duration": 3,
    "start_time": "2023-09-05T10:22:21.281Z"
   },
   {
    "duration": 25,
    "start_time": "2023-09-05T10:22:32.355Z"
   },
   {
    "duration": 26,
    "start_time": "2023-09-05T10:25:13.557Z"
   },
   {
    "duration": 4,
    "start_time": "2023-09-05T10:25:59.857Z"
   },
   {
    "duration": 57,
    "start_time": "2023-09-05T10:26:05.664Z"
   },
   {
    "duration": 10331,
    "start_time": "2023-09-05T10:38:07.014Z"
   },
   {
    "duration": 105,
    "start_time": "2023-09-05T10:38:17.348Z"
   },
   {
    "duration": 6,
    "start_time": "2023-09-05T10:38:17.455Z"
   },
   {
    "duration": 46,
    "start_time": "2023-09-05T10:38:17.464Z"
   },
   {
    "duration": 231,
    "start_time": "2023-09-05T10:38:17.512Z"
   },
   {
    "duration": 25,
    "start_time": "2023-09-05T10:38:17.745Z"
   },
   {
    "duration": 131,
    "start_time": "2023-09-05T10:38:17.771Z"
   },
   {
    "duration": 122,
    "start_time": "2023-09-05T10:38:17.904Z"
   },
   {
    "duration": 52,
    "start_time": "2023-09-05T10:38:18.028Z"
   },
   {
    "duration": 129,
    "start_time": "2023-09-05T10:38:18.082Z"
   },
   {
    "duration": 38,
    "start_time": "2023-09-05T10:38:18.212Z"
   },
   {
    "duration": 67,
    "start_time": "2023-09-05T10:38:19.446Z"
   },
   {
    "duration": 6,
    "start_time": "2023-09-05T10:38:20.247Z"
   },
   {
    "duration": 12,
    "start_time": "2023-09-05T10:38:23.679Z"
   },
   {
    "duration": 10,
    "start_time": "2023-09-05T10:38:24.686Z"
   },
   {
    "duration": 19,
    "start_time": "2023-09-05T10:40:45.845Z"
   },
   {
    "duration": 10,
    "start_time": "2023-09-05T10:40:49.842Z"
   },
   {
    "duration": 53,
    "start_time": "2023-09-05T10:40:51.096Z"
   },
   {
    "duration": 7,
    "start_time": "2023-09-05T10:40:59.919Z"
   },
   {
    "duration": 8,
    "start_time": "2023-09-05T10:41:02.439Z"
   },
   {
    "duration": 6,
    "start_time": "2023-09-05T10:41:03.633Z"
   },
   {
    "duration": 6,
    "start_time": "2023-09-05T10:41:05.720Z"
   },
   {
    "duration": 6,
    "start_time": "2023-09-05T10:41:06.326Z"
   },
   {
    "duration": 4,
    "start_time": "2023-09-05T10:41:07.472Z"
   },
   {
    "duration": 11,
    "start_time": "2023-09-05T10:41:08.628Z"
   },
   {
    "duration": 3,
    "start_time": "2023-09-05T10:41:09.267Z"
   },
   {
    "duration": 2,
    "start_time": "2023-09-05T10:41:18.922Z"
   },
   {
    "duration": 4,
    "start_time": "2023-09-05T10:41:30.770Z"
   },
   {
    "duration": 736,
    "start_time": "2023-09-05T10:41:33.468Z"
   },
   {
    "duration": 793,
    "start_time": "2023-09-05T10:47:59.794Z"
   },
   {
    "duration": 2078,
    "start_time": "2023-09-05T10:48:01.176Z"
   },
   {
    "duration": 1603,
    "start_time": "2023-09-05T11:02:11.075Z"
   },
   {
    "duration": 1044,
    "start_time": "2023-09-05T11:02:21.888Z"
   },
   {
    "duration": 8779,
    "start_time": "2023-09-05T11:02:41.612Z"
   },
   {
    "duration": 95,
    "start_time": "2023-09-05T11:02:50.393Z"
   },
   {
    "duration": 5,
    "start_time": "2023-09-05T11:02:50.489Z"
   },
   {
    "duration": 46,
    "start_time": "2023-09-05T11:02:50.496Z"
   },
   {
    "duration": 205,
    "start_time": "2023-09-05T11:02:50.544Z"
   },
   {
    "duration": 23,
    "start_time": "2023-09-05T11:02:50.751Z"
   },
   {
    "duration": 109,
    "start_time": "2023-09-05T11:02:50.776Z"
   },
   {
    "duration": 115,
    "start_time": "2023-09-05T11:02:50.886Z"
   },
   {
    "duration": 48,
    "start_time": "2023-09-05T11:02:51.002Z"
   },
   {
    "duration": 118,
    "start_time": "2023-09-05T11:02:51.052Z"
   },
   {
    "duration": 23,
    "start_time": "2023-09-05T11:02:51.171Z"
   },
   {
    "duration": 75,
    "start_time": "2023-09-05T11:02:51.196Z"
   },
   {
    "duration": 6,
    "start_time": "2023-09-05T11:02:51.272Z"
   },
   {
    "duration": 94,
    "start_time": "2023-09-05T11:02:51.279Z"
   },
   {
    "duration": 130,
    "start_time": "2023-09-05T11:02:51.374Z"
   },
   {
    "duration": 138,
    "start_time": "2023-09-05T11:02:51.505Z"
   },
   {
    "duration": 10,
    "start_time": "2023-09-05T11:02:52.456Z"
   },
   {
    "duration": 51,
    "start_time": "2023-09-05T11:02:53.478Z"
   },
   {
    "duration": 7,
    "start_time": "2023-09-05T11:02:56.350Z"
   },
   {
    "duration": 7,
    "start_time": "2023-09-05T11:02:57.949Z"
   },
   {
    "duration": 4,
    "start_time": "2023-09-05T11:02:58.169Z"
   },
   {
    "duration": 5,
    "start_time": "2023-09-05T11:02:59.292Z"
   },
   {
    "duration": 6,
    "start_time": "2023-09-05T11:02:59.971Z"
   },
   {
    "duration": 8993,
    "start_time": "2023-09-05T11:03:26.222Z"
   },
   {
    "duration": 95,
    "start_time": "2023-09-05T11:03:35.217Z"
   },
   {
    "duration": 5,
    "start_time": "2023-09-05T11:03:35.313Z"
   },
   {
    "duration": 38,
    "start_time": "2023-09-05T11:03:35.319Z"
   },
   {
    "duration": 227,
    "start_time": "2023-09-05T11:03:35.358Z"
   },
   {
    "duration": 23,
    "start_time": "2023-09-05T11:03:35.587Z"
   },
   {
    "duration": 107,
    "start_time": "2023-09-05T11:03:35.612Z"
   },
   {
    "duration": 121,
    "start_time": "2023-09-05T11:03:35.720Z"
   },
   {
    "duration": 40,
    "start_time": "2023-09-05T11:03:35.842Z"
   },
   {
    "duration": 124,
    "start_time": "2023-09-05T11:03:35.885Z"
   },
   {
    "duration": 32,
    "start_time": "2023-09-05T11:03:36.011Z"
   },
   {
    "duration": 65,
    "start_time": "2023-09-05T11:03:36.045Z"
   },
   {
    "duration": 6,
    "start_time": "2023-09-05T11:03:36.111Z"
   },
   {
    "duration": 12,
    "start_time": "2023-09-05T11:03:36.134Z"
   },
   {
    "duration": 42,
    "start_time": "2023-09-05T11:03:36.147Z"
   },
   {
    "duration": 38,
    "start_time": "2023-09-05T11:03:36.191Z"
   },
   {
    "duration": 9,
    "start_time": "2023-09-05T11:03:36.230Z"
   },
   {
    "duration": 54,
    "start_time": "2023-09-05T11:03:36.241Z"
   },
   {
    "duration": 6,
    "start_time": "2023-09-05T11:03:36.297Z"
   },
   {
    "duration": 6,
    "start_time": "2023-09-05T11:03:36.983Z"
   },
   {
    "duration": 5,
    "start_time": "2023-09-05T11:03:39.925Z"
   },
   {
    "duration": 5,
    "start_time": "2023-09-05T11:03:49.927Z"
   },
   {
    "duration": 7,
    "start_time": "2023-09-05T11:05:44.430Z"
   },
   {
    "duration": 6,
    "start_time": "2023-09-05T11:05:45.287Z"
   },
   {
    "duration": 6,
    "start_time": "2023-09-05T11:05:54.568Z"
   },
   {
    "duration": 5,
    "start_time": "2023-09-05T11:06:45.777Z"
   },
   {
    "duration": 4,
    "start_time": "2023-09-05T11:06:46.890Z"
   },
   {
    "duration": 14,
    "start_time": "2023-09-05T11:06:47.468Z"
   },
   {
    "duration": 3,
    "start_time": "2023-09-05T11:06:48.341Z"
   },
   {
    "duration": 2,
    "start_time": "2023-09-05T11:06:57.424Z"
   },
   {
    "duration": 4,
    "start_time": "2023-09-05T11:06:58.819Z"
   },
   {
    "duration": 45,
    "start_time": "2023-09-05T11:07:42.389Z"
   },
   {
    "duration": 3,
    "start_time": "2023-09-05T11:09:49.731Z"
   },
   {
    "duration": 167,
    "start_time": "2023-09-05T11:09:51.913Z"
   },
   {
    "duration": 9173,
    "start_time": "2023-09-05T11:10:11.276Z"
   },
   {
    "duration": 92,
    "start_time": "2023-09-05T11:10:20.451Z"
   },
   {
    "duration": 4,
    "start_time": "2023-09-05T11:10:20.545Z"
   },
   {
    "duration": 58,
    "start_time": "2023-09-05T11:10:20.551Z"
   },
   {
    "duration": 201,
    "start_time": "2023-09-05T11:10:20.611Z"
   },
   {
    "duration": 30,
    "start_time": "2023-09-05T11:10:20.813Z"
   },
   {
    "duration": 124,
    "start_time": "2023-09-05T11:10:20.845Z"
   },
   {
    "duration": 111,
    "start_time": "2023-09-05T11:10:20.971Z"
   },
   {
    "duration": 50,
    "start_time": "2023-09-05T11:10:21.084Z"
   },
   {
    "duration": 111,
    "start_time": "2023-09-05T11:10:21.136Z"
   },
   {
    "duration": 27,
    "start_time": "2023-09-05T11:10:21.249Z"
   },
   {
    "duration": 82,
    "start_time": "2023-09-05T11:10:21.277Z"
   },
   {
    "duration": 6,
    "start_time": "2023-09-05T11:10:21.361Z"
   },
   {
    "duration": 17,
    "start_time": "2023-09-05T11:10:21.369Z"
   },
   {
    "duration": 8,
    "start_time": "2023-09-05T11:10:21.388Z"
   },
   {
    "duration": 40,
    "start_time": "2023-09-05T11:10:21.398Z"
   },
   {
    "duration": 10,
    "start_time": "2023-09-05T11:10:24.185Z"
   },
   {
    "duration": 73,
    "start_time": "2023-09-05T11:10:24.667Z"
   },
   {
    "duration": 6,
    "start_time": "2023-09-05T11:10:27.643Z"
   },
   {
    "duration": 7,
    "start_time": "2023-09-05T11:10:29.676Z"
   },
   {
    "duration": 5,
    "start_time": "2023-09-05T11:10:30.585Z"
   },
   {
    "duration": 6,
    "start_time": "2023-09-05T11:10:30.790Z"
   },
   {
    "duration": 5,
    "start_time": "2023-09-05T11:10:31.769Z"
   },
   {
    "duration": 6,
    "start_time": "2023-09-05T11:10:31.999Z"
   },
   {
    "duration": 6,
    "start_time": "2023-09-05T11:10:32.848Z"
   },
   {
    "duration": 5,
    "start_time": "2023-09-05T11:10:35.041Z"
   },
   {
    "duration": 11,
    "start_time": "2023-09-05T11:10:35.189Z"
   },
   {
    "duration": 3,
    "start_time": "2023-09-05T11:10:35.340Z"
   },
   {
    "duration": 4,
    "start_time": "2023-09-05T11:10:38.349Z"
   },
   {
    "duration": 6,
    "start_time": "2023-09-05T11:10:40.440Z"
   },
   {
    "duration": 44,
    "start_time": "2023-09-05T11:10:40.983Z"
   },
   {
    "duration": 5,
    "start_time": "2023-09-05T11:12:57.418Z"
   },
   {
    "duration": 4,
    "start_time": "2023-09-05T11:13:04.310Z"
   },
   {
    "duration": 773,
    "start_time": "2023-09-05T11:24:11.450Z"
   },
   {
    "duration": 1744,
    "start_time": "2023-09-05T11:24:18.322Z"
   },
   {
    "duration": 6,
    "start_time": "2023-09-05T11:32:22.807Z"
   },
   {
    "duration": 3,
    "start_time": "2023-09-05T11:35:07.433Z"
   },
   {
    "duration": 4,
    "start_time": "2023-09-05T11:35:21.171Z"
   },
   {
    "duration": 3,
    "start_time": "2023-09-05T11:35:23.781Z"
   },
   {
    "duration": 9,
    "start_time": "2023-09-05T11:35:28.392Z"
   },
   {
    "duration": 100,
    "start_time": "2023-09-05T11:35:37.189Z"
   },
   {
    "duration": 3,
    "start_time": "2023-09-05T11:35:44.993Z"
   },
   {
    "duration": 9361,
    "start_time": "2023-09-05T12:08:59.267Z"
   },
   {
    "duration": 94,
    "start_time": "2023-09-05T12:09:08.629Z"
   },
   {
    "duration": 4,
    "start_time": "2023-09-05T12:09:08.725Z"
   },
   {
    "duration": 30,
    "start_time": "2023-09-05T12:09:13.313Z"
   },
   {
    "duration": 224,
    "start_time": "2023-09-05T12:09:13.917Z"
   },
   {
    "duration": 23,
    "start_time": "2023-09-05T12:09:15.240Z"
   },
   {
    "duration": 96,
    "start_time": "2023-09-05T12:09:15.614Z"
   },
   {
    "duration": 110,
    "start_time": "2023-09-05T12:09:16.506Z"
   },
   {
    "duration": 40,
    "start_time": "2023-09-05T12:09:17.314Z"
   },
   {
    "duration": 110,
    "start_time": "2023-09-05T12:09:17.527Z"
   },
   {
    "duration": 26,
    "start_time": "2023-09-05T12:09:18.808Z"
   },
   {
    "duration": 66,
    "start_time": "2023-09-05T12:09:20.737Z"
   },
   {
    "duration": 6,
    "start_time": "2023-09-05T12:09:21.466Z"
   },
   {
    "duration": 15,
    "start_time": "2023-09-05T12:09:23.755Z"
   },
   {
    "duration": 9,
    "start_time": "2023-09-05T12:09:23.967Z"
   },
   {
    "duration": 19,
    "start_time": "2023-09-05T12:09:24.209Z"
   },
   {
    "duration": 10,
    "start_time": "2023-09-05T12:09:25.334Z"
   },
   {
    "duration": 54,
    "start_time": "2023-09-05T12:09:25.702Z"
   },
   {
    "duration": 6,
    "start_time": "2023-09-05T12:09:28.632Z"
   },
   {
    "duration": 7,
    "start_time": "2023-09-05T12:09:30.518Z"
   },
   {
    "duration": 5,
    "start_time": "2023-09-05T12:09:31.413Z"
   },
   {
    "duration": 5,
    "start_time": "2023-09-05T12:09:31.617Z"
   },
   {
    "duration": 5,
    "start_time": "2023-09-05T12:09:32.572Z"
   },
   {
    "duration": 6,
    "start_time": "2023-09-05T12:09:33.333Z"
   },
   {
    "duration": 6,
    "start_time": "2023-09-05T12:09:33.657Z"
   },
   {
    "duration": 8,
    "start_time": "2023-09-05T12:09:34.669Z"
   },
   {
    "duration": 12,
    "start_time": "2023-09-05T12:09:35.304Z"
   },
   {
    "duration": 3,
    "start_time": "2023-09-05T12:09:35.510Z"
   },
   {
    "duration": 4,
    "start_time": "2023-09-05T12:09:39.401Z"
   },
   {
    "duration": 5,
    "start_time": "2023-09-05T12:09:41.313Z"
   },
   {
    "duration": 42,
    "start_time": "2023-09-05T12:09:41.946Z"
   },
   {
    "duration": 832,
    "start_time": "2023-09-05T12:09:44.304Z"
   },
   {
    "duration": 1725,
    "start_time": "2023-09-05T12:09:47.833Z"
   },
   {
    "duration": 5,
    "start_time": "2023-09-05T12:09:54.151Z"
   },
   {
    "duration": 3,
    "start_time": "2023-09-05T12:10:00.210Z"
   },
   {
    "duration": 5,
    "start_time": "2023-09-05T12:10:58.074Z"
   },
   {
    "duration": 5,
    "start_time": "2023-09-05T12:11:40.650Z"
   },
   {
    "duration": 3,
    "start_time": "2023-09-05T12:11:43.729Z"
   },
   {
    "duration": 9,
    "start_time": "2023-09-05T12:11:44.916Z"
   },
   {
    "duration": 103,
    "start_time": "2023-09-05T12:11:47.218Z"
   },
   {
    "duration": 168,
    "start_time": "2023-09-05T12:11:59.075Z"
   },
   {
    "duration": 9246,
    "start_time": "2023-09-05T12:14:48.160Z"
   },
   {
    "duration": 95,
    "start_time": "2023-09-05T12:17:48.736Z"
   },
   {
    "duration": 5,
    "start_time": "2023-09-05T12:17:52.332Z"
   },
   {
    "duration": 34,
    "start_time": "2023-09-05T12:17:53.447Z"
   },
   {
    "duration": 286,
    "start_time": "2023-09-05T12:17:54.456Z"
   },
   {
    "duration": 25,
    "start_time": "2023-09-05T12:17:56.508Z"
   },
   {
    "duration": 98,
    "start_time": "2023-09-05T12:17:57.375Z"
   },
   {
    "duration": 115,
    "start_time": "2023-09-05T12:17:58.403Z"
   },
   {
    "duration": 55,
    "start_time": "2023-09-05T12:17:59.423Z"
   },
   {
    "duration": 114,
    "start_time": "2023-09-05T12:18:00.312Z"
   },
   {
    "duration": 28,
    "start_time": "2023-09-05T12:18:02.304Z"
   },
   {
    "duration": 66,
    "start_time": "2023-09-05T12:18:05.261Z"
   },
   {
    "duration": 6,
    "start_time": "2023-09-05T12:18:06.171Z"
   },
   {
    "duration": 14,
    "start_time": "2023-09-05T12:18:09.367Z"
   },
   {
    "duration": 9,
    "start_time": "2023-09-05T12:18:10.434Z"
   },
   {
    "duration": 19,
    "start_time": "2023-09-05T12:18:11.304Z"
   },
   {
    "duration": 10,
    "start_time": "2023-09-05T12:18:12.669Z"
   },
   {
    "duration": 56,
    "start_time": "2023-09-05T12:18:13.600Z"
   },
   {
    "duration": 7,
    "start_time": "2023-09-05T12:18:17.370Z"
   },
   {
    "duration": 8,
    "start_time": "2023-09-05T12:18:19.856Z"
   },
   {
    "duration": 5,
    "start_time": "2023-09-05T12:18:20.500Z"
   },
   {
    "duration": 6,
    "start_time": "2023-09-05T12:18:21.202Z"
   },
   {
    "duration": 5,
    "start_time": "2023-09-05T12:18:22.564Z"
   },
   {
    "duration": 7,
    "start_time": "2023-09-05T12:18:23.178Z"
   },
   {
    "duration": 5,
    "start_time": "2023-09-05T12:18:23.852Z"
   },
   {
    "duration": 5,
    "start_time": "2023-09-05T12:18:25.261Z"
   },
   {
    "duration": 12,
    "start_time": "2023-09-05T12:18:25.821Z"
   },
   {
    "duration": 4,
    "start_time": "2023-09-05T12:18:26.459Z"
   },
   {
    "duration": 4,
    "start_time": "2023-09-05T12:18:29.621Z"
   },
   {
    "duration": 5,
    "start_time": "2023-09-05T12:18:31.356Z"
   },
   {
    "duration": 46,
    "start_time": "2023-09-05T12:18:32.218Z"
   },
   {
    "duration": 851,
    "start_time": "2023-09-05T12:18:34.252Z"
   },
   {
    "duration": 2009,
    "start_time": "2023-09-05T12:18:36.576Z"
   },
   {
    "duration": 6,
    "start_time": "2023-09-05T12:18:39.960Z"
   },
   {
    "duration": 3,
    "start_time": "2023-09-05T12:18:46.199Z"
   },
   {
    "duration": 5,
    "start_time": "2023-09-05T12:18:49.132Z"
   },
   {
    "duration": 2,
    "start_time": "2023-09-05T12:18:51.751Z"
   },
   {
    "duration": 9,
    "start_time": "2023-09-05T12:18:52.508Z"
   },
   {
    "duration": 108,
    "start_time": "2023-09-05T12:18:54.201Z"
   },
   {
    "duration": 4,
    "start_time": "2023-09-05T12:18:57.321Z"
   },
   {
    "duration": 2,
    "start_time": "2023-09-05T12:19:03.559Z"
   },
   {
    "duration": 3,
    "start_time": "2023-09-05T12:19:06.403Z"
   },
   {
    "duration": 169,
    "start_time": "2023-09-05T12:19:07.516Z"
   },
   {
    "duration": 3,
    "start_time": "2023-09-05T12:20:20.167Z"
   },
   {
    "duration": 21856,
    "start_time": "2023-09-05T12:20:21.293Z"
   },
   {
    "duration": 3,
    "start_time": "2023-09-05T12:20:50.377Z"
   },
   {
    "duration": 83317,
    "start_time": "2023-09-05T12:20:51.564Z"
   },
   {
    "duration": 4,
    "start_time": "2023-09-05T12:22:14.882Z"
   },
   {
    "duration": 190590,
    "start_time": "2023-09-05T12:22:14.888Z"
   },
   {
    "duration": 25,
    "start_time": "2023-09-05T12:39:54.338Z"
   },
   {
    "duration": 29,
    "start_time": "2023-09-05T12:41:17.736Z"
   },
   {
    "duration": 21,
    "start_time": "2023-09-05T12:47:23.844Z"
   },
   {
    "duration": 6,
    "start_time": "2023-09-05T13:15:56.722Z"
   },
   {
    "duration": 197,
    "start_time": "2023-09-05T13:19:51.362Z"
   },
   {
    "duration": 12,
    "start_time": "2023-09-05T13:19:56.950Z"
   },
   {
    "duration": 9234,
    "start_time": "2023-09-05T13:46:49.328Z"
   },
   {
    "duration": 95,
    "start_time": "2023-09-05T13:46:58.564Z"
   },
   {
    "duration": 4,
    "start_time": "2023-09-05T13:46:58.661Z"
   },
   {
    "duration": 46,
    "start_time": "2023-09-05T13:46:58.668Z"
   },
   {
    "duration": 207,
    "start_time": "2023-09-05T13:46:58.715Z"
   },
   {
    "duration": 30,
    "start_time": "2023-09-05T13:46:58.923Z"
   },
   {
    "duration": 108,
    "start_time": "2023-09-05T13:46:58.955Z"
   },
   {
    "duration": 130,
    "start_time": "2023-09-05T13:46:59.065Z"
   },
   {
    "duration": 50,
    "start_time": "2023-09-05T13:46:59.197Z"
   },
   {
    "duration": 123,
    "start_time": "2023-09-05T13:46:59.250Z"
   },
   {
    "duration": 27,
    "start_time": "2023-09-05T13:46:59.375Z"
   },
   {
    "duration": 124,
    "start_time": "2023-09-05T13:46:59.404Z"
   },
   {
    "duration": 9,
    "start_time": "2023-09-05T13:46:59.537Z"
   },
   {
    "duration": 26,
    "start_time": "2023-09-05T13:46:59.548Z"
   },
   {
    "duration": 3,
    "start_time": "2023-09-05T13:46:59.576Z"
   },
   {
    "duration": 20,
    "start_time": "2023-09-05T13:46:59.581Z"
   },
   {
    "duration": 9,
    "start_time": "2023-09-05T13:46:59.602Z"
   },
   {
    "duration": 66,
    "start_time": "2023-09-05T13:46:59.612Z"
   },
   {
    "duration": 6,
    "start_time": "2023-09-05T13:46:59.679Z"
   },
   {
    "duration": 16,
    "start_time": "2023-09-05T13:46:59.687Z"
   },
   {
    "duration": 11,
    "start_time": "2023-09-05T13:46:59.704Z"
   },
   {
    "duration": 9,
    "start_time": "2023-09-05T13:46:59.717Z"
   },
   {
    "duration": 6,
    "start_time": "2023-09-05T13:46:59.734Z"
   },
   {
    "duration": 9,
    "start_time": "2023-09-05T13:46:59.742Z"
   },
   {
    "duration": 8,
    "start_time": "2023-09-05T13:46:59.753Z"
   },
   {
    "duration": 5,
    "start_time": "2023-09-05T13:46:59.763Z"
   },
   {
    "duration": 15,
    "start_time": "2023-09-05T13:46:59.770Z"
   },
   {
    "duration": 4,
    "start_time": "2023-09-05T13:46:59.790Z"
   },
   {
    "duration": 24,
    "start_time": "2023-09-05T13:46:59.796Z"
   },
   {
    "duration": 17,
    "start_time": "2023-09-05T13:46:59.822Z"
   },
   {
    "duration": 64,
    "start_time": "2023-09-05T13:46:59.840Z"
   },
   {
    "duration": 898,
    "start_time": "2023-09-05T13:46:59.906Z"
   },
   {
    "duration": 2001,
    "start_time": "2023-09-05T13:47:00.805Z"
   },
   {
    "duration": 6,
    "start_time": "2023-09-05T13:47:02.808Z"
   },
   {
    "duration": 31,
    "start_time": "2023-09-05T13:47:02.816Z"
   },
   {
    "duration": 24,
    "start_time": "2023-09-05T13:47:02.848Z"
   },
   {
    "duration": 58,
    "start_time": "2023-09-05T13:47:02.874Z"
   },
   {
    "duration": 36,
    "start_time": "2023-09-05T13:47:02.935Z"
   },
   {
    "duration": 117,
    "start_time": "2023-09-05T13:47:02.973Z"
   },
   {
    "duration": 5,
    "start_time": "2023-09-05T13:47:03.091Z"
   },
   {
    "duration": 43,
    "start_time": "2023-09-05T13:47:03.098Z"
   },
   {
    "duration": 10,
    "start_time": "2023-09-05T13:47:03.143Z"
   },
   {
    "duration": 22192,
    "start_time": "2023-09-05T13:47:03.155Z"
   },
   {
    "duration": 3,
    "start_time": "2023-09-05T13:47:25.348Z"
   },
   {
    "duration": 85802,
    "start_time": "2023-09-05T13:47:25.353Z"
   },
   {
    "duration": 3,
    "start_time": "2023-09-05T13:48:51.157Z"
   },
   {
    "duration": 195835,
    "start_time": "2023-09-05T13:48:51.162Z"
   },
   {
    "duration": 20,
    "start_time": "2023-09-05T13:52:06.999Z"
   },
   {
    "duration": 17,
    "start_time": "2023-09-05T13:52:07.021Z"
   },
   {
    "duration": 207,
    "start_time": "2023-09-05T13:52:07.039Z"
   },
   {
    "duration": 11,
    "start_time": "2023-09-05T13:52:07.248Z"
   },
   {
    "duration": 9079,
    "start_time": "2023-09-05T14:36:54.093Z"
   },
   {
    "duration": 93,
    "start_time": "2023-09-05T14:37:03.174Z"
   },
   {
    "duration": 4,
    "start_time": "2023-09-05T14:37:03.269Z"
   },
   {
    "duration": 31,
    "start_time": "2023-09-05T14:37:03.318Z"
   },
   {
    "duration": 211,
    "start_time": "2023-09-05T14:37:03.853Z"
   },
   {
    "duration": 23,
    "start_time": "2023-09-05T14:37:04.196Z"
   },
   {
    "duration": 108,
    "start_time": "2023-09-05T14:37:04.336Z"
   },
   {
    "duration": 119,
    "start_time": "2023-09-05T14:37:04.489Z"
   },
   {
    "duration": 55,
    "start_time": "2023-09-05T14:37:04.713Z"
   },
   {
    "duration": 111,
    "start_time": "2023-09-05T14:37:05.044Z"
   },
   {
    "duration": 23,
    "start_time": "2023-09-05T14:37:05.498Z"
   },
   {
    "duration": 66,
    "start_time": "2023-09-05T14:37:07.226Z"
   },
   {
    "duration": 5,
    "start_time": "2023-09-05T14:37:07.933Z"
   },
   {
    "duration": 13,
    "start_time": "2023-09-05T14:37:10.800Z"
   },
   {
    "duration": 3,
    "start_time": "2023-09-05T14:37:11.841Z"
   },
   {
    "duration": 18,
    "start_time": "2023-09-05T14:37:12.443Z"
   },
   {
    "duration": 9,
    "start_time": "2023-09-05T14:37:14.295Z"
   },
   {
    "duration": 46,
    "start_time": "2023-09-05T14:37:15.309Z"
   },
   {
    "duration": 7,
    "start_time": "2023-09-05T14:37:22.722Z"
   },
   {
    "duration": 7,
    "start_time": "2023-09-05T14:37:25.408Z"
   },
   {
    "duration": 4,
    "start_time": "2023-09-05T14:37:26.474Z"
   },
   {
    "duration": 5,
    "start_time": "2023-09-05T14:37:27.251Z"
   },
   {
    "duration": 6,
    "start_time": "2023-09-05T14:37:31.034Z"
   },
   {
    "duration": 6,
    "start_time": "2023-09-05T14:37:31.937Z"
   },
   {
    "duration": 6,
    "start_time": "2023-09-05T14:37:32.918Z"
   },
   {
    "duration": 5,
    "start_time": "2023-09-05T14:37:51.766Z"
   },
   {
    "duration": 12,
    "start_time": "2023-09-05T14:37:52.687Z"
   },
   {
    "duration": 4,
    "start_time": "2023-09-05T14:37:54.437Z"
   },
   {
    "duration": 4,
    "start_time": "2023-09-05T14:37:59.334Z"
   },
   {
    "duration": 6,
    "start_time": "2023-09-05T14:38:02.402Z"
   },
   {
    "duration": 45,
    "start_time": "2023-09-05T14:38:03.241Z"
   },
   {
    "duration": 744,
    "start_time": "2023-09-05T14:38:08.670Z"
   },
   {
    "duration": 1773,
    "start_time": "2023-09-05T14:38:14.264Z"
   },
   {
    "duration": 4,
    "start_time": "2023-09-05T14:38:29.986Z"
   },
   {
    "duration": 1849,
    "start_time": "2023-09-05T14:41:16.160Z"
   },
   {
    "duration": 1808,
    "start_time": "2023-09-05T14:56:17.047Z"
   },
   {
    "duration": 181,
    "start_time": "2023-09-05T14:58:52.001Z"
   },
   {
    "duration": 1718,
    "start_time": "2023-09-05T14:59:12.273Z"
   },
   {
    "duration": 1441,
    "start_time": "2023-09-05T14:59:31.183Z"
   },
   {
    "duration": 9302,
    "start_time": "2023-09-05T15:00:31.341Z"
   },
   {
    "duration": 94,
    "start_time": "2023-09-05T15:00:40.645Z"
   },
   {
    "duration": 4,
    "start_time": "2023-09-05T15:00:40.741Z"
   },
   {
    "duration": 70,
    "start_time": "2023-09-05T15:00:40.747Z"
   },
   {
    "duration": 203,
    "start_time": "2023-09-05T15:00:40.819Z"
   },
   {
    "duration": 23,
    "start_time": "2023-09-05T15:00:41.239Z"
   },
   {
    "duration": 99,
    "start_time": "2023-09-05T15:00:42.190Z"
   },
   {
    "duration": 134,
    "start_time": "2023-09-05T15:00:42.716Z"
   },
   {
    "duration": 42,
    "start_time": "2023-09-05T15:00:43.309Z"
   },
   {
    "duration": 140,
    "start_time": "2023-09-05T15:00:43.919Z"
   },
   {
    "duration": 24,
    "start_time": "2023-09-05T15:00:45.444Z"
   },
   {
    "duration": 71,
    "start_time": "2023-09-05T15:00:48.855Z"
   },
   {
    "duration": 6,
    "start_time": "2023-09-05T15:00:49.905Z"
   },
   {
    "duration": 12,
    "start_time": "2023-09-05T15:00:51.102Z"
   },
   {
    "duration": 3,
    "start_time": "2023-09-05T15:00:51.328Z"
   },
   {
    "duration": 20,
    "start_time": "2023-09-05T15:00:51.548Z"
   },
   {
    "duration": 9,
    "start_time": "2023-09-05T15:00:52.433Z"
   },
   {
    "duration": 54,
    "start_time": "2023-09-05T15:00:52.730Z"
   },
   {
    "duration": 6,
    "start_time": "2023-09-05T15:00:55.335Z"
   },
   {
    "duration": 7,
    "start_time": "2023-09-05T15:00:57.000Z"
   },
   {
    "duration": 4,
    "start_time": "2023-09-05T15:00:57.818Z"
   },
   {
    "duration": 5,
    "start_time": "2023-09-05T15:00:58.025Z"
   },
   {
    "duration": 6,
    "start_time": "2023-09-05T15:01:00.028Z"
   },
   {
    "duration": 7,
    "start_time": "2023-09-05T15:01:00.206Z"
   },
   {
    "duration": 7,
    "start_time": "2023-09-05T15:01:01.386Z"
   },
   {
    "duration": 15,
    "start_time": "2023-09-05T15:01:04.608Z"
   },
   {
    "duration": 3,
    "start_time": "2023-09-05T15:01:05.189Z"
   },
   {
    "duration": 4,
    "start_time": "2023-09-05T15:01:10.551Z"
   },
   {
    "duration": 6,
    "start_time": "2023-09-05T15:01:15.041Z"
   },
   {
    "duration": 45,
    "start_time": "2023-09-05T15:01:15.733Z"
   },
   {
    "duration": 801,
    "start_time": "2023-09-05T15:01:21.158Z"
   },
   {
    "duration": 1939,
    "start_time": "2023-09-05T15:01:31.503Z"
   },
   {
    "duration": 6783,
    "start_time": "2023-09-05T15:06:45.782Z"
   },
   {
    "duration": 1747,
    "start_time": "2023-09-05T15:08:10.403Z"
   },
   {
    "duration": 6,
    "start_time": "2023-09-05T15:11:42.320Z"
   },
   {
    "duration": 451,
    "start_time": "2023-09-05T15:13:09.330Z"
   },
   {
    "duration": 9429,
    "start_time": "2023-09-05T15:13:55.090Z"
   },
   {
    "duration": 107,
    "start_time": "2023-09-05T15:14:04.522Z"
   },
   {
    "duration": 5,
    "start_time": "2023-09-05T15:14:04.631Z"
   },
   {
    "duration": 55,
    "start_time": "2023-09-05T15:14:04.638Z"
   },
   {
    "duration": 207,
    "start_time": "2023-09-05T15:14:04.695Z"
   },
   {
    "duration": 32,
    "start_time": "2023-09-05T15:14:04.904Z"
   },
   {
    "duration": 97,
    "start_time": "2023-09-05T15:14:04.937Z"
   },
   {
    "duration": 114,
    "start_time": "2023-09-05T15:14:05.036Z"
   },
   {
    "duration": 39,
    "start_time": "2023-09-05T15:14:05.152Z"
   },
   {
    "duration": 125,
    "start_time": "2023-09-05T15:14:05.192Z"
   },
   {
    "duration": 29,
    "start_time": "2023-09-05T15:14:05.318Z"
   },
   {
    "duration": 64,
    "start_time": "2023-09-05T15:14:05.919Z"
   },
   {
    "duration": 8,
    "start_time": "2023-09-05T15:14:06.198Z"
   },
   {
    "duration": 12,
    "start_time": "2023-09-05T15:14:07.801Z"
   },
   {
    "duration": 2,
    "start_time": "2023-09-05T15:14:07.946Z"
   },
   {
    "duration": 17,
    "start_time": "2023-09-05T15:14:08.100Z"
   },
   {
    "duration": 9,
    "start_time": "2023-09-05T15:14:09.167Z"
   },
   {
    "duration": 47,
    "start_time": "2023-09-05T15:14:09.302Z"
   },
   {
    "duration": 7,
    "start_time": "2023-09-05T15:14:12.158Z"
   },
   {
    "duration": 7,
    "start_time": "2023-09-05T15:14:17.733Z"
   },
   {
    "duration": 5,
    "start_time": "2023-09-05T15:14:18.614Z"
   },
   {
    "duration": 5,
    "start_time": "2023-09-05T15:14:19.316Z"
   },
   {
    "duration": 7,
    "start_time": "2023-09-05T15:14:24.546Z"
   },
   {
    "duration": 6,
    "start_time": "2023-09-05T15:14:25.233Z"
   },
   {
    "duration": 5,
    "start_time": "2023-09-05T15:14:28.018Z"
   },
   {
    "duration": 12,
    "start_time": "2023-09-05T15:14:28.189Z"
   },
   {
    "duration": 3,
    "start_time": "2023-09-05T15:14:28.398Z"
   },
   {
    "duration": 4,
    "start_time": "2023-09-05T15:14:33.293Z"
   },
   {
    "duration": 5,
    "start_time": "2023-09-05T15:14:36.628Z"
   },
   {
    "duration": 44,
    "start_time": "2023-09-05T15:14:36.849Z"
   },
   {
    "duration": 782,
    "start_time": "2023-09-05T15:14:47.565Z"
   },
   {
    "duration": 1797,
    "start_time": "2023-09-05T15:14:51.268Z"
   },
   {
    "duration": 7,
    "start_time": "2023-09-05T15:23:31.656Z"
   },
   {
    "duration": 281,
    "start_time": "2023-09-05T15:23:46.137Z"
   },
   {
    "duration": 162,
    "start_time": "2023-09-05T15:54:03.564Z"
   },
   {
    "duration": 4,
    "start_time": "2023-09-05T15:54:27.616Z"
   },
   {
    "duration": 9158,
    "start_time": "2023-09-05T16:03:18.548Z"
   },
   {
    "duration": 95,
    "start_time": "2023-09-05T16:03:27.708Z"
   },
   {
    "duration": 5,
    "start_time": "2023-09-05T16:03:27.804Z"
   },
   {
    "duration": 41,
    "start_time": "2023-09-05T16:03:27.811Z"
   },
   {
    "duration": 219,
    "start_time": "2023-09-05T16:03:27.853Z"
   },
   {
    "duration": 23,
    "start_time": "2023-09-05T16:03:28.074Z"
   },
   {
    "duration": 119,
    "start_time": "2023-09-05T16:03:28.099Z"
   },
   {
    "duration": 118,
    "start_time": "2023-09-05T16:03:28.220Z"
   },
   {
    "duration": 40,
    "start_time": "2023-09-05T16:03:28.340Z"
   },
   {
    "duration": 123,
    "start_time": "2023-09-05T16:03:28.382Z"
   },
   {
    "duration": 33,
    "start_time": "2023-09-05T16:03:28.506Z"
   },
   {
    "duration": 74,
    "start_time": "2023-09-05T16:03:28.541Z"
   },
   {
    "duration": 6,
    "start_time": "2023-09-05T16:03:28.616Z"
   },
   {
    "duration": 45,
    "start_time": "2023-09-05T16:03:28.623Z"
   },
   {
    "duration": 25,
    "start_time": "2023-09-05T16:03:28.670Z"
   },
   {
    "duration": 24,
    "start_time": "2023-09-05T16:03:28.697Z"
   },
   {
    "duration": 29,
    "start_time": "2023-09-05T16:03:28.723Z"
   },
   {
    "duration": 51,
    "start_time": "2023-09-05T16:03:28.753Z"
   },
   {
    "duration": 7,
    "start_time": "2023-09-05T16:03:28.806Z"
   },
   {
    "duration": 21,
    "start_time": "2023-09-05T16:03:28.815Z"
   },
   {
    "duration": 7,
    "start_time": "2023-09-05T16:03:28.837Z"
   },
   {
    "duration": 13,
    "start_time": "2023-09-05T16:03:28.846Z"
   },
   {
    "duration": 16,
    "start_time": "2023-09-05T16:03:28.861Z"
   },
   {
    "duration": 21,
    "start_time": "2023-09-05T16:03:28.878Z"
   },
   {
    "duration": 14,
    "start_time": "2023-09-05T16:03:28.901Z"
   },
   {
    "duration": 13,
    "start_time": "2023-09-05T16:03:28.916Z"
   },
   {
    "duration": 3,
    "start_time": "2023-09-05T16:03:28.931Z"
   },
   {
    "duration": 5,
    "start_time": "2023-09-05T16:03:28.937Z"
   },
   {
    "duration": 8,
    "start_time": "2023-09-05T16:03:28.943Z"
   },
   {
    "duration": 46,
    "start_time": "2023-09-05T16:03:28.952Z"
   },
   {
    "duration": 792,
    "start_time": "2023-09-05T16:03:29.000Z"
   },
   {
    "duration": 1752,
    "start_time": "2023-09-05T16:03:29.794Z"
   },
   {
    "duration": 4,
    "start_time": "2023-09-05T16:03:31.548Z"
   },
   {
    "duration": 60,
    "start_time": "2023-09-05T16:03:31.553Z"
   },
   {
    "duration": 21,
    "start_time": "2023-09-05T16:03:31.615Z"
   },
   {
    "duration": 28,
    "start_time": "2023-09-05T16:03:31.638Z"
   },
   {
    "duration": 43,
    "start_time": "2023-09-05T16:03:31.668Z"
   },
   {
    "duration": 124,
    "start_time": "2023-09-05T16:03:31.713Z"
   },
   {
    "duration": 5,
    "start_time": "2023-09-05T16:03:31.839Z"
   },
   {
    "duration": 55,
    "start_time": "2023-09-05T16:03:31.845Z"
   },
   {
    "duration": 39,
    "start_time": "2023-09-05T16:03:31.902Z"
   },
   {
    "duration": 21409,
    "start_time": "2023-09-05T16:03:31.942Z"
   },
   {
    "duration": 4,
    "start_time": "2023-09-05T16:03:53.352Z"
   },
   {
    "duration": 84227,
    "start_time": "2023-09-05T16:03:53.358Z"
   },
   {
    "duration": 3,
    "start_time": "2023-09-05T16:05:17.587Z"
   },
   {
    "duration": 190895,
    "start_time": "2023-09-05T16:05:17.592Z"
   },
   {
    "duration": 20,
    "start_time": "2023-09-05T16:08:28.489Z"
   },
   {
    "duration": 29,
    "start_time": "2023-09-05T16:08:28.510Z"
   },
   {
    "duration": 223,
    "start_time": "2023-09-05T16:08:28.541Z"
   },
   {
    "duration": 74,
    "start_time": "2023-09-05T16:08:28.765Z"
   },
   {
    "duration": 13060,
    "start_time": "2023-09-06T12:38:29.167Z"
   },
   {
    "duration": 111,
    "start_time": "2023-09-06T12:38:42.229Z"
   },
   {
    "duration": 5,
    "start_time": "2023-09-06T12:38:42.342Z"
   },
   {
    "duration": 55,
    "start_time": "2023-09-06T12:38:42.351Z"
   },
   {
    "duration": 246,
    "start_time": "2023-09-06T12:38:42.408Z"
   },
   {
    "duration": 48,
    "start_time": "2023-09-06T12:38:42.656Z"
   },
   {
    "duration": 105,
    "start_time": "2023-09-06T12:38:42.706Z"
   },
   {
    "duration": 127,
    "start_time": "2023-09-06T12:38:42.813Z"
   },
   {
    "duration": 54,
    "start_time": "2023-09-06T12:38:42.954Z"
   },
   {
    "duration": 120,
    "start_time": "2023-09-06T12:38:43.010Z"
   },
   {
    "duration": 38,
    "start_time": "2023-09-06T12:38:43.132Z"
   },
   {
    "duration": 96,
    "start_time": "2023-09-06T12:38:43.172Z"
   },
   {
    "duration": 8,
    "start_time": "2023-09-06T12:38:43.270Z"
   },
   {
    "duration": 20,
    "start_time": "2023-09-06T12:38:43.281Z"
   },
   {
    "duration": 3,
    "start_time": "2023-09-06T12:38:43.303Z"
   },
   {
    "duration": 23,
    "start_time": "2023-09-06T12:38:43.308Z"
   },
   {
    "duration": 35,
    "start_time": "2023-09-06T12:38:43.332Z"
   },
   {
    "duration": 50,
    "start_time": "2023-09-06T12:38:43.383Z"
   },
   {
    "duration": 7,
    "start_time": "2023-09-06T12:38:43.435Z"
   },
   {
    "duration": 42,
    "start_time": "2023-09-06T12:38:43.444Z"
   },
   {
    "duration": 5,
    "start_time": "2023-09-06T12:38:43.487Z"
   },
   {
    "duration": 21,
    "start_time": "2023-09-06T12:38:43.495Z"
   },
   {
    "duration": 10,
    "start_time": "2023-09-06T12:38:43.518Z"
   },
   {
    "duration": 7,
    "start_time": "2023-09-06T12:38:43.529Z"
   },
   {
    "duration": 8,
    "start_time": "2023-09-06T12:38:43.537Z"
   },
   {
    "duration": 61,
    "start_time": "2023-09-06T12:38:43.546Z"
   },
   {
    "duration": 4,
    "start_time": "2023-09-06T12:38:43.612Z"
   },
   {
    "duration": 8,
    "start_time": "2023-09-06T12:38:43.618Z"
   },
   {
    "duration": 6,
    "start_time": "2023-09-06T12:38:43.628Z"
   },
   {
    "duration": 75,
    "start_time": "2023-09-06T12:38:43.636Z"
   },
   {
    "duration": 937,
    "start_time": "2023-09-06T12:38:43.713Z"
   },
   {
    "duration": 2086,
    "start_time": "2023-09-06T12:38:44.653Z"
   },
   {
    "duration": 21,
    "start_time": "2023-09-06T12:38:46.741Z"
   },
   {
    "duration": 32,
    "start_time": "2023-09-06T12:38:46.765Z"
   },
   {
    "duration": 19,
    "start_time": "2023-09-06T12:38:46.801Z"
   },
   {
    "duration": 20,
    "start_time": "2023-09-06T12:39:08.602Z"
   },
   {
    "duration": 1153,
    "start_time": "2023-09-06T12:39:26.769Z"
   },
   {
    "duration": 23023,
    "start_time": "2023-09-06T17:37:14.704Z"
   },
   {
    "duration": 512,
    "start_time": "2023-09-06T17:37:37.729Z"
   },
   {
    "duration": 5,
    "start_time": "2023-09-06T17:37:38.243Z"
   },
   {
    "duration": 49,
    "start_time": "2023-09-06T17:37:38.250Z"
   },
   {
    "duration": 267,
    "start_time": "2023-09-06T17:37:38.301Z"
   },
   {
    "duration": 32,
    "start_time": "2023-09-06T17:37:38.570Z"
   },
   {
    "duration": 143,
    "start_time": "2023-09-06T17:37:38.604Z"
   },
   {
    "duration": 168,
    "start_time": "2023-09-06T17:37:38.749Z"
   },
   {
    "duration": 50,
    "start_time": "2023-09-06T17:37:38.923Z"
   },
   {
    "duration": 171,
    "start_time": "2023-09-06T17:37:38.975Z"
   },
   {
    "duration": 31,
    "start_time": "2023-09-06T17:37:39.147Z"
   },
   {
    "duration": 109,
    "start_time": "2023-09-06T17:37:39.181Z"
   },
   {
    "duration": 8,
    "start_time": "2023-09-06T17:37:39.292Z"
   },
   {
    "duration": 36,
    "start_time": "2023-09-06T17:37:39.303Z"
   },
   {
    "duration": 2,
    "start_time": "2023-09-06T17:37:39.341Z"
   },
   {
    "duration": 31,
    "start_time": "2023-09-06T17:37:39.345Z"
   },
   {
    "duration": 25,
    "start_time": "2023-09-06T17:37:39.377Z"
   },
   {
    "duration": 64,
    "start_time": "2023-09-06T17:37:39.404Z"
   },
   {
    "duration": 7,
    "start_time": "2023-09-06T17:37:39.469Z"
   },
   {
    "duration": 29,
    "start_time": "2023-09-06T17:37:39.478Z"
   },
   {
    "duration": 6,
    "start_time": "2023-09-06T17:37:39.517Z"
   },
   {
    "duration": 16,
    "start_time": "2023-09-06T17:37:39.525Z"
   },
   {
    "duration": 7,
    "start_time": "2023-09-06T17:37:39.543Z"
   },
   {
    "duration": 6,
    "start_time": "2023-09-06T17:37:39.551Z"
   },
   {
    "duration": 8,
    "start_time": "2023-09-06T17:37:39.558Z"
   },
   {
    "duration": 11,
    "start_time": "2023-09-06T17:37:39.567Z"
   },
   {
    "duration": 28,
    "start_time": "2023-09-06T17:37:39.579Z"
   },
   {
    "duration": 11,
    "start_time": "2023-09-06T17:37:39.610Z"
   },
   {
    "duration": 15,
    "start_time": "2023-09-06T17:37:40.214Z"
   },
   {
    "duration": 49,
    "start_time": "2023-09-06T17:37:41.231Z"
   },
   {
    "duration": 1010,
    "start_time": "2023-09-06T17:37:44.109Z"
   },
   {
    "duration": 2294,
    "start_time": "2023-09-06T17:37:51.416Z"
   },
   {
    "duration": 7,
    "start_time": "2023-09-06T17:37:56.894Z"
   },
   {
    "duration": 4,
    "start_time": "2023-09-06T17:38:05.615Z"
   },
   {
    "duration": 8208,
    "start_time": "2023-09-06T17:39:59.957Z"
   },
   {
    "duration": 521,
    "start_time": "2023-09-06T17:40:59.652Z"
   },
   {
    "duration": 2,
    "start_time": "2023-09-06T17:41:26.634Z"
   },
   {
    "duration": 477,
    "start_time": "2023-09-06T17:41:27.482Z"
   },
   {
    "duration": 3,
    "start_time": "2023-09-06T17:42:45.453Z"
   },
   {
    "duration": 499,
    "start_time": "2023-09-06T17:42:45.900Z"
   },
   {
    "duration": 12720,
    "start_time": "2023-09-06T17:52:03.407Z"
   },
   {
    "duration": 134,
    "start_time": "2023-09-06T17:52:16.143Z"
   },
   {
    "duration": 10,
    "start_time": "2023-09-06T17:52:16.280Z"
   },
   {
    "duration": 81,
    "start_time": "2023-09-06T17:52:16.292Z"
   },
   {
    "duration": 316,
    "start_time": "2023-09-06T17:52:16.375Z"
   },
   {
    "duration": 42,
    "start_time": "2023-09-06T17:52:16.693Z"
   },
   {
    "duration": 134,
    "start_time": "2023-09-06T17:52:16.741Z"
   },
   {
    "duration": 161,
    "start_time": "2023-09-06T17:52:16.876Z"
   },
   {
    "duration": 62,
    "start_time": "2023-09-06T17:52:17.039Z"
   },
   {
    "duration": 174,
    "start_time": "2023-09-06T17:52:17.110Z"
   },
   {
    "duration": 35,
    "start_time": "2023-09-06T17:52:17.288Z"
   },
   {
    "duration": 122,
    "start_time": "2023-09-06T17:52:17.326Z"
   },
   {
    "duration": 7,
    "start_time": "2023-09-06T17:52:17.452Z"
   },
   {
    "duration": 73,
    "start_time": "2023-09-06T17:52:17.461Z"
   },
   {
    "duration": 85,
    "start_time": "2023-09-06T17:52:17.539Z"
   },
   {
    "duration": 88,
    "start_time": "2023-09-06T17:52:17.625Z"
   },
   {
    "duration": 27,
    "start_time": "2023-09-06T17:52:17.717Z"
   },
   {
    "duration": 130,
    "start_time": "2023-09-06T17:52:17.750Z"
   },
   {
    "duration": 9,
    "start_time": "2023-09-06T17:52:17.887Z"
   },
   {
    "duration": 45,
    "start_time": "2023-09-06T17:52:17.898Z"
   },
   {
    "duration": 11,
    "start_time": "2023-09-06T17:52:17.946Z"
   },
   {
    "duration": 17,
    "start_time": "2023-09-06T17:52:17.958Z"
   },
   {
    "duration": 24,
    "start_time": "2023-09-06T17:52:17.976Z"
   },
   {
    "duration": 11,
    "start_time": "2023-09-06T17:52:18.004Z"
   },
   {
    "duration": 8,
    "start_time": "2023-09-06T17:52:18.018Z"
   },
   {
    "duration": 30,
    "start_time": "2023-09-06T17:52:18.029Z"
   },
   {
    "duration": 4,
    "start_time": "2023-09-06T17:52:18.062Z"
   },
   {
    "duration": 5,
    "start_time": "2023-09-06T17:52:18.071Z"
   },
   {
    "duration": 14,
    "start_time": "2023-09-06T17:52:18.078Z"
   },
   {
    "duration": 93,
    "start_time": "2023-09-06T17:52:18.096Z"
   },
   {
    "duration": 1224,
    "start_time": "2023-09-06T17:52:18.191Z"
   },
   {
    "duration": 2378,
    "start_time": "2023-09-06T17:52:19.417Z"
   },
   {
    "duration": 28,
    "start_time": "2023-09-06T17:52:21.797Z"
   },
   {
    "duration": 9,
    "start_time": "2023-09-06T17:52:21.839Z"
   },
   {
    "duration": 507,
    "start_time": "2023-09-06T17:52:21.850Z"
   },
   {
    "duration": 4,
    "start_time": "2023-09-06T17:52:22.359Z"
   },
   {
    "duration": 6,
    "start_time": "2023-09-06T17:52:22.365Z"
   },
   {
    "duration": 53,
    "start_time": "2023-09-06T17:52:22.373Z"
   },
   {
    "duration": 323,
    "start_time": "2023-09-06T17:52:22.428Z"
   },
   {
    "duration": 5,
    "start_time": "2023-09-06T17:52:22.753Z"
   },
   {
    "duration": 33,
    "start_time": "2023-09-06T17:52:22.759Z"
   },
   {
    "duration": 15,
    "start_time": "2023-09-06T17:52:22.796Z"
   },
   {
    "duration": 2445,
    "start_time": "2023-09-06T17:52:22.814Z"
   },
   {
    "duration": 4,
    "start_time": "2023-09-06T17:52:25.262Z"
   },
   {
    "duration": 58897,
    "start_time": "2023-09-06T17:52:25.267Z"
   },
   {
    "duration": 4,
    "start_time": "2023-09-06T17:53:24.166Z"
   },
   {
    "duration": 227891,
    "start_time": "2023-09-06T17:53:24.172Z"
   },
   {
    "duration": 38,
    "start_time": "2023-09-06T17:57:12.065Z"
   },
   {
    "duration": 11,
    "start_time": "2023-09-06T17:57:12.112Z"
   },
   {
    "duration": 208,
    "start_time": "2023-09-06T17:57:12.127Z"
   },
   {
    "duration": 14,
    "start_time": "2023-09-06T17:57:12.341Z"
   },
   {
    "duration": 17446,
    "start_time": "2024-02-16T14:31:34.999Z"
   },
   {
    "duration": 259,
    "start_time": "2024-02-16T14:31:52.447Z"
   },
   {
    "duration": 0,
    "start_time": "2024-02-16T14:31:52.709Z"
   },
   {
    "duration": 0,
    "start_time": "2024-02-16T14:31:52.710Z"
   },
   {
    "duration": 1,
    "start_time": "2024-02-16T14:31:52.711Z"
   },
   {
    "duration": 0,
    "start_time": "2024-02-16T14:31:52.713Z"
   },
   {
    "duration": 0,
    "start_time": "2024-02-16T14:31:52.714Z"
   },
   {
    "duration": 0,
    "start_time": "2024-02-16T14:31:52.715Z"
   },
   {
    "duration": 0,
    "start_time": "2024-02-16T14:31:52.716Z"
   },
   {
    "duration": 0,
    "start_time": "2024-02-16T14:31:52.717Z"
   },
   {
    "duration": 0,
    "start_time": "2024-02-16T14:31:52.718Z"
   },
   {
    "duration": 0,
    "start_time": "2024-02-16T14:31:52.719Z"
   },
   {
    "duration": 0,
    "start_time": "2024-02-16T14:31:52.720Z"
   },
   {
    "duration": 0,
    "start_time": "2024-02-16T14:31:52.722Z"
   },
   {
    "duration": 0,
    "start_time": "2024-02-16T14:31:52.722Z"
   },
   {
    "duration": 0,
    "start_time": "2024-02-16T14:31:52.724Z"
   },
   {
    "duration": 0,
    "start_time": "2024-02-16T14:31:52.725Z"
   },
   {
    "duration": 0,
    "start_time": "2024-02-16T14:31:52.726Z"
   },
   {
    "duration": 0,
    "start_time": "2024-02-16T14:31:52.727Z"
   },
   {
    "duration": 0,
    "start_time": "2024-02-16T14:31:52.728Z"
   },
   {
    "duration": 0,
    "start_time": "2024-02-16T14:31:52.729Z"
   },
   {
    "duration": 0,
    "start_time": "2024-02-16T14:31:52.730Z"
   },
   {
    "duration": 0,
    "start_time": "2024-02-16T14:31:52.732Z"
   },
   {
    "duration": 0,
    "start_time": "2024-02-16T14:31:52.733Z"
   },
   {
    "duration": 0,
    "start_time": "2024-02-16T14:31:52.734Z"
   },
   {
    "duration": 0,
    "start_time": "2024-02-16T14:31:52.735Z"
   },
   {
    "duration": 0,
    "start_time": "2024-02-16T14:31:52.736Z"
   },
   {
    "duration": 0,
    "start_time": "2024-02-16T14:31:52.737Z"
   },
   {
    "duration": 0,
    "start_time": "2024-02-16T14:31:52.738Z"
   },
   {
    "duration": 0,
    "start_time": "2024-02-16T14:31:52.789Z"
   },
   {
    "duration": 0,
    "start_time": "2024-02-16T14:31:52.790Z"
   },
   {
    "duration": 0,
    "start_time": "2024-02-16T14:31:52.797Z"
   },
   {
    "duration": 0,
    "start_time": "2024-02-16T14:31:52.799Z"
   },
   {
    "duration": 0,
    "start_time": "2024-02-16T14:31:52.802Z"
   },
   {
    "duration": 0,
    "start_time": "2024-02-16T14:31:52.803Z"
   },
   {
    "duration": 0,
    "start_time": "2024-02-16T14:31:52.804Z"
   },
   {
    "duration": 0,
    "start_time": "2024-02-16T14:31:52.805Z"
   },
   {
    "duration": 0,
    "start_time": "2024-02-16T14:31:52.806Z"
   },
   {
    "duration": 0,
    "start_time": "2024-02-16T14:31:52.807Z"
   },
   {
    "duration": 0,
    "start_time": "2024-02-16T14:31:52.808Z"
   },
   {
    "duration": 0,
    "start_time": "2024-02-16T14:31:52.809Z"
   },
   {
    "duration": 0,
    "start_time": "2024-02-16T14:31:52.810Z"
   },
   {
    "duration": 0,
    "start_time": "2024-02-16T14:31:52.811Z"
   },
   {
    "duration": 0,
    "start_time": "2024-02-16T14:31:52.812Z"
   },
   {
    "duration": 0,
    "start_time": "2024-02-16T14:31:52.813Z"
   },
   {
    "duration": 0,
    "start_time": "2024-02-16T14:31:52.814Z"
   },
   {
    "duration": 0,
    "start_time": "2024-02-16T14:31:52.815Z"
   },
   {
    "duration": 0,
    "start_time": "2024-02-16T14:31:52.816Z"
   },
   {
    "duration": 0,
    "start_time": "2024-02-16T14:31:52.818Z"
   },
   {
    "duration": 0,
    "start_time": "2024-02-16T14:31:52.818Z"
   },
   {
    "duration": 0,
    "start_time": "2024-02-16T14:31:52.819Z"
   },
   {
    "duration": 0,
    "start_time": "2024-02-16T14:31:52.820Z"
   },
   {
    "duration": 0,
    "start_time": "2024-02-16T14:31:52.821Z"
   },
   {
    "duration": 0,
    "start_time": "2024-02-16T14:31:52.823Z"
   },
   {
    "duration": 0,
    "start_time": "2024-02-16T14:31:52.824Z"
   },
   {
    "duration": 10513,
    "start_time": "2024-02-16T14:40:03.246Z"
   },
   {
    "duration": 219,
    "start_time": "2024-02-16T14:40:13.761Z"
   },
   {
    "duration": 0,
    "start_time": "2024-02-16T14:40:13.984Z"
   },
   {
    "duration": 0,
    "start_time": "2024-02-16T14:40:13.985Z"
   },
   {
    "duration": 0,
    "start_time": "2024-02-16T14:40:13.991Z"
   },
   {
    "duration": 0,
    "start_time": "2024-02-16T14:40:13.992Z"
   },
   {
    "duration": 0,
    "start_time": "2024-02-16T14:40:13.993Z"
   },
   {
    "duration": 0,
    "start_time": "2024-02-16T14:40:13.994Z"
   },
   {
    "duration": 0,
    "start_time": "2024-02-16T14:40:13.994Z"
   },
   {
    "duration": 0,
    "start_time": "2024-02-16T14:40:13.995Z"
   },
   {
    "duration": 0,
    "start_time": "2024-02-16T14:40:13.998Z"
   },
   {
    "duration": 0,
    "start_time": "2024-02-16T14:40:14.003Z"
   },
   {
    "duration": 0,
    "start_time": "2024-02-16T14:40:14.005Z"
   },
   {
    "duration": 0,
    "start_time": "2024-02-16T14:40:14.006Z"
   },
   {
    "duration": 0,
    "start_time": "2024-02-16T14:40:14.007Z"
   },
   {
    "duration": 0,
    "start_time": "2024-02-16T14:40:14.008Z"
   },
   {
    "duration": 0,
    "start_time": "2024-02-16T14:40:14.010Z"
   },
   {
    "duration": 0,
    "start_time": "2024-02-16T14:40:14.010Z"
   },
   {
    "duration": 0,
    "start_time": "2024-02-16T14:40:14.012Z"
   },
   {
    "duration": 0,
    "start_time": "2024-02-16T14:40:14.013Z"
   },
   {
    "duration": 0,
    "start_time": "2024-02-16T14:40:14.014Z"
   },
   {
    "duration": 0,
    "start_time": "2024-02-16T14:40:14.015Z"
   },
   {
    "duration": 0,
    "start_time": "2024-02-16T14:40:14.016Z"
   },
   {
    "duration": 0,
    "start_time": "2024-02-16T14:40:14.017Z"
   },
   {
    "duration": 0,
    "start_time": "2024-02-16T14:40:14.018Z"
   },
   {
    "duration": 0,
    "start_time": "2024-02-16T14:40:14.019Z"
   },
   {
    "duration": 0,
    "start_time": "2024-02-16T14:40:14.020Z"
   },
   {
    "duration": 0,
    "start_time": "2024-02-16T14:40:14.021Z"
   },
   {
    "duration": 0,
    "start_time": "2024-02-16T14:40:14.022Z"
   },
   {
    "duration": 0,
    "start_time": "2024-02-16T14:40:14.023Z"
   },
   {
    "duration": 0,
    "start_time": "2024-02-16T14:40:14.024Z"
   },
   {
    "duration": 1,
    "start_time": "2024-02-16T14:40:14.024Z"
   },
   {
    "duration": 0,
    "start_time": "2024-02-16T14:40:14.026Z"
   },
   {
    "duration": 0,
    "start_time": "2024-02-16T14:40:14.026Z"
   },
   {
    "duration": 0,
    "start_time": "2024-02-16T14:40:14.027Z"
   },
   {
    "duration": 0,
    "start_time": "2024-02-16T14:40:14.028Z"
   },
   {
    "duration": 0,
    "start_time": "2024-02-16T14:40:14.029Z"
   },
   {
    "duration": 0,
    "start_time": "2024-02-16T14:40:14.030Z"
   },
   {
    "duration": 0,
    "start_time": "2024-02-16T14:40:14.031Z"
   },
   {
    "duration": 0,
    "start_time": "2024-02-16T14:40:14.090Z"
   },
   {
    "duration": 0,
    "start_time": "2024-02-16T14:40:14.091Z"
   },
   {
    "duration": 0,
    "start_time": "2024-02-16T14:40:14.092Z"
   },
   {
    "duration": 0,
    "start_time": "2024-02-16T14:40:14.093Z"
   },
   {
    "duration": 0,
    "start_time": "2024-02-16T14:40:14.104Z"
   },
   {
    "duration": 0,
    "start_time": "2024-02-16T14:40:14.104Z"
   },
   {
    "duration": 0,
    "start_time": "2024-02-16T14:40:14.105Z"
   },
   {
    "duration": 0,
    "start_time": "2024-02-16T14:40:14.107Z"
   },
   {
    "duration": 0,
    "start_time": "2024-02-16T14:40:14.108Z"
   },
   {
    "duration": 0,
    "start_time": "2024-02-16T14:40:14.109Z"
   },
   {
    "duration": 0,
    "start_time": "2024-02-16T14:40:14.110Z"
   },
   {
    "duration": 0,
    "start_time": "2024-02-16T14:40:14.111Z"
   },
   {
    "duration": 0,
    "start_time": "2024-02-16T14:40:14.112Z"
   },
   {
    "duration": 0,
    "start_time": "2024-02-16T14:40:14.113Z"
   },
   {
    "duration": 0,
    "start_time": "2024-02-16T14:40:14.114Z"
   },
   {
    "duration": 0,
    "start_time": "2024-02-16T14:40:14.115Z"
   },
   {
    "duration": 352,
    "start_time": "2024-02-16T14:56:26.306Z"
   },
   {
    "duration": 10029,
    "start_time": "2024-02-16T14:57:05.278Z"
   },
   {
    "duration": 98,
    "start_time": "2024-02-16T14:57:15.309Z"
   },
   {
    "duration": 2,
    "start_time": "2024-02-16T14:57:15.409Z"
   },
   {
    "duration": 27,
    "start_time": "2024-02-16T14:57:15.413Z"
   },
   {
    "duration": 45,
    "start_time": "2024-02-16T14:57:15.442Z"
   },
   {
    "duration": 256,
    "start_time": "2024-02-16T14:57:15.489Z"
   },
   {
    "duration": 26,
    "start_time": "2024-02-16T14:57:15.747Z"
   },
   {
    "duration": 111,
    "start_time": "2024-02-16T14:57:15.787Z"
   },
   {
    "duration": 118,
    "start_time": "2024-02-16T14:57:15.899Z"
   },
   {
    "duration": 39,
    "start_time": "2024-02-16T14:57:16.019Z"
   },
   {
    "duration": 131,
    "start_time": "2024-02-16T14:57:16.060Z"
   },
   {
    "duration": 23,
    "start_time": "2024-02-16T14:57:16.192Z"
   },
   {
    "duration": 84,
    "start_time": "2024-02-16T14:57:16.217Z"
   },
   {
    "duration": 5,
    "start_time": "2024-02-16T14:57:16.304Z"
   },
   {
    "duration": 40,
    "start_time": "2024-02-16T14:57:16.310Z"
   },
   {
    "duration": 3,
    "start_time": "2024-02-16T14:57:16.352Z"
   },
   {
    "duration": 22,
    "start_time": "2024-02-16T14:57:16.356Z"
   },
   {
    "duration": 15,
    "start_time": "2024-02-16T14:57:16.380Z"
   },
   {
    "duration": 68,
    "start_time": "2024-02-16T14:57:16.396Z"
   },
   {
    "duration": 6,
    "start_time": "2024-02-16T14:57:16.465Z"
   },
   {
    "duration": 18,
    "start_time": "2024-02-16T14:57:16.472Z"
   },
   {
    "duration": 7,
    "start_time": "2024-02-16T14:57:16.491Z"
   },
   {
    "duration": 17,
    "start_time": "2024-02-16T14:57:16.499Z"
   },
   {
    "duration": 7,
    "start_time": "2024-02-16T14:57:16.517Z"
   },
   {
    "duration": 6,
    "start_time": "2024-02-16T14:57:16.525Z"
   },
   {
    "duration": 6,
    "start_time": "2024-02-16T14:57:16.532Z"
   },
   {
    "duration": 12,
    "start_time": "2024-02-16T14:57:16.539Z"
   },
   {
    "duration": 3,
    "start_time": "2024-02-16T14:57:16.552Z"
   },
   {
    "duration": 6,
    "start_time": "2024-02-16T14:57:16.556Z"
   },
   {
    "duration": 7,
    "start_time": "2024-02-16T14:57:16.563Z"
   },
   {
    "duration": 59,
    "start_time": "2024-02-16T14:57:16.572Z"
   },
   {
    "duration": 772,
    "start_time": "2024-02-16T14:57:16.632Z"
   },
   {
    "duration": 1806,
    "start_time": "2024-02-16T14:57:17.406Z"
   },
   {
    "duration": 5,
    "start_time": "2024-02-16T14:57:19.213Z"
   },
   {
    "duration": 36,
    "start_time": "2024-02-16T14:57:19.220Z"
   },
   {
    "duration": 371,
    "start_time": "2024-02-16T14:57:19.258Z"
   },
   {
    "duration": 4,
    "start_time": "2024-02-16T14:57:19.631Z"
   },
   {
    "duration": 7,
    "start_time": "2024-02-16T14:57:19.636Z"
   },
   {
    "duration": 13,
    "start_time": "2024-02-16T14:57:19.644Z"
   },
   {
    "duration": 231,
    "start_time": "2024-02-16T14:57:19.658Z"
   },
   {
    "duration": 5,
    "start_time": "2024-02-16T14:57:19.892Z"
   },
   {
    "duration": 19,
    "start_time": "2024-02-16T14:57:19.898Z"
   },
   {
    "duration": 5,
    "start_time": "2024-02-16T14:57:19.918Z"
   },
   {
    "duration": 1867,
    "start_time": "2024-02-16T14:57:19.924Z"
   },
   {
    "duration": 3,
    "start_time": "2024-02-16T14:57:21.793Z"
   },
   {
    "duration": 51839,
    "start_time": "2024-02-16T14:57:21.798Z"
   },
   {
    "duration": 4,
    "start_time": "2024-02-16T14:58:13.638Z"
   },
   {
    "duration": 159364,
    "start_time": "2024-02-16T14:58:13.644Z"
   },
   {
    "duration": 18,
    "start_time": "2024-02-16T15:00:53.010Z"
   },
   {
    "duration": 12,
    "start_time": "2024-02-16T15:00:53.030Z"
   },
   {
    "duration": 24,
    "start_time": "2024-02-16T15:00:53.043Z"
   },
   {
    "duration": 252,
    "start_time": "2024-02-16T15:00:53.069Z"
   },
   {
    "duration": 13,
    "start_time": "2024-02-16T15:00:53.322Z"
   },
   {
    "duration": 4,
    "start_time": "2024-02-16T15:00:53.336Z"
   },
   {
    "duration": 195,
    "start_time": "2024-02-16T15:00:53.342Z"
   },
   {
    "duration": 176,
    "start_time": "2024-02-16T15:00:53.538Z"
   }
  ],
  "kernelspec": {
   "display_name": "Python 3 (ipykernel)",
   "language": "python",
   "name": "python3"
  },
  "language_info": {
   "codemirror_mode": {
    "name": "ipython",
    "version": 3
   },
   "file_extension": ".py",
   "mimetype": "text/x-python",
   "name": "python",
   "nbconvert_exporter": "python",
   "pygments_lexer": "ipython3",
   "version": "3.9.5"
  },
  "toc": {
   "base_numbering": 1,
   "nav_menu": {},
   "number_sections": true,
   "sideBar": true,
   "skip_h1_title": true,
   "title_cell": "Table of Contents",
   "title_sidebar": "Contents",
   "toc_cell": false,
   "toc_position": {},
   "toc_section_display": true,
   "toc_window_display": true
  }
 },
 "nbformat": 4,
 "nbformat_minor": 4
}
